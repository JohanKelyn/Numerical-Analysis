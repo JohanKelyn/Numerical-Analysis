{
 "cells": [
  {
   "cell_type": "markdown",
   "metadata": {},
   "source": [
    "# Comparing Iterative Methods"
   ]
  },
  {
   "cell_type": "code",
   "execution_count": 1,
   "metadata": {
    "collapsed": true
   },
   "outputs": [],
   "source": [
    "%run jacobi.ipynb\n",
    "%run gauss_seidel.ipynb\n",
    "%run sor.ipynb\n",
    "%matplotlib inline"
   ]
  },
  {
   "cell_type": "code",
   "execution_count": 2,
   "metadata": {
    "collapsed": true
   },
   "outputs": [],
   "source": [
    "n = 100\n",
    "A = np.identity(n)*3\n",
    "\n",
    "for i in range(0,n-1):\n",
    "    A[i,i+1] = -1\n",
    "    A[i+1,i] = -1\n",
    "#print(\"A = \")\n",
    "#print(A)\n",
    "\n",
    "b = np.ones((n,1))\n",
    "b[0] = 2\n",
    "b[-1] = 2\n",
    "#print(\"b = \")\n",
    "#print(b)"
   ]
  },
  {
   "cell_type": "code",
   "execution_count": 4,
   "metadata": {
    "collapsed": true
   },
   "outputs": [],
   "source": [
    "tol = 10**-6\n",
    "w = 1.13\n",
    "[x1, step1, err1] = jacobi(A,b,tol)\n",
    "[x2, step2, err2] = gauss_seidel(A,b,tol)\n",
    "[x3, step3, err3] = sor(A,b,tol,w)"
   ]
  },
  {
   "cell_type": "code",
   "execution_count": 5,
   "metadata": {},
   "outputs": [
    {
     "data": {
      "text/plain": [
       "<matplotlib.legend.Legend at 0x1d6e3947748>"
      ]
     },
     "execution_count": 5,
     "metadata": {},
     "output_type": "execute_result"
    },
    {
     "data": {
      "image/png": "[encoded data removed]",
      "text/plain": [
       "<matplotlib.figure.Figure at 0x1d6e1f4e8d0>"
      ]
     },
     "metadata": {},
     "output_type": "display_data"
    }
   ],
   "source": [
    "plt.figure(figsize=(10,5))\n",
    "plt.plot(err1,'b')\n",
    "plt.plot(err2,'r')\n",
    "plt.plot(err3,'g')\n",
    "plt.title(\"Comparing Iterative Methods\")\n",
    "plt.xticks(np.arange(0,len(err1)))\n",
    "plt.xlabel(\"step\")\n",
    "plt.ylabel(\"error\")\n",
    "plt.legend(['Jacobi','Gauss','SOR'])"
   ]
  },
  {
   "cell_type": "code",
   "execution_count": 16,
   "metadata": {},
   "outputs": [
    {
     "name": "stdout",
     "output_type": "stream",
     "text": [
      "Number of steps in Jacobi: \n",
      "40\n",
      "Number of steps in Gauss-Seidel: \n",
      "24\n",
      "Number of steps in SOR: \n",
      "18\n"
     ]
    }
   ],
   "source": [
    "print(\"Number of steps in Jacobi: \")\n",
    "print(step1)\n",
    "print(\"Number of steps in Gauss-Seidel: \")\n",
    "print(step2)\n",
    "print(\"Number of steps in SOR: \")\n",
    "print(step3)"
   ]
  },
  {
   "cell_type": "code",
   "execution_count": null,
   "metadata": {
    "collapsed": true
   },
   "outputs": [],
   "source": []
  }
 ],
 "metadata": {
  "kernelspec": {
   "display_name": "Python 3",
   "language": "python",
   "name": "python3"
  },
  "language_info": {
   "codemirror_mode": {
    "name": "ipython",
    "version": 3
   },
   "file_extension": ".py",
   "mimetype": "text/x-python",
   "name": "python",
   "nbconvert_exporter": "python",
   "pygments_lexer": "ipython3",
   "version": "3.6.1"
  }
 },
 "nbformat": 4,
 "nbformat_minor": 2
}
