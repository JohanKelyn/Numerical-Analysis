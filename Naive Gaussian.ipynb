{
 "cells": [
  {
   "cell_type": "markdown",
   "metadata": {},
   "source": [
    "# Naive Gaussian Elimination"
   ]
  },
  {
   "cell_type": "markdown",
   "metadata": {},
   "source": [
    "We will try to find the solution of the following system of equations using the naive Gausian elimination method. Find the solution of the following: \n",
    "\n",
    "x + 2y - z = 3;\n",
    "2x + y -2x = 3;\n",
    "-3x + y + z = -6;\n",
    "\n",
    "Note: This does not take into account zeros in the main diagonal"
   ]
  },
  {
   "cell_type": "code",
   "execution_count": 108,
   "metadata": {
    "collapsed": true
   },
   "outputs": [],
   "source": [
    "import numpy as np"
   ]
  },
  {
   "cell_type": "code",
   "execution_count": 109,
   "metadata": {},
   "outputs": [],
   "source": [
    "def naive_gaussian(A,b):\n",
    "    n = b.size\n",
    "    for j in range(0,n-1):\n",
    "        for i in range(j+1,n):\n",
    "            mult = A[i,j]/A[j,j]\n",
    "            for k in range(j,n):\n",
    "                A[i,k] = A[i,k] - mult*A[j,k]\n",
    "            b[i] = b[i] - mult*b[j]\n",
    "    c = b\n",
    "    x = np.ones(n)\n",
    "    for l in range(n-1,-1,-1):\n",
    "        for m in range(l+1,n):\n",
    "            c[l] = c[l] - A[l,m]*x[m]\n",
    "        x[l] = b[l]/A[l,l]\n",
    "    return [A,b,x]"
   ]
  },
  {
   "cell_type": "code",
   "execution_count": 110,
   "metadata": {},
   "outputs": [
    {
     "name": "stdout",
     "output_type": "stream",
     "text": [
      "[[ 1  2 -1]\n",
      " [ 2  1 -2]\n",
      " [-3  1  1]]\n",
      "[[ 3]\n",
      " [ 3]\n",
      " [-6]]\n"
     ]
    }
   ],
   "source": [
    "A = np.array([[1, 2, -1],[2, 1, -2], [-3, 1 , 1]])\n",
    "b = np.array([[3, 3, -6]]).T\n",
    "print(A)\n",
    "print(b)"
   ]
  },
  {
   "cell_type": "code",
   "execution_count": 111,
   "metadata": {},
   "outputs": [
    {
     "name": "stdout",
     "output_type": "stream",
     "text": [
      "\n",
      " ****************************************\n",
      "\n",
      "A_modified = \n",
      "[[ 1  2 -1]\n",
      " [ 0 -3  0]\n",
      " [ 0  0 -2]]\n",
      "\n",
      " *************************************** \n",
      "\n",
      "b_modified = \n",
      "[[ 3]\n",
      " [-3]\n",
      " [-4]]\n",
      "\n",
      " *************************************** \n",
      "\n",
      "Solution = \n",
      "[ 3.  1.  2.]\n"
     ]
    }
   ],
   "source": [
    "[A_new,b_new,x] = naive_gaussian(A,b)\n",
    "print(\"\\n ****************************************\\n\")\n",
    "print(\"A_modified = \")\n",
    "print(A_new)\n",
    "print(\"\\n *************************************** \\n\")\n",
    "print(\"b_modified = \")\n",
    "print(b_new)\n",
    "print(\"\\n *************************************** \\n\")\n",
    "print(\"Solution = \")\n",
    "print(x)"
   ]
  },
  {
   "cell_type": "markdown",
   "metadata": {},
   "source": [
    "Example 2:\n",
    "\n",
    "Let H denote the nxn Helbert matrix, whose(i,j) entry is 1/(i+j-1). Find the Solution for Hx=b for n = 5, and b is the vector of all ones."
   ]
  },
  {
   "cell_type": "code",
   "execution_count": 115,
   "metadata": {},
   "outputs": [],
   "source": [
    "def Hilbert(n):\n",
    "    H = np.zeros((n,n))\n",
    "    for i in range(n):\n",
    "        for j in range(n):\n",
    "            H[i,j] = 1/(i+1+j)\n",
    "    return H"
   ]
  },
  {
   "cell_type": "code",
   "execution_count": 116,
   "metadata": {},
   "outputs": [
    {
     "data": {
      "text/plain": [
       "array([[ 1.        ,  0.5       ,  0.33333333,  0.25      ,  0.2       ],\n",
       "       [ 0.5       ,  0.33333333,  0.25      ,  0.2       ,  0.16666667],\n",
       "       [ 0.33333333,  0.25      ,  0.2       ,  0.16666667,  0.14285714],\n",
       "       [ 0.25      ,  0.2       ,  0.16666667,  0.14285714,  0.125     ],\n",
       "       [ 0.2       ,  0.16666667,  0.14285714,  0.125     ,  0.11111111]])"
      ]
     },
     "execution_count": 116,
     "metadata": {},
     "output_type": "execute_result"
    }
   ],
   "source": [
    "H = Hilbert(5)\n",
    "H"
   ]
  },
  {
   "cell_type": "code",
   "execution_count": 118,
   "metadata": {},
   "outputs": [
    {
     "data": {
      "text/plain": [
       "array([ 1.,  1.,  1.,  1.,  1.])"
      ]
     },
     "execution_count": 118,
     "metadata": {},
     "output_type": "execute_result"
    }
   ],
   "source": [
    "b1 = np.ones(5)\n",
    "b1"
   ]
  },
  {
   "cell_type": "code",
   "execution_count": 119,
   "metadata": {
    "collapsed": true
   },
   "outputs": [],
   "source": [
    "[H_mod, b_mod, x_sol] = naive_gaussian(H,b1)"
   ]
  },
  {
   "cell_type": "code",
   "execution_count": 120,
   "metadata": {},
   "outputs": [
    {
     "name": "stdout",
     "output_type": "stream",
     "text": [
      "\n",
      " ****************************************\n",
      "\n",
      "H_modified = \n",
      "[[  1.00000000e+00   5.00000000e-01   3.33333333e-01   2.50000000e-01\n",
      "    2.00000000e-01]\n",
      " [  0.00000000e+00   8.33333333e-02   8.33333333e-02   7.50000000e-02\n",
      "    6.66666667e-02]\n",
      " [  0.00000000e+00  -1.38777878e-17   5.55555556e-03   8.33333333e-03\n",
      "    9.52380952e-03]\n",
      " [  0.00000000e+00   0.00000000e+00   0.00000000e+00   3.57142857e-04\n",
      "    7.14285714e-04]\n",
      " [  0.00000000e+00   0.00000000e+00   0.00000000e+00   0.00000000e+00\n",
      "    2.26757370e-05]]\n",
      "\n",
      " *************************************** \n",
      "\n",
      "b_modified = \n",
      "[ 5.         -10.          3.5        -0.4         0.01428571]\n",
      "\n",
      " *************************************** \n",
      "\n",
      "Solution = \n",
      "[    5.  -120.   630. -1120.   630.]\n"
     ]
    }
   ],
   "source": [
    "print(\"\\n ****************************************\\n\")\n",
    "print(\"H_modified = \")\n",
    "print(H_mod)\n",
    "print(\"\\n *************************************** \\n\")\n",
    "print(\"b_modified = \")\n",
    "print(b_mod)\n",
    "print(\"\\n *************************************** \\n\")\n",
    "print(\"Solution = \")\n",
    "print(x_sol)"
   ]
  },
  {
   "cell_type": "code",
   "execution_count": null,
   "metadata": {
    "collapsed": true
   },
   "outputs": [],
   "source": []
  }
 ],
 "metadata": {
  "kernelspec": {
   "display_name": "Python 3",
   "language": "python",
   "name": "python3"
  },
  "language_info": {
   "codemirror_mode": {
    "name": "ipython",
    "version": 3
   },
   "file_extension": ".py",
   "mimetype": "text/x-python",
   "name": "python",
   "nbconvert_exporter": "python",
   "pygments_lexer": "ipython3",
   "version": "3.6.1"
  }
 },
 "nbformat": 4,
 "nbformat_minor": 2
}
