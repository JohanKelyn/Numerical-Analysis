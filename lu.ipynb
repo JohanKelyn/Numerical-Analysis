{
 "cells": [
  {
   "cell_type": "code",
   "execution_count": 1,
   "metadata": {
    "collapsed": true
   },
   "outputs": [],
   "source": [
    "import numpy as np"
   ]
  },
  {
   "cell_type": "code",
   "execution_count": 2,
   "metadata": {
    "collapsed": true
   },
   "outputs": [],
   "source": [
    "def LU(A,b):\n",
    "    n = b.size\n",
    "    L = np.zeros((n,n))\n",
    "    U = np.zeros((n,n))\n",
    "    for k in range(0,n):\n",
    "        for r in range(0,n):\n",
    "            U[k,r] = A[k,r] \n",
    "            if k==r:\n",
    "                L[k,r] = 1\n",
    "            if k<r:\n",
    "                factor = A[r,k]/A[k,k]\n",
    "                L[r,k] = factor\n",
    "                for c in range(0,n):\n",
    "                    A[r,c] = A[r,c] - factor*A[k,c]\n",
    "                    U[r,c] = A[r,c]\n",
    "    return [L,U]\n",
    "\n",
    "def back_subs(L,U,b):\n",
    "    n = b.size\n",
    "    x = np.zeros(n)\n",
    "    c = np.zeros(n)\n",
    "    \n",
    "    c[0] = b[0]/L[0,0]\n",
    "    for l in range(1,n):\n",
    "        s = 0\n",
    "        for m in range(0,l):\n",
    "            s = s + L[l,m]*c[m]\n",
    "        c[l] = (b[l] - s)/L[l,l]\n",
    "    \n",
    "    for l in range(n-1,-1,-1):\n",
    "        t = 0\n",
    "        for m in range(l+1,n):\n",
    "            t = t + U[l,m]*x[m]\n",
    "        x[l] = (c[l] - t)/U[l,l]\n",
    "    return [c,x]"
   ]
  },
  {
   "cell_type": "code",
   "execution_count": null,
   "metadata": {
    "collapsed": true
   },
   "outputs": [],
   "source": []
  }
 ],
 "metadata": {
  "kernelspec": {
   "display_name": "Python 3",
   "language": "python",
   "name": "python3"
  },
  "language_info": {
   "codemirror_mode": {
    "name": "ipython",
    "version": 3
   },
   "file_extension": ".py",
   "mimetype": "text/x-python",
   "name": "python",
   "nbconvert_exporter": "python",
   "pygments_lexer": "ipython3",
   "version": "3.6.1"
  }
 },
 "nbformat": 4,
 "nbformat_minor": 2
}
