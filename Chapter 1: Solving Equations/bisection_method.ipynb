{
 "cells": [
  {
   "cell_type": "markdown",
   "metadata": {},
   "source": [
    "# Bisection Method\n",
    "\n",
    "<strong>Theorem: </strong>If <strong>f</strong> is a continuous function on <strong>[a,b]</strong>, satisfying <strong>f(a)f(b)</strong> < <strong>0</strong>. Then <strong>f</strong> has a root between <strong>a</strong> and <strong>b</strong>, that is, there exist a number <strong>r</strong> satisfying <strong>a</strong><<strong>r</strong><<strong>b</strong> and <strong>f(r) = 0</strong>"
   ]
  },
  {
   "cell_type": "code",
   "execution_count": 1,
   "metadata": {},
   "outputs": [],
   "source": [
    "def bisection_method(f, interval, tol):\n",
    "    \"\"\"\n",
    "    Input: The function, the interval of values in array form, and a float tolerance value \n",
    "    Output: returns the value of c where f(c) = 0\n",
    "    \"\"\"\n",
    "    a = interval[0]\n",
    "    b = interval[1]\n",
    "    n = 0\n",
    "    while(b - a) / 2 > tol:\n",
    "        c = (a + b) / 2\n",
    "        if f(c) == 0:\n",
    "            break\n",
    "        if f(a)*f(c) < 0:\n",
    "            b = c\n",
    "        else:\n",
    "            a = c\n",
    "        n += 1\n",
    "    return [c, n]\n"
   ]
  },
  {
   "cell_type": "markdown",
   "metadata": {},
   "source": [
    "<strong>Example 1:</strong> Find a root of the fuction f(x) = x^3 + x - 1 by using bysection method on the interval [0, 1]"
   ]
  },
  {
   "cell_type": "code",
   "execution_count": 2,
   "metadata": {},
   "outputs": [
    {
     "name": "stdout",
     "output_type": "stream",
     "text": [
      "The value of f(0) = -1 and f(1) = 1\n",
      "The value of the root is approximately 0.6823\n",
      "The bisection method took 14 steps to find the solution\n"
     ]
    }
   ],
   "source": [
    "# Defining the function\n",
    "f = lambda x: x**3 + x - 1\n",
    "interval = [0, 1]\n",
    "tol = 0.00005\n",
    "# We need to verify that the function evalueated at the interval satisfy the theorem stated above\n",
    "print(\"The value of f(0) = {} and f(1) = {}\".format(f(0), f(1)))\n",
    "\n",
    "bis = bisection_method(f, interval, tol)\n",
    "print(\"The value of the root is approximately {:.4f}\".format(bis[0]))\n",
    "print(\"The bisection method took {} steps to find the solution\".format(bis[1]))"
   ]
  },
  {
   "cell_type": "markdown",
   "metadata": {},
   "source": [
    "<strong>Example 2:</strong> Find a root of the fuction f(x) = cos(x) - x by using bysection method on the interval [0, 1]"
   ]
  },
  {
   "cell_type": "code",
   "execution_count": 3,
   "metadata": {},
   "outputs": [
    {
     "name": "stdout",
     "output_type": "stream",
     "text": [
      "The value of g(0) = 1.0 and g(1) = -0.45969769413186023\n",
      "the value of the root is approximately 0.739084\n",
      "The bisection method took 19 steps to find the solution\n"
     ]
    }
   ],
   "source": [
    "from numpy import cos\n",
    "g = lambda x: cos(x) - x\n",
    "interval = [0, 1]\n",
    "tol = 0.000001\n",
    "\n",
    "# We need to verify that the function evalueated at the interval satisfy the theorem stated above\n",
    "print(\"The value of g(0) = {} and g(1) = {}\".format(g(0), g(1)))\n",
    "\n",
    "bis = bisection_method(g, interval, tol)\n",
    "print(\"the value of the root is approximately {:.6f}\".format(bis[0]))\n",
    "print(\"The bisection method took {} steps to find the solution\".format(bis[1]))"
   ]
  },
  {
   "cell_type": "markdown",
   "metadata": {},
   "source": [
    "<strong>Example 3 :</strong> Use the bisection method to locate all solutions of the following equations. Sketch the function and identify three intervals of length one that contain a root. Then find the root to six correct decimal places for the following equations.\n",
    "* 2x^3 - 6x - 1 = 0\n",
    "* e^(x-2) + x^3 + x = 0"
   ]
  },
  {
   "cell_type": "code",
   "execution_count": 4,
   "metadata": {},
   "outputs": [
    {
     "data": {
      "image/png": "[encoded data removed]",
      "text/plain": [
       "<Figure size 432x288 with 1 Axes>"
      ]
     },
     "metadata": {
      "needs_background": "light"
     },
     "output_type": "display_data"
    }
   ],
   "source": [
    "import matplotlib.pyplot as plt\n",
    "from numpy import linspace\n",
    "%matplotlib inline\n",
    "\n",
    "# Ploting the mathematical expression to identify the intervals\n",
    "x = linspace(-2,2, 101)\n",
    "y = 2*x**3 - 6*x - 1\n",
    "\n",
    "plt.plot(x, y, 'm*-')\n",
    "plt.axhline(0, color='black', lw=1)\n",
    "plt.show()"
   ]
  },
  {
   "cell_type": "markdown",
   "metadata": {},
   "source": [
    "From the graph above, we can see that there are three intervals of length one where the theorem satisfy f(a)f(b) < 0. Let's find the roots using these three intervals"
   ]
  },
  {
   "cell_type": "code",
   "execution_count": 5,
   "metadata": {},
   "outputs": [
    {
     "name": "stdout",
     "output_type": "stream",
     "text": [
      "\n",
      "***********************************************************************\n",
      "\n",
      "the value of the root is approximately -1.641783\n",
      "The bisection method took 19 steps to find the solution\n",
      "\n",
      "***********************************************************************\n",
      "\n",
      "the value of the root is approximately -0.168253\n",
      "The bisection method took 19 steps to find the solution\n",
      "\n",
      "***********************************************************************\n",
      "\n",
      "the value of the root is approximately 1.810038\n",
      "The bisection method took 19 steps to find the solution\n",
      "\n",
      "***********************************************************************\n",
      "\n"
     ]
    }
   ],
   "source": [
    "intervals = [[-2,-1], [-0.5, 0.5], [1,2]]\n",
    "tolerance = 0.000001\n",
    "h = lambda t: 2*t**3 - 6*t - 1\n",
    "\n",
    "print(\"\\n***********************************************************************\\n\")\n",
    "\n",
    "sol = bisection_method(h, intervals[0], tolerance)\n",
    "print(\"the value of the root is approximately {:.6f}\".format(sol[0]))\n",
    "print(\"The bisection method took {} steps to find the solution\".format(sol[1]))\n",
    "\n",
    "print(\"\\n***********************************************************************\\n\")\n",
    "\n",
    "sol = bisection_method(h, intervals[1], tolerance)\n",
    "print(\"the value of the root is approximately {:.6f}\".format(sol[0]))\n",
    "print(\"The bisection method took {} steps to find the solution\".format(sol[1]))\n",
    "\n",
    "print(\"\\n***********************************************************************\\n\")\n",
    "\n",
    "sol = bisection_method(h, intervals[2], tolerance)\n",
    "print(\"the value of the root is approximately {:.6f}\".format(sol[0]))\n",
    "print(\"The bisection method took {} steps to find the solution\".format(sol[1]))\n",
    "\n",
    "print(\"\\n***********************************************************************\\n\")"
   ]
  },
  {
   "cell_type": "code",
   "execution_count": 6,
   "metadata": {},
   "outputs": [
    {
     "data": {
      "image/png": "[encoded data removed]",
      "text/plain": [
       "<Figure size 432x288 with 1 Axes>"
      ]
     },
     "metadata": {
      "needs_background": "light"
     },
     "output_type": "display_data"
    }
   ],
   "source": [
    "from numpy import exp\n",
    "x = linspace(-1.5,1.5, 101)\n",
    "y = exp(x-2) + x**3 - x\n",
    "\n",
    "plt.plot(x, y, 'm*-')\n",
    "plt.axhline(0, color='black', lw=1)\n",
    "plt.show()"
   ]
  },
  {
   "cell_type": "markdown",
   "metadata": {},
   "source": [
    "From the graph above, we can see that we have three roots. The intervals for this roots will be 1) [-1.5, -0.5], 2) [-0.5, 0.5], and 3) [0.5, 1.5]"
   ]
  },
  {
   "cell_type": "code",
   "execution_count": 7,
   "metadata": {},
   "outputs": [
    {
     "name": "stdout",
     "output_type": "stream",
     "text": [
      "\n",
      "***********************************************************************\n",
      "\n",
      "the value of the root is approximately -1.023482\n",
      "The bisection method took 23 steps to find the solution\n",
      "\n",
      "***********************************************************************\n",
      "\n",
      "\n",
      "***********************************************************************\n",
      "\n",
      "the value of the root is approximately 0.163822\n",
      "The bisection method took 23 steps to find the solution\n",
      "\n",
      "***********************************************************************\n",
      "\n",
      "\n",
      "***********************************************************************\n",
      "\n",
      "the value of the root is approximately 0.788942\n",
      "The bisection method took 23 steps to find the solution\n",
      "\n",
      "***********************************************************************\n",
      "\n"
     ]
    }
   ],
   "source": [
    "intervals = [[-1.5, -0.5], [-0.5, 0.5], [0.5, 1.5]]\n",
    "tol = 0.0000001\n",
    "\n",
    "f = lambda t: exp(t-2) + t**3 - t\n",
    "\n",
    "for inter in intervals:\n",
    "    print(\"\\n***********************************************************************\\n\")\n",
    "    sol = bisection_method(f, inter, tol)\n",
    "    print(\"the value of the root is approximately {:.6f}\".format(sol[0]))\n",
    "    print(\"The bisection method took {} steps to find the solution\".format(sol[1]))\n",
    "    print(\"\\n***********************************************************************\\n\")"
   ]
  },
  {
   "cell_type": "code",
   "execution_count": null,
   "metadata": {},
   "outputs": [],
   "source": []
  }
 ],
 "metadata": {
  "kernelspec": {
   "display_name": "Python 3",
   "language": "python",
   "name": "python3"
  },
  "language_info": {
   "codemirror_mode": {
    "name": "ipython",
    "version": 3
   },
   "file_extension": ".py",
   "mimetype": "text/x-python",
   "name": "python",
   "nbconvert_exporter": "python",
   "pygments_lexer": "ipython3",
   "version": "3.7.2"
  }
 },
 "nbformat": 4,
 "nbformat_minor": 2
}
