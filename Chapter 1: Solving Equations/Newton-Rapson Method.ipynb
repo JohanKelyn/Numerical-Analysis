{
 "cells": [
  {
   "cell_type": "markdown",
   "metadata": {},
   "source": [
    "# Newton-Rapson Method"
   ]
  },
  {
   "cell_type": "markdown",
   "metadata": {},
   "source": [
    "We are going to use Newton'd Method to approximate the root of:\n",
    "* x^3 = 2x+2\n",
    "* e^x + x = 7\n",
    "* x^5 + x = 1\n",
    "* ln x + x^2 = 3"
   ]
  },
  {
   "cell_type": "code",
   "execution_count": 46,
   "metadata": {
    "collapsed": true
   },
   "outputs": [],
   "source": [
    "import numpy as np\n",
    "import pandas as pd\n",
    "from sympy import *\n",
    "import matplotlib.pyplot as plt\n",
    "%matplotlib inline"
   ]
  },
  {
   "cell_type": "code",
   "execution_count": 31,
   "metadata": {
    "collapsed": true
   },
   "outputs": [],
   "source": [
    "def newton_method(x0,f,df, tol):\n",
    "    x = list()\n",
    "    x_old = x0\n",
    "    x.append(x0)\n",
    "    error = 1\n",
    "    while error > tol:\n",
    "        x_new = x_old - f(x_old)/df(x_old)\n",
    "        error = np.abs(x_new-x_old)\n",
    "        x.append(x_new)\n",
    "        x_old = x_new\n",
    "        if error > 100:\n",
    "            break\n",
    "    return pd.Series(x)"
   ]
  },
  {
   "cell_type": "code",
   "execution_count": 13,
   "metadata": {
    "collapsed": true
   },
   "outputs": [],
   "source": [
    "x = Symbol('x')\n",
    "y1 = Symbol('y1')\n",
    "y2 = Symbol('y2')\n",
    "y3 = Symbol('y3')\n",
    "y4 = Symbol('y4')"
   ]
  },
  {
   "cell_type": "code",
   "execution_count": 14,
   "metadata": {},
   "outputs": [
    {
     "name": "stdout",
     "output_type": "stream",
     "text": [
      "x**3 - 2*x - 2\n",
      "x + exp(x) - 7\n",
      "x**5 + x - 1\n",
      "x**2 + log(x) - 3\n"
     ]
    }
   ],
   "source": [
    "y1 = x**3 - 2*x - 2\n",
    "print(y1)\n",
    "y2 = exp(x) + x - 7\n",
    "print(y2)\n",
    "y3 = x**5 + x - 1\n",
    "print(y3)\n",
    "y4 = log(x) + x**2 - 3\n",
    "print(y4)"
   ]
  },
  {
   "cell_type": "code",
   "execution_count": 15,
   "metadata": {},
   "outputs": [
    {
     "name": "stdout",
     "output_type": "stream",
     "text": [
      "3*x**2 - 2\n",
      "exp(x) + 1\n",
      "5*x**4 + 1\n",
      "2*x + 1/x\n"
     ]
    }
   ],
   "source": [
    "dy1 = diff(y1,x)\n",
    "print(dy1)\n",
    "dy2 = diff(y2,x)\n",
    "print(dy2)\n",
    "dy3 = diff(y3,x)\n",
    "print(dy3)\n",
    "dy4 = diff(y4,x)\n",
    "print(dy4)"
   ]
  },
  {
   "cell_type": "code",
   "execution_count": 35,
   "metadata": {
    "collapsed": true
   },
   "outputs": [],
   "source": [
    "f1 = lambda x: x**3 - 2*x - 2\n",
    "f2 = lambda x: np.exp(x) + x - 7\n",
    "f3 = lambda x: x**5 + x - 1\n",
    "f4 = lambda x: np.log(x) + x**2 - 3"
   ]
  },
  {
   "cell_type": "code",
   "execution_count": 34,
   "metadata": {
    "collapsed": true
   },
   "outputs": [],
   "source": [
    "df1 = lambda x: 3*(x**2) - 2\n",
    "df2 = lambda x: np.exp(x) + 1\n",
    "df3 = lambda x: 5*(x**4) + 1\n",
    "df4 = lambda x: 2*x + 1/x"
   ]
  },
  {
   "cell_type": "code",
   "execution_count": 32,
   "metadata": {},
   "outputs": [
    {
     "name": "stdout",
     "output_type": "stream",
     "text": [
      "0    1.000000\n",
      "1    4.000000\n",
      "2    2.826087\n",
      "3    2.146719\n",
      "4    1.842326\n",
      "5    1.772848\n",
      "6    1.769301\n",
      "7    1.769292\n",
      "8    1.769292\n",
      "dtype: float64\n"
     ]
    }
   ],
   "source": [
    "sol1 = newton_method(1,f1,df1,10**(-8))\n",
    "print(sol1)"
   ]
  },
  {
   "cell_type": "code",
   "execution_count": 36,
   "metadata": {},
   "outputs": [
    {
     "name": "stdout",
     "output_type": "stream",
     "text": [
      "0    1.000000\n",
      "1    1.882590\n",
      "2    1.690649\n",
      "3    1.672955\n",
      "4    1.672822\n",
      "5    1.672822\n",
      "dtype: float64\n"
     ]
    }
   ],
   "source": [
    "sol2 = newton_method(1,f2,df2,10**(-8))\n",
    "print(sol2)"
   ]
  },
  {
   "cell_type": "code",
   "execution_count": 37,
   "metadata": {},
   "outputs": [
    {
     "name": "stdout",
     "output_type": "stream",
     "text": [
      "0    1.000000\n",
      "1    0.833333\n",
      "2    0.764382\n",
      "3    0.755025\n",
      "4    0.754878\n",
      "5    0.754878\n",
      "6    0.754878\n",
      "dtype: float64\n"
     ]
    }
   ],
   "source": [
    "sol3 = newton_method(1,f3,df3,10**(-8))\n",
    "print(sol3)"
   ]
  },
  {
   "cell_type": "code",
   "execution_count": 38,
   "metadata": {},
   "outputs": [
    {
     "name": "stdout",
     "output_type": "stream",
     "text": [
      "0    1.000000\n",
      "1    1.666667\n",
      "2    1.593293\n",
      "3    1.592143\n",
      "4    1.592143\n",
      "5    1.592143\n",
      "dtype: float64\n"
     ]
    }
   ],
   "source": [
    "sol4 = newton_method(1,f4,df4,10**(-8))\n",
    "print(sol4)"
   ]
  },
  {
   "cell_type": "markdown",
   "metadata": {},
   "source": [
    "Special Problem:\n",
    "\n",
    "Apply Newton's method to find both roots of the function f(x) = 14xe^(x-2) - 12e^(x-2)- 7x^3 + 20x^2 - 26x + 12\n",
    "on the interval [0,3]. For ecah root, print out the sequence of iterations, the error e(i), and the relevant error e(i+1)/e^2(i) that converges to a zero nonlimit."
   ]
  },
  {
   "cell_type": "code",
   "execution_count": 40,
   "metadata": {},
   "outputs": [
    {
     "name": "stdout",
     "output_type": "stream",
     "text": [
      "-7*x**3 + 20*x**2 + 14*x*exp(x - 2) - 26*x - 12*exp(x - 2) + 12\n"
     ]
    }
   ],
   "source": [
    "y5 = Symbol('y5')\n",
    "y5 = 14*x*exp(x-2) - 12*exp(x-2)- 7*x**3 + 20*x**2 - 26*x + 12\n",
    "print(y5)"
   ]
  },
  {
   "cell_type": "code",
   "execution_count": 41,
   "metadata": {},
   "outputs": [
    {
     "name": "stdout",
     "output_type": "stream",
     "text": [
      "-21*x**2 + 14*x*exp(x - 2) + 40*x + 2*exp(x - 2) - 26\n"
     ]
    }
   ],
   "source": [
    "dy5 = diff(y5,x)\n",
    "print(dy5)"
   ]
  },
  {
   "cell_type": "code",
   "execution_count": 43,
   "metadata": {},
   "outputs": [],
   "source": [
    "f5 = lambda x: 14*x*np.exp(x-2) - 12*np.exp(x-2)- 7*x**3 + 20*x**2 - 26*x + 12\n",
    "df5 = lambda x: -21*x**2 + 14*x*np.exp(x - 2) + 40*x + 2*np.exp(x - 2) - 26"
   ]
  },
  {
   "cell_type": "code",
   "execution_count": 61,
   "metadata": {},
   "outputs": [
    {
     "data": {
      "text/plain": [
       "<matplotlib.lines.Line2D at 0x27913c6ab70>"
      ]
     },
     "execution_count": 61,
     "metadata": {},
     "output_type": "execute_result"
    },
    {
     "data": {
      "image/png": "[encoded data removed]",
      "text/plain": [
       "<matplotlib.figure.Figure at 0x27913c9d7b8>"
      ]
     },
     "metadata": {},
     "output_type": "display_data"
    }
   ],
   "source": [
    "z = np.linspace(0,3,100)\n",
    "plt.plot(z,f5(z),'r')\n",
    "plt.axhline(y=0)\n",
    "plt.axvline(x=0)"
   ]
  },
  {
   "cell_type": "code",
   "execution_count": 54,
   "metadata": {},
   "outputs": [
    {
     "name": "stdout",
     "output_type": "stream",
     "text": [
      "0    0.500000\n",
      "1    0.717419\n",
      "2    0.825072\n",
      "3    0.854901\n",
      "4    0.857131\n",
      "5    0.857143\n",
      "6    0.857143\n",
      "dtype: float64\n"
     ]
    }
   ],
   "source": [
    "sol5 = newton_method(0.5,f5,df5,10**(-8))\n",
    "print(sol5)"
   ]
  },
  {
   "cell_type": "code",
   "execution_count": 59,
   "metadata": {},
   "outputs": [
    {
     "name": "stdout",
     "output_type": "stream",
     "text": [
      "0     1.500000\n",
      "1     1.737393\n",
      "2     1.836920\n",
      "3     1.895293\n",
      "4     1.931733\n",
      "5     1.955116\n",
      "6     1.970341\n",
      "7     1.980341\n",
      "8     1.986943\n",
      "9     1.991317\n",
      "10    1.994221\n",
      "11    1.996151\n",
      "12    1.997436\n",
      "13    1.998292\n",
      "14    1.998861\n",
      "15    1.999241\n",
      "16    1.999494\n",
      "17    1.999663\n",
      "18    1.999775\n",
      "19    1.999850\n",
      "20    1.999900\n",
      "21    1.999933\n",
      "22    1.999956\n",
      "23    1.999970\n",
      "24    1.999980\n",
      "25    1.999984\n",
      "26    1.999984\n",
      "dtype: float64\n"
     ]
    }
   ],
   "source": [
    "sol6 = newton_method(1.5,f5,df5,10**(-6))\n",
    "print(sol6)"
   ]
  },
  {
   "cell_type": "code",
   "execution_count": null,
   "metadata": {
    "collapsed": true
   },
   "outputs": [],
   "source": []
  }
 ],
 "metadata": {
  "kernelspec": {
   "display_name": "Python 3",
   "language": "python",
   "name": "python3"
  },
  "language_info": {
   "codemirror_mode": {
    "name": "ipython",
    "version": 3
   },
   "file_extension": ".py",
   "mimetype": "text/x-python",
   "name": "python",
   "nbconvert_exporter": "python",
   "pygments_lexer": "ipython3",
   "version": "3.7.2"
  }
 },
 "nbformat": 4,
 "nbformat_minor": 2
}
