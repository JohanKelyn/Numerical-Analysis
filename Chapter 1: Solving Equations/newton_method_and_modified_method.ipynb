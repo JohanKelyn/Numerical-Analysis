{
 "cells": [
  {
   "cell_type": "markdown",
   "metadata": {},
   "source": [
    "# Newton's Method and Modified Newton's Method\n",
    "\n",
    "Newton's method, also called the Newton-Raphson Method, converges much faster than the bisection and the fixed-point method. For this method we need a starting guess point x0 and the value of the tangent line at x0."
   ]
  },
  {
   "cell_type": "code",
   "execution_count": 1,
   "metadata": {},
   "outputs": [],
   "source": [
    "import numpy as np\n",
    "import matplotlib.pyplot as plt\n",
    "from scipy.integrate import odeint"
   ]
  },
  {
   "cell_type": "code",
   "execution_count": 2,
   "metadata": {},
   "outputs": [],
   "source": [
    "def newton_method(x0, f, df, tol):\n",
    "    \"\"\"\n",
    "    Input: x0  --> Initial guess point\n",
    "           f   --> function\n",
    "           df  --> differential function\n",
    "           tol --> tolerance\n",
    "           \n",
    "    Output: x  --> Array with solution values\n",
    "    \"\"\"\n",
    "    x = []\n",
    "    x_old = x0\n",
    "    x.append(x0)\n",
    "    error = 1\n",
    "    while error > tol:\n",
    "        x_new = x_old - f(x_old)/df(x_old)\n",
    "        error = np.abs(x_new-x_old)\n",
    "        x.append(x_new)\n",
    "        x_old = x_new\n",
    "    return x"
   ]
  },
  {
   "cell_type": "markdown",
   "metadata": {},
   "source": [
    "<strong>Definition:</strong> Let $e_{i}$ denote the error after step $i$ of an iterative method. The iteration is quadratically convergent if:\n",
    "\n",
    "M = $lim_{i\\to\\infty}$ $\\frac{e_{i+1}}{e_{i}}$ < $\\infty$\n",
    "\n",
    "<strong>Theorem: </strong> Let $f$ be twice continuously differentialble and $f(r) = 0$. If $f'(r) \\neq 0$, then Newton's method is locally and quadratically convergent to r. The error $e_{i}$ at step $i$ satisfies\n",
    "\n",
    "$lim_{i\\to\\infty}$  $\\frac{e_{i+1}}{e_{i}}$ = M, where\n",
    "\n",
    "M = $\\frac{f''(r)}{2f'(r)}$"
   ]
  },
  {
   "cell_type": "markdown",
   "metadata": {},
   "source": [
    "<strong>Example 1:</strong> Use the Newton's Method to find the root solution for $f(x) = x^{3} + x - 1$ "
   ]
  },
  {
   "cell_type": "code",
   "execution_count": 3,
   "metadata": {},
   "outputs": [
    {
     "name": "stdout",
     "output_type": "stream",
     "text": [
      "[-0.7, 0.12712550607287465, 0.957678119175661, 0.7348277949945015, 0.6845917706849266, 0.6823321742044841, 0.6823278038443323, 0.6823278038280193]\n"
     ]
    }
   ],
   "source": [
    "f = lambda x: x**3 + x - 1\n",
    "df = lambda x: 3*x**2 + 1\n",
    "x0 = -0.7\n",
    "tol = 0.00000001\n",
    "\n",
    "sol = newton_method(x0, f, df, tol)\n",
    "print(sol)"
   ]
  },
  {
   "cell_type": "markdown",
   "metadata": {},
   "source": [
    "<strong>Example 2:</strong> Use Newton's Method to approximate the root to eight correct decimal places of $f(x) = x^{3} - 2x - 2$"
   ]
  },
  {
   "cell_type": "code",
   "execution_count": 4,
   "metadata": {},
   "outputs": [
    {
     "name": "stdout",
     "output_type": "stream",
     "text": [
      "[1, 4.0, 2.8260869565217392, 2.1467190137392356, 1.8423262771400926, 1.7728476364392378, 1.7693013974364495, 1.7692923542973595, 1.7692923542386314]\n"
     ]
    }
   ],
   "source": [
    "g = lambda x: x**3 - 2*x - 2\n",
    "dg = lambda x: 3*x**2 - 2\n",
    "x0 = 1\n",
    "tol = 0.00000001\n",
    "\n",
    "sol = newton_method(x0, g, dg, tol)\n",
    "print(sol)"
   ]
  },
  {
   "cell_type": "markdown",
   "metadata": {},
   "source": [
    "<strong>Example 3:</strong> Use Newton's Method to approximate the root to eight correct decimal places of $f(x) = e^{x} + x -7$"
   ]
  },
  {
   "cell_type": "code",
   "execution_count": 5,
   "metadata": {},
   "outputs": [
    {
     "name": "stdout",
     "output_type": "stream",
     "text": [
      "[1, 1.882589949589966, 1.690648857570585, 1.6729550688970045, 1.6728217061168933, 1.6728216986289064]\n"
     ]
    }
   ],
   "source": [
    "h = lambda x: np.exp(x) + x - 7\n",
    "dh = lambda x: np.exp(x) + 1\n",
    "x0 = 1\n",
    "tol = 0.00000001\n",
    "\n",
    "sol = newton_method(x0, h, dh, tol)\n",
    "print(sol)"
   ]
  },
  {
   "cell_type": "markdown",
   "metadata": {},
   "source": [
    "<strong>Example 4:</strong> Use Newton's to show that the convergance rate is quadratically"
   ]
  },
  {
   "cell_type": "code",
   "execution_count": 6,
   "metadata": {},
   "outputs": [
    {
     "name": "stdout",
     "output_type": "stream",
     "text": [
      "[1.3823278038280193, 0.5552022977551446, 0.27535031534764176, 0.052499991166482185, 0.002263966856907329, 4.3703764648350685e-06, 1.6313062012329738e-11, 0.0]\n",
      "0.8540785004123356\n",
      "0.8540792399259556\n"
     ]
    }
   ],
   "source": [
    "def newton_method_convergence(sol):\n",
    "    errors = []\n",
    "    for s in sol:\n",
    "        error = np.abs(s - sol[-1])\n",
    "        errors.append(error)\n",
    "    return errors\n",
    "\n",
    "f = lambda x: x**3 + x - 1\n",
    "df = lambda x: 3*x**2 + 1\n",
    "ddf = lambda x: 6*x\n",
    "x0 = -0.7\n",
    "tol = 0.00000001\n",
    "sol = newton_method(x0, f, df, tol)\n",
    "err = newton_method_convergence(sol)\n",
    "print(err)\n",
    "print(err[-2]/(err[-3])**2)\n",
    "print(ddf(sol[-1])/(2*df(sol[-1])))"
   ]
  },
  {
   "cell_type": "markdown",
   "metadata": {},
   "source": [
    "# Linear Convergence of Newtob's Method\n",
    "\n",
    "The theorem above does not say that Newton's method always converges quadratically. Recall that we need to divide by $f'(r)$ for the quadratic convergence argument to make sense. This assumption turns out to be crucial. Let's look at the following example"
   ]
  },
  {
   "cell_type": "markdown",
   "metadata": {},
   "source": [
    "<strong>Example 5:</strong> Use Newton's Method to approximate the root  of $f(x) = x^{2}$"
   ]
  },
  {
   "cell_type": "code",
   "execution_count": 7,
   "metadata": {},
   "outputs": [
    {
     "name": "stdout",
     "output_type": "stream",
     "text": [
      "There are a total of 28 iterations\n",
      "[1, 0.5, 0.25, 0.125, 0.0625, 0.03125, 0.015625, 0.0078125, 0.00390625, 0.001953125, 0.0009765625, 0.00048828125, 0.000244140625, 0.0001220703125, 6.103515625e-05, 3.0517578125e-05, 1.52587890625e-05, 7.62939453125e-06, 3.814697265625e-06, 1.9073486328125e-06, 9.5367431640625e-07, 4.76837158203125e-07, 2.384185791015625e-07, 1.1920928955078125e-07, 5.960464477539063e-08, 2.9802322387695312e-08, 1.4901161193847656e-08, 7.450580596923828e-09]\n"
     ]
    }
   ],
   "source": [
    "f = lambda x: x**2\n",
    "df = lambda x: 2*x\n",
    "x0 = 1\n",
    "tol = 0.00000001\n",
    "sol = newton_method(x0, f, df, tol)\n",
    "print(\"There are a total of {} iterations\".format(len(sol)))\n",
    "print(sol)\n"
   ]
  },
  {
   "cell_type": "markdown",
   "metadata": {},
   "source": [
    "We can modify our newton's method function to achieve the quadratically convergence again if we follow the follwing theorem:\n",
    "\n",
    "<strong>Theorem:</strong> If $f$ is $(m+1)$-times continuously differentiable on $[a,b]$, which contains a root $r$ of multiplicity $m>1$, then the modified Newton's Method\n",
    "\n",
    "$x_{i+1} = x_{i} - \\frac{mf(x_{i})}{f'(x_{i})}$\n",
    "\n",
    "converges locally and quadratically to $r$"
   ]
  },
  {
   "cell_type": "code",
   "execution_count": 8,
   "metadata": {},
   "outputs": [
    {
     "name": "stdout",
     "output_type": "stream",
     "text": [
      "There are a total of 41 iterations\n",
      "[1, 0.7215902398607472, 0.5213709518204024, 0.3753083085907609, 0.2683634905271319, 0.19026161369923694, 0.13361250532619107, 0.0929252867251743, 0.06403926677734054, 0.043778062160090336, 0.02972805552422804, 0.020081683737769168, 0.013512127304173885, 0.009065795643310974, 0.006070292922668508, 0.0040588510963045655, 0.002711303677841734, 0.001809959662571168, 0.0012077238447790527, 0.0008056330719514008, 0.0005373043618650826, 0.00035829893157465157, 0.0002389086852961528, 0.00015929146445629213, 0.00010620276038841125, 7.080559681585494e-05, 4.720540597897779e-05, 3.147101514148232e-05, 2.098099550283984e-05, 1.398747684388221e-05, 9.325038290088048e-06, 6.216684190787716e-06, 4.144455879661033e-06, 2.7630045669263253e-06, 1.8420051485692453e-06, 1.2280238695426968e-06, 8.185238980155837e-07, 5.45638972598278e-07, 3.635803409800827e-07, 2.4256788570500393e-07, 1.6159553808560536e-07]\n"
     ]
    }
   ],
   "source": [
    "f = lambda x: np.sin(x) + x**2 * np.cos(x) - x**2 - x\n",
    "df = lambda x: np.cos(x) + 2*x * np.cos(x) - x**2 * np.sin(x) - 2*x - 1\n",
    "x0 = 1\n",
    "tol = 0.0000001\n",
    "sol = newton_method(x0, f, df, tol)\n",
    "print(\"There are a total of {} iterations\".format(len(sol)))\n",
    "print(sol)"
   ]
  },
  {
   "cell_type": "code",
   "execution_count": 9,
   "metadata": {},
   "outputs": [
    {
     "name": "stdout",
     "output_type": "stream",
     "text": [
      "There are a total of 6 iterations\n",
      "[1, 0.16477071958224154, 0.016207337711438285, 0.0002465414377386399, 6.072092292310708e-08, -2.3898774273065233e-09]\n"
     ]
    }
   ],
   "source": [
    "def modified_newton_method(x0, m, f, df, tol):\n",
    "    \"\"\"\n",
    "    Input: x0  --> Initial guess point\n",
    "           f   --> function\n",
    "           df  --> differential function\n",
    "           tol --> tolerance\n",
    "           \n",
    "    Output: x  --> Array with solution values\n",
    "    \"\"\"\n",
    "    x = []\n",
    "    x_old = x0\n",
    "    x.append(x0)\n",
    "    error = 1\n",
    "    while error > tol:\n",
    "        x_new = x_old - m*f(x_old)/df(x_old)\n",
    "        error = np.abs(x_new-x_old)\n",
    "        x.append(x_new)\n",
    "        x_old = x_new\n",
    "    return x\n",
    "\n",
    "f = lambda x: np.sin(x) + x**2 * np.cos(x) - x**2 - x\n",
    "df = lambda x: np.cos(x) + 2*x * np.cos(x) - x**2 * np.sin(x) - 2*x - 1\n",
    "x0 = 1\n",
    "m = 3\n",
    "tol = 0.0000001\n",
    "sol = modified_newton_method(x0, m, f, df, tol)\n",
    "print(\"There are a total of {} iterations\".format(len(sol)))\n",
    "print(sol)"
   ]
  },
  {
   "cell_type": "code",
   "execution_count": null,
   "metadata": {},
   "outputs": [],
   "source": []
  }
 ],
 "metadata": {
  "kernelspec": {
   "display_name": "Python 3",
   "language": "python",
   "name": "python3"
  },
  "language_info": {
   "codemirror_mode": {
    "name": "ipython",
    "version": 3
   },
   "file_extension": ".py",
   "mimetype": "text/x-python",
   "name": "python",
   "nbconvert_exporter": "python",
   "pygments_lexer": "ipython3",
   "version": "3.7.2"
  }
 },
 "nbformat": 4,
 "nbformat_minor": 2
}
