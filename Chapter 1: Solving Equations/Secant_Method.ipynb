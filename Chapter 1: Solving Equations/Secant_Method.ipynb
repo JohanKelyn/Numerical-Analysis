{
 "cells": [
  {
   "cell_type": "markdown",
   "metadata": {},
   "source": [
    "# Secant Method\n",
    "\n",
    "The secant method is similar to the Newton's method, but replaces the derivative by a difference quotient. Geometrically, the tangent line is replaced with a line through the two last known guess. The convergence of the secant method to simple roots is called <strong>superlinear</strong>, meaning that is between linearly and quadratically convergent methods"
   ]
  },
  {
   "cell_type": "code",
   "execution_count": 1,
   "metadata": {},
   "outputs": [],
   "source": [
    "import numpy as np\n",
    "def secant_method(x0, x1, f, tol):\n",
    "    \"\"\"\n",
    "    Input: x0, x1  ---> two initial value guesses\n",
    "                f  ---> function to be solved\n",
    "              tol  ---> Tolerance (stopping criteria)\n",
    "    Output:     x  ---> array of approximated root values\n",
    "    \n",
    "    \"\"\"\n",
    "    x= []\n",
    "    x.append(x0)\n",
    "    x.append(x1)\n",
    "    i = 1\n",
    "    error = 1\n",
    "    while error > tol:\n",
    "        x_new = x[i] - f(x[i]) * (x[i] - x[i-1]) / (f(x[i]) - f(x[i-1]))\n",
    "        x.append(x_new)\n",
    "        error = np.abs(x[i+1] - x[i])\n",
    "        i += 1\n",
    "    return x\n",
    "        "
   ]
  },
  {
   "cell_type": "markdown",
   "metadata": {},
   "source": [
    "<strong>Example 1:</strong> Apply the secant method with starting guess $x_{0} = 0$, $x_{1} = 1$ to find the root of $f(x) = x^{3} + x - 1$"
   ]
  },
  {
   "cell_type": "code",
   "execution_count": 2,
   "metadata": {},
   "outputs": [
    {
     "name": "stdout",
     "output_type": "stream",
     "text": [
      "[0, 1, 0.5, 0.6363636363636364, 0.6900523560209424, 0.6820204196481856, 0.6823257814098928, 0.6823278043590257, 0.6823278038280184]\n"
     ]
    }
   ],
   "source": [
    "f = lambda x: x**3 + x - 1\n",
    "tol = 0.00000001\n",
    "x0 = 0\n",
    "x1 = 1\n",
    "\n",
    "sol = secant_method(x0, x1, f, tol)\n",
    "print(sol)"
   ]
  },
  {
   "cell_type": "markdown",
   "metadata": {},
   "source": [
    "<strong>Example 2:</strong> Apply the secant method with starting guess  $x_{0}=0$ ,  $x_{1}=1$  to find the root of  $f(x) = e^{x} + x - 7$"
   ]
  },
  {
   "cell_type": "code",
   "execution_count": 3,
   "metadata": {},
   "outputs": [
    {
     "data": {
      "image/png": "[encoded data removed]",
      "text/plain": [
       "<Figure size 432x288 with 1 Axes>"
      ]
     },
     "metadata": {
      "needs_background": "light"
     },
     "output_type": "display_data"
    },
    {
     "name": "stdout",
     "output_type": "stream",
     "text": [
      "[0, 1, 2.207276647028654, 1.5226891421345317, 1.6404284350238156, 1.6749009413158729, 1.6727932697545125, 1.6728216737492771, 1.6728216986292044, 1.6728216986289066]\n"
     ]
    }
   ],
   "source": [
    "import matplotlib.pyplot as plt\n",
    "%matplotlib inline\n",
    "\n",
    "g = lambda x: np.exp(x) + x - 7\n",
    "x0 = 0\n",
    "x1 = 1\n",
    "tol = 0.00000001\n",
    "\n",
    "# Graph of the function\n",
    "t = np.linspace(-3, 3, 101)\n",
    "plt.plot(t, g(t))\n",
    "plt. axhline(0, linewidth=1, color='r')\n",
    "plt.title(\"Example 2\")\n",
    "plt.xlabel(\"x-values\")\n",
    "plt.ylabel(\"y-values\")\n",
    "plt.grid(True)\n",
    "plt.show()\n",
    "\n",
    "# Finding the root value\n",
    "sol = secant_method(x0, x1, g, tol)\n",
    "print(sol)\n",
    "\n",
    "\n"
   ]
  },
  {
   "cell_type": "code",
   "execution_count": null,
   "metadata": {},
   "outputs": [],
   "source": []
  }
 ],
 "metadata": {
  "kernelspec": {
   "display_name": "Python 3",
   "language": "python",
   "name": "python3"
  },
  "language_info": {
   "codemirror_mode": {
    "name": "ipython",
    "version": 3
   },
   "file_extension": ".py",
   "mimetype": "text/x-python",
   "name": "python",
   "nbconvert_exporter": "python",
   "pygments_lexer": "ipython3",
   "version": "3.7.2"
  }
 },
 "nbformat": 4,
 "nbformat_minor": 2
}
