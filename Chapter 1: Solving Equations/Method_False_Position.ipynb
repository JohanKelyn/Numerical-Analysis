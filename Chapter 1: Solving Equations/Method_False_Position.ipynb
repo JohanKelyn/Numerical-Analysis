{
 "cells": [
  {
   "cell_type": "markdown",
   "metadata": {},
   "source": [
    "# Method of False Position\n",
    "\n",
    "The Method of False Position or Regular Falsi, is similar to the Bisection Method, but where the midpoint is replaced by a Secant Method-Like approximation. Given an interval $[a, b]$ that brackets a root (assume $f(a)f(b) < 0$), define the next point:\n",
    "\n",
    "$c = a - \\frac{f(a)(a-b)}{f(a)-f(b)} = \\frac{bf(a) - af(b)}{f(a)-f(b)}$\n",
    "\n",
    "as in the Secant Method, but unlike the Secant Method, the new point is guaranteed to lie in $[a, b]$, since the points $(a, f(a))$ and $(b, f(b))$ lie on separate sides of the x-axis "
   ]
  },
  {
   "cell_type": "code",
   "execution_count": 1,
   "metadata": {},
   "outputs": [],
   "source": [
    "import numpy as np\n",
    "import matplotlib.pyplot as plt\n",
    "%matplotlib inline"
   ]
  },
  {
   "cell_type": "code",
   "execution_count": 2,
   "metadata": {},
   "outputs": [],
   "source": [
    "def false_position(interval, f):\n",
    "    \"\"\"\n",
    "    Input: Interval  --> [a, b] array where f(a)f(b) < 0\n",
    "                  f  --> function to find the root\n",
    "                tol  --> stopping criteria\n",
    "    Output:       c  --> c-value where f(c) = 0\n",
    "    \n",
    "    \"\"\"\n",
    "    a = interval[0]\n",
    "    b = interval[1]\n",
    "    \n",
    "    error = 1\n",
    "    \n",
    "    while True:\n",
    "        c = (b*f(a) - a*f(b))/(f(a) - f(b))\n",
    "        if f(c) == 0:\n",
    "            break\n",
    "        if f(a)*f(c) < 0:\n",
    "            b = c\n",
    "        else:\n",
    "            a = c\n",
    "    return c\n",
    "    \n",
    "        "
   ]
  },
  {
   "cell_type": "markdown",
   "metadata": {},
   "source": [
    "<strong>Example 1: Apply the Method of False Position on the initial interval $[-1, 1]$ to find the root $r$ of $f(x) = x^{3} + 2x^{2} + \\frac{3}{2}x$</strong>"
   ]
  },
  {
   "cell_type": "code",
   "execution_count": 3,
   "metadata": {},
   "outputs": [
    {
     "data": {
      "image/png": "[encoded data removed]",
      "text/plain": [
       "<Figure size 432x288 with 1 Axes>"
      ]
     },
     "metadata": {
      "needs_background": "light"
     },
     "output_type": "display_data"
    },
    {
     "name": "stdout",
     "output_type": "stream",
     "text": [
      "-0.0\n"
     ]
    }
   ],
   "source": [
    "f = lambda x: x**3 + 2*x**2 + (3/2)*x\n",
    "t = np.linspace(-1,1,101)\n",
    "interval = [-1,1]\n",
    "\n",
    "# Plotting the function\n",
    "plt.plot(t, f(t), 'b*-')\n",
    "plt.title(\"Example 1\")\n",
    "plt.xlabel(\"x-values\")\n",
    "plt.ylabel(\"y-values\")\n",
    "plt.axhline(0, linewidth=1, color='black')\n",
    "plt.show()\n",
    "\n",
    "#finding the solution\n",
    "sol = false_position(interval, f)\n",
    "print(sol)"
   ]
  },
  {
   "cell_type": "code",
   "execution_count": null,
   "metadata": {},
   "outputs": [],
   "source": []
  }
 ],
 "metadata": {
  "kernelspec": {
   "display_name": "Python 3",
   "language": "python",
   "name": "python3"
  },
  "language_info": {
   "codemirror_mode": {
    "name": "ipython",
    "version": 3
   },
   "file_extension": ".py",
   "mimetype": "text/x-python",
   "name": "python",
   "nbconvert_exporter": "python",
   "pygments_lexer": "ipython3",
   "version": "3.7.2"
  }
 },
 "nbformat": 4,
 "nbformat_minor": 2
}
