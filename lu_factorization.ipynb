{
 "cells": [
  {
   "cell_type": "markdown",
   "metadata": {},
   "source": [
    "# LU Factorization"
   ]
  },
  {
   "cell_type": "markdown",
   "metadata": {},
   "source": [
    "We will try to find the matrices L and U such that A=LU"
   ]
  },
  {
   "cell_type": "code",
   "execution_count": 25,
   "metadata": {
    "collapsed": true
   },
   "outputs": [],
   "source": [
    "import numpy as np"
   ]
  },
  {
   "cell_type": "code",
   "execution_count": 302,
   "metadata": {},
   "outputs": [],
   "source": [
    "def LU(A,b):\n",
    "    n = b.size\n",
    "    L = np.zeros((n,n))\n",
    "    U = np.zeros((n,n))\n",
    "    for k in range(0,n):\n",
    "        for r in range(0,n):\n",
    "            U[k,r] = A[k,r] \n",
    "            if k==r:\n",
    "                L[k,r] = 1\n",
    "            if k<r:\n",
    "                factor = A[r,k]/A[k,k]\n",
    "                L[r,k] = factor\n",
    "                for c in range(0,n):\n",
    "                    A[r,c] = A[r,c] - factor*A[k,c]\n",
    "                    U[r,c] = A[r,c]\n",
    "    return [L,U]\n",
    "\n",
    "def back_subs(L,U,b):\n",
    "    n = b.size\n",
    "    x = np.zeros(n)\n",
    "    c = np.zeros(n)\n",
    "    \n",
    "    c[0] = b[0]/L[0,0]\n",
    "    for l in range(1,n):\n",
    "        s = 0\n",
    "        for m in range(0,l):\n",
    "            s = s + L[l,m]*c[m]\n",
    "        c[l] = (b[l] - s)/L[l,l]\n",
    "    \n",
    "    for l in range(n-1,-1,-1):\n",
    "        t = 0\n",
    "        for m in range(l+1,n):\n",
    "            t = t + U[l,m]*x[m]\n",
    "        x[l] = (c[l] - t)/U[l,l]\n",
    "    return [c,x]"
   ]
  },
  {
   "cell_type": "code",
   "execution_count": 310,
   "metadata": {},
   "outputs": [
    {
     "name": "stdout",
     "output_type": "stream",
     "text": [
      "[[ 1  2 -1]\n",
      " [ 2  1 -2]\n",
      " [-3  1  1]]\n",
      "[[ 3]\n",
      " [ 3]\n",
      " [-6]]\n"
     ]
    }
   ],
   "source": [
    "A = np.array([[1,2,-1],[2,1,-2],[-3,1,1]])\n",
    "print(A)\n",
    "b = np.array([[3],[3],[-6]])\n",
    "print(b)"
   ]
  },
  {
   "cell_type": "code",
   "execution_count": 311,
   "metadata": {},
   "outputs": [
    {
     "name": "stdout",
     "output_type": "stream",
     "text": [
      "L = \n",
      "[[ 1.          0.          0.        ]\n",
      " [ 2.          1.          0.        ]\n",
      " [-3.         -2.33333333  1.        ]]\n",
      "U = \n",
      "[[ 1.  2. -1.]\n",
      " [ 0. -3.  0.]\n",
      " [ 0.  0. -2.]]\n"
     ]
    }
   ],
   "source": [
    "[L,U] = LU(A,b)\n",
    "print(\"L = \")\n",
    "print(L)\n",
    "print(\"U = \")\n",
    "print(U)"
   ]
  },
  {
   "cell_type": "code",
   "execution_count": 312,
   "metadata": {},
   "outputs": [
    {
     "data": {
      "text/plain": [
       "array([[ 1.,  2., -1.],\n",
       "       [ 2.,  1., -2.],\n",
       "       [-3.,  1.,  1.]])"
      ]
     },
     "execution_count": 312,
     "metadata": {},
     "output_type": "execute_result"
    }
   ],
   "source": [
    "L.dot(U)\n"
   ]
  },
  {
   "cell_type": "code",
   "execution_count": 313,
   "metadata": {},
   "outputs": [
    {
     "name": "stdout",
     "output_type": "stream",
     "text": [
      "x = \n",
      "[ 3.  1.  2.]\n",
      "c = \n",
      "[ 3. -3. -4.]\n"
     ]
    }
   ],
   "source": [
    "[c,x] = back_subs(L,U,b)\n",
    "print(\"x = \")\n",
    "print(x)\n",
    "print(\"c = \")\n",
    "print(c)\n"
   ]
  },
  {
   "cell_type": "code",
   "execution_count": 315,
   "metadata": {},
   "outputs": [
    {
     "data": {
      "text/plain": [
       "array([ 3.,  3., -6.])"
      ]
     },
     "execution_count": 315,
     "metadata": {},
     "output_type": "execute_result"
    }
   ],
   "source": [
    "(L.dot(U)).dot(x)"
   ]
  },
  {
   "cell_type": "code",
   "execution_count": null,
   "metadata": {
    "collapsed": true
   },
   "outputs": [],
   "source": []
  }
 ],
 "metadata": {
  "kernelspec": {
   "display_name": "Python 3",
   "language": "python",
   "name": "python3"
  },
  "language_info": {
   "codemirror_mode": {
    "name": "ipython",
    "version": 3
   },
   "file_extension": ".py",
   "mimetype": "text/x-python",
   "name": "python",
   "nbconvert_exporter": "python",
   "pygments_lexer": "ipython3",
   "version": "3.6.1"
  }
 },
 "nbformat": 4,
 "nbformat_minor": 2
}
