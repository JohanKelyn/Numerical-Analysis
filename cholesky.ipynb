{
 "cells": [
  {
   "cell_type": "markdown",
   "metadata": {},
   "source": [
    "# Cholesky Factorization"
   ]
  },
  {
   "cell_type": "code",
   "execution_count": 1,
   "metadata": {
    "collapsed": true
   },
   "outputs": [],
   "source": [
    "import numpy as np"
   ]
  },
  {
   "cell_type": "code",
   "execution_count": 107,
   "metadata": {
    "collapsed": true
   },
   "outputs": [],
   "source": [
    "def cholesky(A):\n",
    "    A1 = A.copy()\n",
    "    n = np.shape(A1)[0]\n",
    "    R = np.zeros((n,n))\n",
    "    for i in range(n):\n",
    "        R[i,i] = np.sqrt(A1[i,i])\n",
    "        u_t = (1/R[i,i])*A1[i,i+1:]\n",
    "        U = np.outer(u_t,u_t)\n",
    "        R[i,i+1:] = u_t \n",
    "        A1[i+1:,i+1:] = A1[i+1:,i+1:] - U\n",
    "    return [R, R.T]"
   ]
  },
  {
   "cell_type": "code",
   "execution_count": 108,
   "metadata": {
    "collapsed": true
   },
   "outputs": [],
   "source": [
    "def back_subs(L,U,b):\n",
    "    n = b.size\n",
    "    x = np.zeros(n)\n",
    "    c = np.zeros(n)\n",
    "    \n",
    "    c[0] = b[0]/L[0,0]\n",
    "    for l in range(1,n):\n",
    "        s = 0\n",
    "        for m in range(0,l):\n",
    "            s = s + L[l,m]*c[m]\n",
    "        c[l] = (b[l] - s)/L[l,l]\n",
    "    \n",
    "    for l in range(n-1,-1,-1):\n",
    "        t = 0\n",
    "        for m in range(l+1,n):\n",
    "            t = t + U[l,m]*x[m]\n",
    "        x[l] = (c[l] - t)/U[l,l]\n",
    "    return [c,x]"
   ]
  },
  {
   "cell_type": "markdown",
   "metadata": {},
   "source": [
    "# Example 1\n",
    "* Solve Ax = b Using cholesky factorization"
   ]
  },
  {
   "cell_type": "code",
   "execution_count": 114,
   "metadata": {},
   "outputs": [
    {
     "name": "stdout",
     "output_type": "stream",
     "text": [
      "[[ 4 -2  2]\n",
      " [-2  2 -4]\n",
      " [ 2 -4 11]]\n"
     ]
    }
   ],
   "source": [
    "A = np.array([[4,-2,2],[-2,2,-4],[2,-4,11]])\n",
    "print(A)"
   ]
  },
  {
   "cell_type": "code",
   "execution_count": 115,
   "metadata": {},
   "outputs": [
    {
     "name": "stdout",
     "output_type": "stream",
     "text": [
      "[[ 3]\n",
      " [-7]\n",
      " [ 3]]\n"
     ]
    }
   ],
   "source": [
    "b = np.array([[3],[-7],[3]])\n",
    "print(b)"
   ]
  },
  {
   "cell_type": "code",
   "execution_count": 116,
   "metadata": {},
   "outputs": [
    {
     "name": "stdout",
     "output_type": "stream",
     "text": [
      "[[ 2. -1.  1.]\n",
      " [ 0.  1. -3.]\n",
      " [ 0.  0.  1.]]\n",
      "[[ 2.  0.  0.]\n",
      " [-1.  1.  0.]\n",
      " [ 1. -3.  1.]]\n",
      "[[ 4 -2  2]\n",
      " [-2  2 -4]\n",
      " [ 2 -4 11]]\n"
     ]
    }
   ],
   "source": [
    "[R,R_T] = cholesky(A)\n",
    "print(R)\n",
    "print(R_T)\n",
    "print(A)"
   ]
  },
  {
   "cell_type": "code",
   "execution_count": 117,
   "metadata": {},
   "outputs": [
    {
     "name": "stdout",
     "output_type": "stream",
     "text": [
      "[-17.  -50.5 -15. ]\n"
     ]
    }
   ],
   "source": [
    "[c,x] = back_subs(R_T,R,b)\n",
    "print(x)"
   ]
  },
  {
   "cell_type": "code",
   "execution_count": 118,
   "metadata": {},
   "outputs": [
    {
     "data": {
      "text/plain": [
       "array([ 3., -7.,  3.])"
      ]
     },
     "execution_count": 118,
     "metadata": {},
     "output_type": "execute_result"
    }
   ],
   "source": [
    "A.dot(x)"
   ]
  },
  {
   "cell_type": "code",
   "execution_count": null,
   "metadata": {
    "collapsed": true
   },
   "outputs": [],
   "source": []
  },
  {
   "cell_type": "code",
   "execution_count": null,
   "metadata": {
    "collapsed": true
   },
   "outputs": [],
   "source": []
  }
 ],
 "metadata": {
  "kernelspec": {
   "display_name": "Python 3",
   "language": "python",
   "name": "python3"
  },
  "language_info": {
   "codemirror_mode": {
    "name": "ipython",
    "version": 3
   },
   "file_extension": ".py",
   "mimetype": "text/x-python",
   "name": "python",
   "nbconvert_exporter": "python",
   "pygments_lexer": "ipython3",
   "version": "3.6.1"
  }
 },
 "nbformat": 4,
 "nbformat_minor": 2
}
