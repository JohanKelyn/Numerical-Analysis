{
 "cells": [
  {
   "cell_type": "markdown",
   "metadata": {},
   "source": [
    "# Least Squares: Normal Equation\n",
    "\n",
    "Least squares is based on orthogonality. The shortest distance from a point to a plane is carried by a line segment orthogonal to the plane. The normal equations are a computationla way to locate the line segment, which represents the least square error."
   ]
  },
  {
   "cell_type": "markdown",
   "metadata": {},
   "source": [
    "<h3>Definition:</h3> Given the incosistent system $Ax = b$, we can use:\n",
    "\n",
    "$A^{T}A\\bar{x} = A^{T}b$\n",
    "\n",
    "for the least square solution $\\bar{x}$ that minimizes the Eucliedeab length of the residual $r = b - Ax$"
   ]
  },
  {
   "cell_type": "code",
   "execution_count": 1,
   "metadata": {},
   "outputs": [],
   "source": [
    "import numpy as np\n",
    "import sympy as sp\n",
    "\n",
    "def normal_equation(A, b):\n",
    "    \"\"\"\n",
    "    Input: Matrix A, and Vector b\n",
    "    Output: Least square solution x_bar\n",
    "    Goal: Calculate the least square solution by applying the normal equation$\n",
    "    \"\"\"\n",
    "    # Define the transpose of A\n",
    "    A_T = A.transpose()\n",
    "    \n",
    "    # Calculate the multiplication of A transpose and A\n",
    "    l_mat = A_T.dot(A)\n",
    "    \n",
    "    # Calculate the multiplication of A transpose and b\n",
    "    r_vec = A_T.dot(b)\n",
    "    \n",
    "    # Calculate the solution of the system l_mat * x_bar = r_vec\n",
    "    # Note that we are using the method solve from the linalg package\n",
    "    x_bar = np.linalg.solve(l_mat, r_vec)\n",
    "    \n",
    "    res = b - A.dot(x_bar) \n",
    "    \n",
    "    return x_bar, res"
   ]
  },
  {
   "cell_type": "markdown",
   "metadata": {},
   "source": [
    "<h3>Example 1:</h3> Use the normal equation to find the least square solution of the inconsistent system:\n",
    "\n",
    "$x_{1} + x_{2} = 2$ <br>\n",
    "$x_{1} - x_{2} = 1$ <br>\n",
    "$x_{1} + x_{2} = 3$\n",
    "\n",
    "First, let's write the system into matrix form $Ax = b$, and then we will find $A^{T}$ to apply the normal equation"
   ]
  },
  {
   "cell_type": "code",
   "execution_count": 2,
   "metadata": {},
   "outputs": [
    {
     "name": "stdout",
     "output_type": "stream",
     "text": [
      "*********************************\n",
      "A = \n",
      "[[ 1  1]\n",
      " [ 1 -1]\n",
      " [ 1  1]]\n",
      "*********************************\n",
      "b = \n",
      "[[2]\n",
      " [1]\n",
      " [3]]\n",
      "*********************************\n",
      "x_bar = \n",
      "[[1.75]\n",
      " [0.75]]\n",
      "*********************************\n",
      "residual = \n",
      "[[-0.5]\n",
      " [ 0. ]\n",
      " [ 0.5]]\n",
      "*********************************\n"
     ]
    }
   ],
   "source": [
    "A = np.matrix([[1,1], [1,-1],[1,1]])\n",
    "b = np.array([[2],[1],[3]])\n",
    "\n",
    "print(\"*********************************\")\n",
    "print(\"A = \")\n",
    "print(A)\n",
    "print(\"*********************************\")\n",
    "print(\"b = \")\n",
    "print(b)\n",
    "print(\"*********************************\")\n",
    "\n",
    "x_bar, res = normal_equation(A, b)\n",
    "\n",
    "print(\"x_bar = \")\n",
    "print(x_bar)\n",
    "print(\"*********************************\")\n",
    "print(\"residual = \")\n",
    "print(res)\n",
    "print(\"*********************************\")"
   ]
  },
  {
   "cell_type": "markdown",
   "metadata": {},
   "source": [
    "<h3>Example 2:</h3> Solve the least square problem: \n",
    "\n",
    "$x_{1} - 4x_{2} = -3$ <br>\n",
    "$2x_{1} + 3x_{2} = 15$ <br>\n",
    "$2x_{1} + 2x_{2} = 9$\n",
    "\n"
   ]
  },
  {
   "cell_type": "code",
   "execution_count": 3,
   "metadata": {},
   "outputs": [
    {
     "name": "stdout",
     "output_type": "stream",
     "text": [
      "*********************************\n",
      "A = \n",
      "[[ 1 -4]\n",
      " [ 2  3]\n",
      " [ 2  2]]\n",
      "*********************************\n",
      "b = \n",
      "[[-3]\n",
      " [15]\n",
      " [ 9]]\n",
      "*********************************\n",
      "x_bar = \n",
      "[[3.8]\n",
      " [1.8]]\n",
      "*********************************\n",
      "residual = \n",
      "[[ 0.4]\n",
      " [ 2. ]\n",
      " [-2.2]]\n",
      "*********************************\n",
      "Euclidean Norm = \n",
      "3.00\n",
      "*********************************\n"
     ]
    }
   ],
   "source": [
    "A = np.matrix([[1,-4], [2,3],[2,2]])\n",
    "b = np.array([[-3],[15],[9]])\n",
    "\n",
    "print(\"*********************************\")\n",
    "print(\"A = \")\n",
    "print(A)\n",
    "print(\"*********************************\")\n",
    "print(\"b = \")\n",
    "print(b)\n",
    "print(\"*********************************\")\n",
    "\n",
    "x_bar, res = normal_equation(A, b)\n",
    "\n",
    "print(\"x_bar = \")\n",
    "print(x_bar)\n",
    "print(\"*********************************\")\n",
    "print(\"residual = \")\n",
    "print(res)\n",
    "print(\"*********************************\")\n",
    "\n",
    "e_norm = np.linalg.norm(res)\n",
    "\n",
    "print(\"Euclidean Norm = \")\n",
    "print(\"{:0.2f}\".format(e_norm))\n",
    "print(\"*********************************\")\n"
   ]
  },
  {
   "cell_type": "markdown",
   "metadata": {},
   "source": [
    "<h3>Example 3:</h3> Form the normal equations, and compute the least squares solutions and 2-norm error for the following system:\n",
    "\n",
    "$\n",
    "\\begin{bmatrix}\n",
    "3 & -1 & 2 \\\\\n",
    "4 & 1 & 0 \\\\\n",
    "-3 & 2 & 1 \\\\\n",
    "1 & 1 & 5 \\\\\n",
    "-2 & 0 & 3 \n",
    "\\end{bmatrix}\n",
    "\\begin{bmatrix}\n",
    "x_{1} \\\\\n",
    "x_{2}\\\\\n",
    "x_{3} \n",
    "\\end{bmatrix} = \n",
    "\\begin{bmatrix}\n",
    "10 \\\\\n",
    "10 \\\\\n",
    "-5 \\\\\n",
    "15 \\\\\n",
    "0\n",
    "\\end{bmatrix}\n",
    "$"
   ]
  },
  {
   "cell_type": "code",
   "execution_count": 4,
   "metadata": {},
   "outputs": [
    {
     "name": "stdout",
     "output_type": "stream",
     "text": [
      "*********************************\n",
      "A = \n",
      "[[ 3 -1  2]\n",
      " [ 4  1  0]\n",
      " [-3  2  1]\n",
      " [ 1  1  5]\n",
      " [-2  0  3]]\n",
      "*********************************\n",
      "b = \n",
      "[[10]\n",
      " [10]\n",
      " [-5]\n",
      " [15]\n",
      " [ 0]]\n",
      "*********************************\n",
      "x_bar = \n",
      "[[2.5246085 ]\n",
      " [0.66163311]\n",
      " [2.09340045]]\n",
      "*********************************\n",
      "residual = \n",
      "[[-1.09899329]\n",
      " [-0.76006711]\n",
      " [-0.84284116]\n",
      " [ 1.34675615]\n",
      " [-1.23098434]]\n",
      "*********************************\n",
      "Euclidean Norm = \n",
      "2.41\n",
      "*********************************\n"
     ]
    }
   ],
   "source": [
    "A = np.matrix([[3,-1, 2], [4,1,0],[-3,2,1],[1,1,5],[-2,0,3]])\n",
    "b = np.array([[10],[10],[-5],[15],[0]])\n",
    "\n",
    "print(\"*********************************\")\n",
    "print(\"A = \")\n",
    "print(A)\n",
    "print(\"*********************************\")\n",
    "print(\"b = \")\n",
    "print(b)\n",
    "print(\"*********************************\")\n",
    "\n",
    "x_bar, res = normal_equation(A, b)\n",
    "\n",
    "print(\"x_bar = \")\n",
    "print(x_bar)\n",
    "print(\"*********************************\")\n",
    "print(\"residual = \")\n",
    "print(res)\n",
    "print(\"*********************************\")\n",
    "\n",
    "e_norm = np.linalg.norm(res)\n",
    "\n",
    "print(\"Euclidean Norm = \")\n",
    "print(\"{:0.2f}\".format(e_norm))\n",
    "print(\"*********************************\")"
   ]
  },
  {
   "cell_type": "markdown",
   "metadata": {},
   "source": [
    "<h3>Example 4:</h3> Find the best parabola apporximation for the four data points (-1,1), (0,0), (1,0) and (2,-2) \n",
    "\n",
    "In order to find the best parabola fit, we are going to model our data points uisng the following equation:\n",
    "\n",
    "$y = a_{0} + a_{1}x + a_{2}x^{2}$"
   ]
  },
  {
   "cell_type": "code",
   "execution_count": 6,
   "metadata": {},
   "outputs": [
    {
     "name": "stdout",
     "output_type": "stream",
     "text": [
      "*********************************\n",
      "A = \n",
      "[[ 1 -1  1]\n",
      " [ 1  0  0]\n",
      " [ 1  1  1]\n",
      " [ 1  2  4]]\n",
      "*********************************\n",
      "b = \n",
      "[[ 1]\n",
      " [ 0]\n",
      " [ 0]\n",
      " [-2]]\n",
      "*********************************\n",
      "x_bar = \n",
      "[[ 0.45]\n",
      " [-0.65]\n",
      " [-0.25]]\n",
      "*********************************\n",
      "residual = \n",
      "[[ 0.15]\n",
      " [-0.45]\n",
      " [ 0.45]\n",
      " [-0.15]]\n",
      "*********************************\n",
      "Euclidean Norm = \n",
      "0.67\n",
      "*********************************\n"
     ]
    },
    {
     "data": {
      "text/plain": [
       "Text(0.5, 1.0, 'Best Parabola Approximation')"
      ]
     },
     "execution_count": 6,
     "metadata": {},
     "output_type": "execute_result"
    },
    {
     "data": {
      "image/png": "[encoded data removed]",
      "text/plain": [
       "<Figure size 432x288 with 1 Axes>"
      ]
     },
     "metadata": {
      "needs_background": "light"
     },
     "output_type": "display_data"
    }
   ],
   "source": [
    "import matplotlib.pyplot as plt\n",
    "A = np.matrix([[1,-1,1],[1,0,0],[1,1,1],[1,2,4]])\n",
    "b = np.array([[1],[0],[0],[-2]])\n",
    "\n",
    "print(\"*********************************\")\n",
    "print(\"A = \")\n",
    "print(A)\n",
    "print(\"*********************************\")\n",
    "print(\"b = \")\n",
    "print(b)\n",
    "print(\"*********************************\")\n",
    "\n",
    "x_bar, res = normal_equation(A, b)\n",
    "\n",
    "print(\"x_bar = \")\n",
    "print(x_bar)\n",
    "print(\"*********************************\")\n",
    "print(\"residual = \")\n",
    "print(res)\n",
    "print(\"*********************************\")\n",
    "\n",
    "e_norm = np.linalg.norm(res)\n",
    "\n",
    "print(\"Euclidean Norm = \")\n",
    "print(\"{:0.2f}\".format(e_norm))\n",
    "print(\"*********************************\")\n",
    "\n",
    "t = np.linspace(-1,2,1001)\n",
    "y = lambda z: x_bar[0,0] + x_bar[1,0]*z + x_bar[2,0]*z**2 \n",
    "\n",
    "plt.plot(A[:,1],b, \"o\", t, y(t), 'm-')\n",
    "plt.xlabel(\"t-value\")\n",
    "plt.ylabel(\"y-value\")\n",
    "plt.title(\"Best Parabola Approximation\")\n"
   ]
  },
  {
   "cell_type": "code",
   "execution_count": null,
   "metadata": {},
   "outputs": [],
   "source": []
  },
  {
   "cell_type": "code",
   "execution_count": null,
   "metadata": {},
   "outputs": [],
   "source": []
  }
 ],
 "metadata": {
  "kernelspec": {
   "display_name": "Python 3",
   "language": "python",
   "name": "python3"
  },
  "language_info": {
   "codemirror_mode": {
    "name": "ipython",
    "version": 3
   },
   "file_extension": ".py",
   "mimetype": "text/x-python",
   "name": "python",
   "nbconvert_exporter": "python",
   "pygments_lexer": "ipython3",
   "version": "3.7.2"
  }
 },
 "nbformat": 4,
 "nbformat_minor": 2
}
