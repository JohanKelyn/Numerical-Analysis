{
 "cells": [
  {
   "cell_type": "markdown",
   "metadata": {},
   "source": [
    "# LU Factorization"
   ]
  },
  {
   "cell_type": "markdown",
   "metadata": {},
   "source": [
    "We will try to find the matrices L and U such that A=LU"
   ]
  },
  {
   "cell_type": "code",
   "execution_count": 1,
   "metadata": {},
   "outputs": [],
   "source": [
    "import numpy as np"
   ]
  },
  {
   "cell_type": "code",
   "execution_count": 2,
   "metadata": {},
   "outputs": [],
   "source": [
    "def LU(A, b):\n",
    "    n = b.size\n",
    "    L = np.zeros((n,n))\n",
    "    U = np.zeros((n,n))\n",
    "    for k in range(n):\n",
    "        for r in range(n):\n",
    "            U[k,r] = A[k,r] \n",
    "            if k == r:\n",
    "                L[k,r] = 1\n",
    "            if k < r:\n",
    "                factor = A[r,k]/A[k,k]\n",
    "                L[r,k] = factor\n",
    "                for c in range(0,n):\n",
    "                    A[r,c] = A[r,c] - factor*A[k,c]\n",
    "                    U[r,c] = A[r,c]\n",
    "    return [L,U]\n",
    "\n",
    "def back_subs(L,U,b):\n",
    "    n = b.size\n",
    "    x = np.zeros(n)\n",
    "    c = np.zeros(n)\n",
    "    \n",
    "    c[0] = b[0]/L[0,0]\n",
    "    for l in range(1,n):\n",
    "        s = 0\n",
    "        for m in range(0,l):\n",
    "            s = s + L[l,m]*c[m]\n",
    "        c[l] = (b[l] - s)/L[l,l]\n",
    "    \n",
    "    for l in range(n-1,-1,-1):\n",
    "        t = 0\n",
    "        for m in range(l+1,n):\n",
    "            t = t + U[l,m]*x[m]\n",
    "        x[l] = (c[l] - t)/U[l,l]\n",
    "    return [c,x]"
   ]
  },
  {
   "cell_type": "markdown",
   "metadata": {},
   "source": [
    "<strong>Example 1:</strong>Solve the system by finding the LU factorization and the carrying out the two-step back substitution.\n",
    "\n",
    "A = \n",
    "$\\begin{bmatrix} 3 & 1 & 2 \\\\ 6 & 3 & 4 \\\\ 3 & 1 & 5 \\end{bmatrix}$, \n",
    "b = \n",
    "$\\begin{bmatrix} 0 \\\\ 1 \\\\ 3 \\end{bmatrix}$\n"
   ]
  },
  {
   "cell_type": "code",
   "execution_count": 3,
   "metadata": {},
   "outputs": [
    {
     "name": "stdout",
     "output_type": "stream",
     "text": [
      "\n",
      "L = \n",
      "[[1. 0. 0.]\n",
      " [2. 1. 0.]\n",
      " [1. 0. 1.]]\n",
      "\n",
      "U = \n",
      "[[3. 1. 2.]\n",
      " [0. 1. 0.]\n",
      " [0. 0. 3.]]\n",
      "\n",
      "A = LU = \n",
      "[[3. 1. 2.]\n",
      " [6. 3. 4.]\n",
      " [3. 1. 5.]]\n",
      "\n",
      "x = \n",
      "[-1.  1.  1.]\n",
      "\n",
      "b = Ax\n",
      "[[0. 1. 3.]]\n"
     ]
    }
   ],
   "source": [
    "A1 = np.matrix('3 1 2; 6 3 4; 3 1 5')\n",
    "b1 = np.array([[0],[1],[3]])\n",
    "[L1, U1] = LU(A1, b1)\n",
    "print(\"\\nL = \")\n",
    "print(L1)\n",
    "print(\"\\nU = \")\n",
    "print(U1)\n",
    "print(\"\\nA = LU = \")\n",
    "print(L1.dot(U1))\n",
    "[c1, x1] = back_subs(L1,U1,b1)\n",
    "print(\"\\nx = \")\n",
    "print(x1)\n",
    "print(\"\\nb = Ax\")\n",
    "print(A1.dot(x1))"
   ]
  },
  {
   "cell_type": "markdown",
   "metadata": {},
   "source": [
    "<strong>Example 2:</strong>Solve the system by finding the LU factorization and the carrying out the two-step back substitution.\n",
    "\n",
    "A = \n",
    "$\\begin{bmatrix} 4 & 2 & 0 \\\\ 4 & 4 & 2 \\\\ 2 & 2 & 3 \\end{bmatrix}$, \n",
    "b = \n",
    "$\\begin{bmatrix} 2 \\\\ 4 \\\\ 6 \\end{bmatrix}$\n"
   ]
  },
  {
   "cell_type": "code",
   "execution_count": 4,
   "metadata": {},
   "outputs": [
    {
     "name": "stdout",
     "output_type": "stream",
     "text": [
      "\n",
      "L = \n",
      "[[1.  0.  0. ]\n",
      " [1.  1.  0. ]\n",
      " [0.5 0.5 1. ]]\n",
      "\n",
      "U = \n",
      "[[4. 2. 0.]\n",
      " [0. 2. 2.]\n",
      " [0. 0. 2.]]\n",
      "\n",
      "A = LU = \n",
      "[[4. 2. 0.]\n",
      " [4. 4. 2.]\n",
      " [2. 2. 3.]]\n",
      "\n",
      "x = \n",
      "[[ 1.]\n",
      " [-1.]\n",
      " [ 2.]]\n",
      "\n",
      "b = Ax\n",
      "[[2.]\n",
      " [4.]\n",
      " [6.]]\n"
     ]
    }
   ],
   "source": [
    "A2 = np.matrix('4 2 0; 4 4 2; 2 2 3')\n",
    "b2 = np.array([[2],[4],[6]])\n",
    "[L2, U2] = LU(A2, b2)\n",
    "print(\"\\nL = \")\n",
    "print(L2)\n",
    "print(\"\\nU = \")\n",
    "print(U2)\n",
    "print(\"\\nA = LU = \")\n",
    "print(L2.dot(U2))\n",
    "[c2, x2] = back_subs(L2, U2, b2)\n",
    "x2.shape = (3, 1)\n",
    "print(\"\\nx = \")\n",
    "print(x2)\n",
    "print(\"\\nb = Ax\")\n",
    "print((L2.dot(U2)).dot(x2))"
   ]
  },
  {
   "cell_type": "code",
   "execution_count": null,
   "metadata": {},
   "outputs": [],
   "source": []
  },
  {
   "cell_type": "code",
   "execution_count": null,
   "metadata": {},
   "outputs": [],
   "source": []
  },
  {
   "cell_type": "code",
   "execution_count": null,
   "metadata": {
    "collapsed": true
   },
   "outputs": [],
   "source": []
  }
 ],
 "metadata": {
  "kernelspec": {
   "display_name": "Python 3",
   "language": "python",
   "name": "python3"
  },
  "language_info": {
   "codemirror_mode": {
    "name": "ipython",
    "version": 3
   },
   "file_extension": ".py",
   "mimetype": "text/x-python",
   "name": "python",
   "nbconvert_exporter": "python",
   "pygments_lexer": "ipython3",
   "version": "3.7.2"
  }
 },
 "nbformat": 4,
 "nbformat_minor": 2
}
