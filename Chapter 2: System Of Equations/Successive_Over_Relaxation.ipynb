{
 "cells": [
  {
   "cell_type": "markdown",
   "metadata": {},
   "source": [
    "# SOR Method\n",
    "\n",
    "    Use Jacobi method to solve a system of linear equations Ax=b with an initial guess x0 = [0, 0]\n",
    "    Decompose matrix A into A = L + D + U\n",
    "    Find the steps required to converge to the solution.\n",
    "    Plot the error vs step\n",
    "\n"
   ]
  },
  {
   "cell_type": "code",
   "execution_count": 1,
   "metadata": {
    "collapsed": true
   },
   "outputs": [],
   "source": [
    "import numpy as np\n",
    "from numpy.linalg import inv, norm\n",
    "import matplotlib.pyplot as plt\n",
    "%matplotlib inline"
   ]
  },
  {
   "cell_type": "code",
   "execution_count": 2,
   "metadata": {
    "collapsed": true
   },
   "outputs": [],
   "source": [
    "def sor(A,b,tol,w):\n",
    "    D = np.diag(np.diag(A))\n",
    "    L = (np.tril(A)-D)\n",
    "    U = (np.triu(A)-D)\n",
    "    err = 1\n",
    "    errs = list()\n",
    "    step = 0\n",
    "    x_old = np.zeros((len(b),1))\n",
    "    while err > 10**-6:\n",
    "        x = inv(w*L + D).dot((1-w)*D.dot(x_old)-w*U.dot(x_old)) + w*inv(D+w*L).dot(b)\n",
    "        err = norm(b-A.dot(x), 2)\n",
    "        errs.append(err)\n",
    "        x_old = x\n",
    "        step += 1\n",
    "    \n",
    "    return [x,step,errs]"
   ]
  },
  {
   "cell_type": "markdown",
   "metadata": {},
   "source": [
    "# Example 1"
   ]
  },
  {
   "cell_type": "code",
   "execution_count": 3,
   "metadata": {},
   "outputs": [
    {
     "name": "stdout",
     "output_type": "stream",
     "text": [
      "A = \n",
      "[[ 3  1 -1]\n",
      " [ 2  4  1]\n",
      " [-1  2  5]]\n",
      "b = \n",
      "[[4]\n",
      " [1]\n",
      " [1]]\n"
     ]
    }
   ],
   "source": [
    "A1 = np.array([[3,1,-1],[2,4,1],[-1,2,5]])\n",
    "b1 = np.array([[4],[1],[1]])\n",
    "print(\"A = \")\n",
    "print(A1)\n",
    "print(\"b = \")\n",
    "print(b1)"
   ]
  },
  {
   "cell_type": "code",
   "execution_count": 4,
   "metadata": {},
   "outputs": [
    {
     "name": "stdout",
     "output_type": "stream",
     "text": [
      "The solution is: \n",
      "[[ 1.99999983]\n",
      " [-0.9999999 ]\n",
      " [ 0.99999995]]\n",
      "The number of steps required to converge are: \n",
      "11\n"
     ]
    }
   ],
   "source": [
    "tol = 10**-6\n",
    "w = 1.13\n",
    "[x, step, err] = sor(A1,b1,tol,w)\n",
    "print(\"The solution is: \")\n",
    "print(x)\n",
    "print(\"The number of steps required to converge are: \")\n",
    "print(step)"
   ]
  },
  {
   "cell_type": "code",
   "execution_count": 5,
   "metadata": {},
   "outputs": [
    {
     "data": {
      "text/plain": [
       "<matplotlib.text.Text at 0x19096d687b8>"
      ]
     },
     "execution_count": 5,
     "metadata": {},
     "output_type": "execute_result"
    },
    {
     "data": {
      "image/png": "[encoded data removed]",
      "text/plain": [
       "<matplotlib.figure.Figure at 0x19096bc4d30>"
      ]
     },
     "metadata": {},
     "output_type": "display_data"
    }
   ],
   "source": [
    "%matplotlib inline\n",
    "plt.plot(err,'b*-')\n",
    "plt.title(\"Error Gauss_Seidel Method\")\n",
    "plt.xticks(np.arange(0,len(err)))\n",
    "plt.xlabel(\"step\")\n",
    "plt.ylabel(\"error\")"
   ]
  },
  {
   "cell_type": "markdown",
   "metadata": {
    "collapsed": true
   },
   "source": [
    "# Example 2"
   ]
  },
  {
   "cell_type": "code",
   "execution_count": 14,
   "metadata": {
    "collapsed": true
   },
   "outputs": [],
   "source": [
    "w = np.linspace(1,1.25,101)"
   ]
  },
  {
   "cell_type": "code",
   "execution_count": 15,
   "metadata": {},
   "outputs": [
    {
     "name": "stdout",
     "output_type": "stream",
     "text": [
      "A = \n",
      "[[ 3. -1.  0.  0.  0.  0.]\n",
      " [-1.  3. -1.  0.  0.  0.]\n",
      " [ 0. -1.  3. -1.  0.  0.]\n",
      " [ 0.  0. -1.  3. -1.  0.]\n",
      " [ 0.  0.  0. -1.  3. -1.]\n",
      " [ 0.  0.  0.  0. -1.  3.]]\n",
      "b = \n",
      "[[ 2.5]\n",
      " [ 1.5]\n",
      " [ 1. ]\n",
      " [ 1. ]\n",
      " [ 1.5]\n",
      " [ 2.5]]\n"
     ]
    }
   ],
   "source": [
    "n = 6\n",
    "A = np.identity(n)*3\n",
    "\n",
    "for i in range(0,n-1):\n",
    "    A[i,i+1] = -1\n",
    "    A[i+1,i] = -1\n",
    "print(\"A = \")\n",
    "print(A)\n",
    "\n",
    "b = np.array([[5/2],[3/2],[1],[1],[3/2],[5/2]])\n",
    "print(\"b = \")\n",
    "print(b)"
   ]
  },
  {
   "cell_type": "code",
   "execution_count": 16,
   "metadata": {
    "collapsed": true
   },
   "outputs": [],
   "source": [
    "err_lst = list()\n",
    "x_lst = list()\n",
    "step_lst = list()\n",
    "tol = 10**-6\n",
    "i = 0\n",
    "for wi in w:\n",
    "    [x, step, err] = sor(A,b,tol,wi)\n",
    "    err_lst.append(err[6])\n",
    "    "
   ]
  },
  {
   "cell_type": "code",
   "execution_count": 17,
   "metadata": {},
   "outputs": [
    {
     "data": {
      "text/plain": [
       "[<matplotlib.lines.Line2D at 0x190971f5b38>]"
      ]
     },
     "execution_count": 17,
     "metadata": {},
     "output_type": "execute_result"
    },
    {
     "data": {
      "image/png": "[encoded data removed]",
      "text/plain": [
       "<matplotlib.figure.Figure at 0x19097175908>"
      ]
     },
     "metadata": {},
     "output_type": "display_data"
    }
   ],
   "source": [
    "plt.plot(w,err_lst,'*')"
   ]
  },
  {
   "cell_type": "code",
   "execution_count": null,
   "metadata": {
    "collapsed": true
   },
   "outputs": [],
   "source": []
  }
 ],
 "metadata": {
  "kernelspec": {
   "display_name": "Python 3",
   "language": "python",
   "name": "python3"
  },
  "language_info": {
   "codemirror_mode": {
    "name": "ipython",
    "version": 3
   },
   "file_extension": ".py",
   "mimetype": "text/x-python",
   "name": "python",
   "nbconvert_exporter": "python",
   "pygments_lexer": "ipython3",
   "version": "3.6.1"
  }
 },
 "nbformat": 4,
 "nbformat_minor": 2
}
