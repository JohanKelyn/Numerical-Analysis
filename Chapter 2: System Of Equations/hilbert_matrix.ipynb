{
 "cells": [
  {
   "cell_type": "markdown",
   "metadata": {},
   "source": [
    "# Hilbert Matrix"
   ]
  },
  {
   "cell_type": "code",
   "execution_count": 1,
   "metadata": {},
   "outputs": [],
   "source": [
    "import numpy as np"
   ]
  },
  {
   "cell_type": "code",
   "execution_count": 2,
   "metadata": {},
   "outputs": [],
   "source": [
    "def hilbert_matrix(n):\n",
    "    H = np.zeros((n,n))\n",
    "    for i in range(n):\n",
    "        for j in range(n):\n",
    "            H[i,j] = 1/(i+1+j)\n",
    "    return H"
   ]
  },
  {
   "cell_type": "markdown",
   "metadata": {
    "collapsed": true
   },
   "source": [
    "<strong>Example 1:</strong> Generate the Hilbert Matrix with n = 2, 3, 4, 5"
   ]
  },
  {
   "cell_type": "code",
   "execution_count": 3,
   "metadata": {},
   "outputs": [
    {
     "name": "stdout",
     "output_type": "stream",
     "text": [
      "\n",
      "*****************************\n",
      "n = 2\n",
      "H\n",
      "[[1.         0.5       ]\n",
      " [0.5        0.33333333]]\n",
      "\n",
      "*****************************\n",
      "n = 3\n",
      "H\n",
      "[[1.         0.5        0.33333333]\n",
      " [0.5        0.33333333 0.25      ]\n",
      " [0.33333333 0.25       0.2       ]]\n",
      "\n",
      "*****************************\n",
      "n = 4\n",
      "H\n",
      "[[1.         0.5        0.33333333 0.25      ]\n",
      " [0.5        0.33333333 0.25       0.2       ]\n",
      " [0.33333333 0.25       0.2        0.16666667]\n",
      " [0.25       0.2        0.16666667 0.14285714]]\n",
      "\n",
      "*****************************\n",
      "n = 5\n",
      "H\n",
      "[[1.         0.5        0.33333333 0.25       0.2       ]\n",
      " [0.5        0.33333333 0.25       0.2        0.16666667]\n",
      " [0.33333333 0.25       0.2        0.16666667 0.14285714]\n",
      " [0.25       0.2        0.16666667 0.14285714 0.125     ]\n",
      " [0.2        0.16666667 0.14285714 0.125      0.11111111]]\n"
     ]
    }
   ],
   "source": [
    "print(\"\\n*****************************\")\n",
    "print(\"n = 2\")\n",
    "print(\"H\")\n",
    "H1 = hilbert_matrix(2)\n",
    "print(H1)\n",
    "\n",
    "print(\"\\n*****************************\")\n",
    "print(\"n = 3\")\n",
    "print(\"H\")\n",
    "H2 = hilbert_matrix(3)\n",
    "print(H2)\n",
    "\n",
    "print(\"\\n*****************************\")\n",
    "print(\"n = 4\")\n",
    "print(\"H\")\n",
    "H3 = hilbert_matrix(4)\n",
    "print(H3)\n",
    "\n",
    "print(\"\\n*****************************\")\n",
    "print(\"n = 5\")\n",
    "print(\"H\")\n",
    "H4 = hilbert_matrix(5)\n",
    "print(H4)"
   ]
  },
  {
   "cell_type": "code",
   "execution_count": null,
   "metadata": {},
   "outputs": [],
   "source": []
  }
 ],
 "metadata": {
  "kernelspec": {
   "display_name": "Python 3",
   "language": "python",
   "name": "python3"
  },
  "language_info": {
   "codemirror_mode": {
    "name": "ipython",
    "version": 3
   },
   "file_extension": ".py",
   "mimetype": "text/x-python",
   "name": "python",
   "nbconvert_exporter": "python",
   "pygments_lexer": "ipython3",
   "version": "3.7.2"
  }
 },
 "nbformat": 4,
 "nbformat_minor": 2
}
