{
 "cells": [
  {
   "cell_type": "markdown",
   "metadata": {},
   "source": [
    "# Jacobi Method\n",
    "* Use Jacobi method to solve a system of linear equations Ax=b with an initial guess x0 = [0, 0]\n",
    "* Decompose matrix A into A = L + D + U\n",
    "* Find the steps required to converge to the solution. \n",
    "* Plot the error vs step"
   ]
  },
  {
   "cell_type": "code",
   "execution_count": 2,
   "metadata": {
    "collapsed": true
   },
   "outputs": [],
   "source": [
    "import numpy as np\n",
    "from numpy.linalg import inv, norm\n",
    "import matplotlib.pyplot as plt"
   ]
  },
  {
   "cell_type": "code",
   "execution_count": 58,
   "metadata": {
    "collapsed": true
   },
   "outputs": [],
   "source": [
    "#Jacobi Method\n",
    "# Input: matrix A, vector b, and tolerance\n",
    "# Output: solution x, number of steps, list of errors using backward error\n",
    "def jacobi(A,b,tol):\n",
    "    D = np.diag(np.diag(A))\n",
    "    U = (np.triu(A)-D)\n",
    "    L = (np.tril(A)-D)\n",
    "    \n",
    "    err = 1\n",
    "    errs = list()\n",
    "    step = 0\n",
    "    x_old = np.zeros((len(b),1))\n",
    "    while err > tol:\n",
    "        x = inv(D).dot(b -(L+U).dot(x_old))\n",
    "        err = norm(b-A.dot(x), 2)\n",
    "        errs.append(err)\n",
    "        x_old = x\n",
    "        step += 1\n",
    "    return [x,step,errs]"
   ]
  },
  {
   "cell_type": "markdown",
   "metadata": {},
   "source": [
    "# Example 1"
   ]
  },
  {
   "cell_type": "code",
   "execution_count": 59,
   "metadata": {
    "collapsed": true
   },
   "outputs": [],
   "source": [
    "A1 = np.array([[3,1],[1,2]])\n",
    "b1 = np.array([[5],[5]])"
   ]
  },
  {
   "cell_type": "code",
   "execution_count": 60,
   "metadata": {},
   "outputs": [
    {
     "name": "stdout",
     "output_type": "stream",
     "text": [
      "A = \n",
      "[[3 1]\n",
      " [1 2]]\n",
      "b = \n",
      "[[5]\n",
      " [5]]\n"
     ]
    }
   ],
   "source": [
    "print(\"A = \")\n",
    "print(A1)\n",
    "print(\"b = \")\n",
    "print(b1)"
   ]
  },
  {
   "cell_type": "code",
   "execution_count": 61,
   "metadata": {},
   "outputs": [
    {
     "name": "stdout",
     "output_type": "stream",
     "text": [
      "The solution is: \n",
      "[[ 0.9999999]\n",
      " [ 1.9999998]]\n",
      "The number of steps required to converge are: \n",
      "18\n"
     ]
    }
   ],
   "source": [
    "tol = 10**-6\n",
    "[x, step, err] = jacobi(A1,b1,tol)\n",
    "print(\"The solution is: \")\n",
    "print(x)\n",
    "print(\"The number of steps required to converge are: \")\n",
    "print(step)"
   ]
  },
  {
   "cell_type": "code",
   "execution_count": 62,
   "metadata": {},
   "outputs": [
    {
     "data": {
      "text/plain": [
       "<matplotlib.text.Text at 0x26258e11a90>"
      ]
     },
     "execution_count": 62,
     "metadata": {},
     "output_type": "execute_result"
    },
    {
     "data": {
      "image/png": "[encoded data removed]",
      "text/plain": [
       "<matplotlib.figure.Figure at 0x26258c50898>"
      ]
     },
     "metadata": {},
     "output_type": "display_data"
    }
   ],
   "source": [
    "%matplotlib inline\n",
    "plt.plot(err,'b*-')\n",
    "plt.title(\"Error Jacobi Method\")\n",
    "plt.xticks(np.arange(0,len(err)))\n",
    "plt.xlabel(\"steps\")\n",
    "plt.ylabel(\"error\")"
   ]
  },
  {
   "cell_type": "markdown",
   "metadata": {
    "collapsed": true
   },
   "source": [
    "# Example 2"
   ]
  },
  {
   "cell_type": "code",
   "execution_count": 63,
   "metadata": {},
   "outputs": [
    {
     "name": "stdout",
     "output_type": "stream",
     "text": [
      "A = \n",
      "[[ 3  1 -1]\n",
      " [ 2  4  1]\n",
      " [-1  2  5]]\n",
      "b = \n",
      "[[4]\n",
      " [1]\n",
      " [1]]\n"
     ]
    }
   ],
   "source": [
    "A2 = np.array([[3,1,-1],[2,4,1],[-1,2,5]])\n",
    "print(\"A = \")\n",
    "print(A2)\n",
    "\n",
    "b2 = np.array([[4],[1],[1]])\n",
    "print(\"b = \")\n",
    "print(b2)"
   ]
  },
  {
   "cell_type": "code",
   "execution_count": 64,
   "metadata": {},
   "outputs": [
    {
     "name": "stdout",
     "output_type": "stream",
     "text": [
      "The solution is: \n",
      "[[ 1.99999969]\n",
      " [-0.99999967]\n",
      " [ 0.99999971]]\n",
      "The number of steps required to converge are: \n",
      "39\n"
     ]
    }
   ],
   "source": [
    "tol = 10**-6\n",
    "[x, step, err] = jacobi(A2,b2,tol)\n",
    "print(\"The solution is: \")\n",
    "print(x)\n",
    "print(\"The number of steps required to converge are: \")\n",
    "print(step)"
   ]
  },
  {
   "cell_type": "code",
   "execution_count": 71,
   "metadata": {},
   "outputs": [
    {
     "data": {
      "text/plain": [
       "<matplotlib.text.Text at 0x2625943d9b0>"
      ]
     },
     "execution_count": 71,
     "metadata": {},
     "output_type": "execute_result"
    },
    {
     "data": {
      "image/png": "[encoded data removed]",
      "text/plain": [
       "<matplotlib.figure.Figure at 0x26259214d30>"
      ]
     },
     "metadata": {},
     "output_type": "display_data"
    }
   ],
   "source": [
    "plt.figure(figsize=(14,5))\n",
    "plt.plot(err,'b*-')\n",
    "plt.title(\"Error Jacobi Method\")\n",
    "plt.xticks(np.arange(0,len(err)))\n",
    "plt.xlabel(\"steps\")\n",
    "plt.ylabel(\"error\")"
   ]
  },
  {
   "cell_type": "code",
   "execution_count": null,
   "metadata": {
    "collapsed": true
   },
   "outputs": [],
   "source": []
  }
 ],
 "metadata": {
  "kernelspec": {
   "display_name": "Python 3",
   "language": "python",
   "name": "python3"
  },
  "language_info": {
   "codemirror_mode": {
    "name": "ipython",
    "version": 3
   },
   "file_extension": ".py",
   "mimetype": "text/x-python",
   "name": "python",
   "nbconvert_exporter": "python",
   "pygments_lexer": "ipython3",
   "version": "3.7.2"
  }
 },
 "nbformat": 4,
 "nbformat_minor": 2
}
