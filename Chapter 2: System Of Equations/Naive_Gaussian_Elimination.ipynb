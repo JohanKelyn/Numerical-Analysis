{
 "cells": [
  {
   "cell_type": "markdown",
   "metadata": {},
   "source": [
    "# Naive Gaussian Elimination"
   ]
  },
  {
   "cell_type": "code",
   "execution_count": 1,
   "metadata": {},
   "outputs": [],
   "source": [
    "import numpy as np"
   ]
  },
  {
   "cell_type": "code",
   "execution_count": 2,
   "metadata": {},
   "outputs": [],
   "source": [
    "def naive_gaussian(A,b):\n",
    "    n = b.size\n",
    "    for j in range(n-1):\n",
    "        for i in range(j+1,n):\n",
    "            mult = A[i,j]/A[j,j]\n",
    "            for k in range(j+1,n):\n",
    "                A[i,k] = A[i,k] - mult*A[j,k]\n",
    "            b[i] = b[i] - mult*b[j]\n",
    "    c = b\n",
    "    x = np.ones(n)\n",
    "    for l in range(n-1,-1,-1):\n",
    "        for m in range(l+1,n):\n",
    "            c[l] = c[l] - A[l,m]*x[m]\n",
    "        x[l] = b[l]/A[l,l]\n",
    "    return x"
   ]
  },
  {
   "cell_type": "markdown",
   "metadata": {},
   "source": [
    "<strong>Example 1:</strong> Use the naive-Gaussian Method to solve the following system of equations:\n",
    "\n",
    "* $2x - 2y - z = -2$\n",
    "\n",
    "  $4x + y - 2y = 1$\n",
    "  \n",
    "  $-2x + y - z = -3$\n",
    "  "
   ]
  },
  {
   "cell_type": "code",
   "execution_count": 3,
   "metadata": {},
   "outputs": [
    {
     "name": "stdout",
     "output_type": "stream",
     "text": [
      "A = \n",
      "[[ 2 -2 -1]\n",
      " [ 4  1 -2]\n",
      " [-2  1 -1]]\n",
      "\n",
      "b = \n",
      "[-2  1 -3]\n",
      "\n",
      " ************** Solution: ************* \n",
      "\n",
      "The solution is: [1. 1. 2.]\n"
     ]
    }
   ],
   "source": [
    "A = np.matrix('2 -2 -1; 4 1 -2; -2 1 -1')\n",
    "b = np.array([-2, 1, -3])\n",
    "print(\"A = \")\n",
    "print(A)\n",
    "print(\"\")\n",
    "print(\"b = \")\n",
    "print(b)\n",
    "\n",
    "print('\\n ************** Solution: ************* \\n')\n",
    "sol = naive_gaussian(A, b)\n",
    "print(\"The solution is: {}\".format(sol))"
   ]
  },
  {
   "cell_type": "markdown",
   "metadata": {},
   "source": [
    "<strong>Example 2:</strong> Use the naive-Gaussian Method to solve the following system of equations:\n",
    "  \n",
    "* $x + 2y - z = 2$\n",
    "\n",
    "  $    3y + z = 4$\n",
    "  \n",
    "  $2x - y + z = 2$"
   ]
  },
  {
   "cell_type": "code",
   "execution_count": 4,
   "metadata": {},
   "outputs": [
    {
     "name": "stdout",
     "output_type": "stream",
     "text": [
      "A = \n",
      "[[ 1  2 -1]\n",
      " [ 0  3  1]\n",
      " [ 2 -1  1]]\n",
      "\n",
      "b = \n",
      "[2 4 2]\n",
      "\n",
      " ************** Solution: ************* \n",
      "\n",
      "The solution is: [1. 1. 1.]\n"
     ]
    }
   ],
   "source": [
    "A = np.matrix('1 2 -1; 0 3 1; 2 -1 1')\n",
    "b = np.array([2, 4, 2])\n",
    "print(\"A = \")\n",
    "print(A)\n",
    "print(\"\")\n",
    "print(\"b = \")\n",
    "print(b)\n",
    "\n",
    "print('\\n ************** Solution: ************* \\n')\n",
    "sol = naive_gaussian(A, b)\n",
    "print(\"The solution is: {}\".format(sol))"
   ]
  },
  {
   "cell_type": "markdown",
   "metadata": {},
   "source": [
    "<strong>Example 3:</strong> Let H denote the nxn Helbert matrix, whose(i,j) entry is 1/(i+j-1). Find the Solution for Hx=b for n = 5, and b is the vector of all ones."
   ]
  },
  {
   "cell_type": "code",
   "execution_count": 5,
   "metadata": {},
   "outputs": [],
   "source": [
    "def hilbert_matrix(n):\n",
    "    H = np.zeros((n,n))\n",
    "    for i in range(n):\n",
    "        for j in range(n):\n",
    "            H[i,j] = 1/(i+1+j)\n",
    "    return H"
   ]
  },
  {
   "cell_type": "code",
   "execution_count": 6,
   "metadata": {},
   "outputs": [
    {
     "name": "stdout",
     "output_type": "stream",
     "text": [
      "H = \n",
      "[[1.         0.5        0.33333333 0.25       0.2       ]\n",
      " [0.5        0.33333333 0.25       0.2        0.16666667]\n",
      " [0.33333333 0.25       0.2        0.16666667 0.14285714]\n",
      " [0.25       0.2        0.16666667 0.14285714 0.125     ]\n",
      " [0.2        0.16666667 0.14285714 0.125      0.11111111]]\n",
      "\n",
      "b = \n",
      "[1. 1. 1. 1. 1.]\n",
      "\n",
      " ************** Solution: ************* \n",
      "\n",
      "The solution is: [    5.  -120.   630. -1120.   630.]\n"
     ]
    }
   ],
   "source": [
    "H = hilbert_matrix(5)\n",
    "b1 = np.ones(5)\n",
    "\n",
    "print(\"H = \")\n",
    "print(H)\n",
    "print(\"\")\n",
    "print(\"b = \")\n",
    "print(b1)\n",
    "\n",
    "print('\\n ************** Solution: ************* \\n')\n",
    "sol = naive_gaussian(H, b1)\n",
    "print(\"The solution is: {}\".format(sol))"
   ]
  },
  {
   "cell_type": "code",
   "execution_count": null,
   "metadata": {},
   "outputs": [],
   "source": []
  },
  {
   "cell_type": "code",
   "execution_count": null,
   "metadata": {},
   "outputs": [],
   "source": []
  }
 ],
 "metadata": {
  "kernelspec": {
   "display_name": "Python 3",
   "language": "python",
   "name": "python3"
  },
  "language_info": {
   "codemirror_mode": {
    "name": "ipython",
    "version": 3
   },
   "file_extension": ".py",
   "mimetype": "text/x-python",
   "name": "python",
   "nbconvert_exporter": "python",
   "pygments_lexer": "ipython3",
   "version": "3.7.2"
  }
 },
 "nbformat": 4,
 "nbformat_minor": 2
}
