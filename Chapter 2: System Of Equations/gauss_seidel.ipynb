{
 "cells": [
  {
   "cell_type": "markdown",
   "metadata": {},
   "source": [
    "# Gauss-Seidel Function\n",
    "* Use Jacobi method to solve a system of linear equations Ax=b with an initial guess x0 = [0, 0]\n",
    "* Decompose matrix A into A = L + D + U\n",
    "* Find the steps required to converge to the solution. "
   ]
  },
  {
   "cell_type": "code",
   "execution_count": 1,
   "metadata": {
    "collapsed": true
   },
   "outputs": [],
   "source": [
    "import numpy as np\n",
    "from numpy.linalg import inv, norm\n",
    "import matplotlib.pyplot as plt"
   ]
  },
  {
   "cell_type": "code",
   "execution_count": 2,
   "metadata": {
    "collapsed": true
   },
   "outputs": [],
   "source": [
    "def gauss_seidel(A,b,tol):\n",
    "    D = np.diag(np.diag(A))\n",
    "    L = (np.tril(A)-D)\n",
    "    U = (np.triu(A)-D)\n",
    "\n",
    "    err = 1\n",
    "    errs = list()\n",
    "    step = 0\n",
    "    x_old = np.zeros((len(b),1))\n",
    "    while err > 10**-6:\n",
    "        x = np.dot(inv(inv(D).dot(L)+np.identity(len(b))),inv(D).dot(b - U.dot(x_old)))\n",
    "        err = norm(b-A.dot(x), 2)\n",
    "        errs.append(err)\n",
    "        x_old = x\n",
    "        step += 1\n",
    "    return [x,step,errs]"
   ]
  },
  {
   "cell_type": "code",
   "execution_count": null,
   "metadata": {
    "collapsed": true
   },
   "outputs": [],
   "source": []
  }
 ],
 "metadata": {
  "kernelspec": {
   "display_name": "Python 3",
   "language": "python",
   "name": "python3"
  },
  "language_info": {
   "codemirror_mode": {
    "name": "ipython",
    "version": 3
   },
   "file_extension": ".py",
   "mimetype": "text/x-python",
   "name": "python",
   "nbconvert_exporter": "python",
   "pygments_lexer": "ipython3",
   "version": "3.6.1"
  }
 },
 "nbformat": 4,
 "nbformat_minor": 2
}
