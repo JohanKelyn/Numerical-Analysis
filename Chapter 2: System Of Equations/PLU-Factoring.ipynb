{
 "cells": [
  {
   "cell_type": "markdown",
   "metadata": {},
   "source": [
    "# LU Factorization"
   ]
  },
  {
   "cell_type": "markdown",
   "metadata": {},
   "source": [
    "We will try to find the matrices L and U such that A=LU"
   ]
  },
  {
   "cell_type": "code",
   "execution_count": 1,
   "metadata": {},
   "outputs": [],
   "source": [
    "import numpy as np"
   ]
  },
  {
   "cell_type": "code",
   "execution_count": 2,
   "metadata": {},
   "outputs": [],
   "source": [
    "def PLU_factorization(A):\n",
    "    n = int(np.sqrt(A.size))\n",
    "    L = np.zeros((n,n), dtype='float64')\n",
    "    U = np.zeros((n,n), dtype='float64')\n",
    "    P = np.identity(n)\n",
    "    for k in range(n):\n",
    "        print(\"\")\n",
    "        print(A)\n",
    "        for i in range(k,n):\n",
    "            if A[k,k] < A[i,k]:\n",
    "                tempA = A[k,:].copy()\n",
    "                tempP = P[k,:].copy()\n",
    "                A[k,:] = A[i,:]\n",
    "                P[k,:] = P[i,:]\n",
    "                A[i,:] = tempA\n",
    "                P[i,:] = tempP\n",
    "        print(\"\")\n",
    "        print(A)\n",
    "        for r in range(n):\n",
    "            U[k,:] = A[k,:] \n",
    "            if k == r:\n",
    "                L[k,r] = 1\n",
    "            if k < r:\n",
    "                factor = A[r,k]/A[k,k]\n",
    "                L[r,k] = factor\n",
    "                A[r,:] = A[r,:] - factor*A[k,:]\n",
    "                U[r,:] = A[r,:] \n",
    "\n",
    "    return [P,L,U]\n",
    "\n",
    "\n",
    "def back_subs(L,U,b):\n",
    "    n = b.size\n",
    "    x = np.zeros(n)\n",
    "    c = np.zeros(n)\n",
    "    \n",
    "    c[0] = b[0]/L[0,0]\n",
    "    for l in range(1,n):\n",
    "        s = 0\n",
    "        for m in range(0,l):\n",
    "            s = s + L[l,m]*c[m]\n",
    "        c[l] = (b[l] - s)/L[l,l]\n",
    "    \n",
    "    for l in range(n-1,-1,-1):\n",
    "        t = 0\n",
    "        for m in range(l+1,n):\n",
    "            t = t + U[l,m]*x[m]\n",
    "        x[l] = (c[l] - t)/U[l,l]\n",
    "    return [c,x]\n"
   ]
  },
  {
   "cell_type": "markdown",
   "metadata": {},
   "source": [
    "<strong>Example 1:</strong> Find the PA=LU factorization of the matrix\n",
    "\n",
    "A = \n",
    "$\\begin{bmatrix} 2 & 1 & 5 \\\\ 4 & 4 & -4 \\\\ 1 & 3 & 1 \\end{bmatrix}$, "
   ]
  },
  {
   "cell_type": "code",
   "execution_count": 3,
   "metadata": {},
   "outputs": [
    {
     "name": "stdout",
     "output_type": "stream",
     "text": [
      "\n",
      "[[ 2.  1.  5.]\n",
      " [ 4.  4. -4.]\n",
      " [ 1.  3.  1.]]\n",
      "\n",
      "[[ 4.  4. -4.]\n",
      " [ 2.  1.  5.]\n",
      " [ 1.  3.  1.]]\n",
      "\n",
      "[[ 4.  4. -4.]\n",
      " [ 0. -1.  7.]\n",
      " [ 0.  2.  2.]]\n",
      "\n",
      "[[ 4.  4. -4.]\n",
      " [ 0.  2.  2.]\n",
      " [ 0. -1.  7.]]\n",
      "\n",
      "[[ 4.  4. -4.]\n",
      " [ 0.  2.  2.]\n",
      " [ 0.  0.  8.]]\n",
      "\n",
      "[[ 4.  4. -4.]\n",
      " [ 0.  2.  2.]\n",
      " [ 0.  0.  8.]]\n",
      "\n",
      " P = \n",
      "[[0. 1. 0.]\n",
      " [0. 0. 1.]\n",
      " [1. 0. 0.]]\n",
      "\n",
      " L = \n",
      "[[ 1.    0.    0.  ]\n",
      " [ 0.5   1.    0.  ]\n",
      " [ 0.25 -0.5   1.  ]]\n",
      "\n",
      " U = \n",
      "[[ 4.  4. -4.]\n",
      " [ 0.  2.  2.]\n",
      " [ 0.  0.  8.]]\n"
     ]
    }
   ],
   "source": [
    "A = np.matrix([[2, 1, 5],[4, 4, -4], [1, 3 , 1]], dtype='float64')\n",
    "\n",
    "[P, L, U] = PLU_factorization(A)\n",
    "\n",
    "print(\"\\n P = \")\n",
    "print(P)\n",
    "print(\"\\n L = \")\n",
    "print(L)\n",
    "print(\"\\n U = \")\n",
    "print(U)"
   ]
  },
  {
   "cell_type": "markdown",
   "metadata": {},
   "source": [
    "<strong>Example 2:</strong> Use the $PA = LU$ factorization to solve the system $Ax = b$, where\n",
    "\n",
    "$A = \\begin{bmatrix} 2 & 1 & 5 \\\\ 4 & 4 & -4 \\\\ 1 & 3 & 1\\end{bmatrix}$,  $b = \\begin{bmatrix} 5 \\\\ 0 \\\\ 6 \\end{bmatrix}$ "
   ]
  },
  {
   "cell_type": "code",
   "execution_count": 4,
   "metadata": {},
   "outputs": [
    {
     "name": "stdout",
     "output_type": "stream",
     "text": [
      "\n",
      "[[ 2.  1.  5.]\n",
      " [ 4.  4. -4.]\n",
      " [ 1.  3.  1.]]\n",
      "\n",
      "[[ 4.  4. -4.]\n",
      " [ 2.  1.  5.]\n",
      " [ 1.  3.  1.]]\n",
      "\n",
      "[[ 4.  4. -4.]\n",
      " [ 0. -1.  7.]\n",
      " [ 0.  2.  2.]]\n",
      "\n",
      "[[ 4.  4. -4.]\n",
      " [ 0.  2.  2.]\n",
      " [ 0. -1.  7.]]\n",
      "\n",
      "[[ 4.  4. -4.]\n",
      " [ 0.  2.  2.]\n",
      " [ 0.  0.  8.]]\n",
      "\n",
      "[[ 4.  4. -4.]\n",
      " [ 0.  2.  2.]\n",
      " [ 0.  0.  8.]]\n",
      "[-1.  2.  1.]\n"
     ]
    }
   ],
   "source": [
    "A = np.matrix([[2, 1, 5],[4, 4, -4], [1, 3 , 1]], dtype='float64')\n",
    "b = np.array([5,0,6])\n",
    "\n",
    "[P, L, U] = PLU_factorization(A)\n",
    "\n",
    "[c, x] = back_subs(L,U,P.dot(b))\n",
    "\n",
    "print(x)"
   ]
  },
  {
   "cell_type": "markdown",
   "metadata": {},
   "source": [
    "<strong>Example 3:</strong> Solve the system $2x_{1} + 3x_{2} = 4$, $3x_{1} + 2x_{2} = 1$ using the PA = LU factorization with partial pivoting"
   ]
  },
  {
   "cell_type": "code",
   "execution_count": 5,
   "metadata": {},
   "outputs": [
    {
     "name": "stdout",
     "output_type": "stream",
     "text": [
      "\n",
      " A = \n",
      "[[2. 3.]\n",
      " [3. 2.]]\n",
      "\n",
      " b = \n",
      "[4 1]\n",
      "\n",
      "[[2. 3.]\n",
      " [3. 2.]]\n",
      "\n",
      "[[3. 2.]\n",
      " [2. 3.]]\n",
      "\n",
      "[[3.         2.        ]\n",
      " [0.         1.66666667]]\n",
      "\n",
      "[[3.         2.        ]\n",
      " [0.         1.66666667]]\n",
      "\n",
      " L = \n",
      "[[1.         0.        ]\n",
      " [0.66666667 1.        ]]\n",
      "\n",
      " U = \n",
      "[[3.         2.        ]\n",
      " [0.         1.66666667]]\n",
      "\n",
      " P = \n",
      "[[0. 1.]\n",
      " [1. 0.]]\n",
      "\n",
      "x = \n",
      "[-1.  2.]\n"
     ]
    }
   ],
   "source": [
    "A = np.matrix('2 3; 3 2', 'float64')\n",
    "print(\"\\n A = \")\n",
    "print(A)\n",
    "\n",
    "b = np.array([4, 1])\n",
    "print(\"\\n b = \")\n",
    "print(b)\n",
    "\n",
    "[P, L, U] = PLU_factorization(A)\n",
    "\n",
    "print(\"\\n L = \")\n",
    "print(L)\n",
    "\n",
    "print(\"\\n U = \")\n",
    "print(U)\n",
    "\n",
    "print(\"\\n P = \")\n",
    "print(P)\n",
    "\n",
    "[c, x] = back_subs(L, U, P.dot(b))\n",
    "print(\"\\nx = \")\n",
    "print(x)\n",
    "\n",
    "\n"
   ]
  },
  {
   "cell_type": "code",
   "execution_count": null,
   "metadata": {},
   "outputs": [],
   "source": []
  },
  {
   "cell_type": "code",
   "execution_count": null,
   "metadata": {},
   "outputs": [],
   "source": []
  }
 ],
 "metadata": {
  "kernelspec": {
   "display_name": "Python 3",
   "language": "python",
   "name": "python3"
  },
  "language_info": {
   "codemirror_mode": {
    "name": "ipython",
    "version": 3
   },
   "file_extension": ".py",
   "mimetype": "text/x-python",
   "name": "python",
   "nbconvert_exporter": "python",
   "pygments_lexer": "ipython3",
   "version": "3.7.2"
  }
 },
 "nbformat": 4,
 "nbformat_minor": 2
}
