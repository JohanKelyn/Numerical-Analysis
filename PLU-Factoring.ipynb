{
 "cells": [
  {
   "cell_type": "markdown",
   "metadata": {},
   "source": [
    "# LU Factorization"
   ]
  },
  {
   "cell_type": "markdown",
   "metadata": {},
   "source": [
    "We will try to find the matrices L and U such that A=LU"
   ]
  },
  {
   "cell_type": "code",
   "execution_count": 1,
   "metadata": {
    "collapsed": true
   },
   "outputs": [],
   "source": [
    "import numpy as np"
   ]
  },
  {
   "cell_type": "code",
   "execution_count": 91,
   "metadata": {
    "collapsed": true
   },
   "outputs": [],
   "source": [
    "def LU(A,b):\n",
    "    n = b.size\n",
    "    L = np.zeros((n,n))\n",
    "    U = np.zeros((n,n))\n",
    "    for j in range(0,n-1):\n",
    "        for i in range(j+1,n):\n",
    "            mult = A[i,j]/A[j,j]\n",
    "            for k in range(j,n):\n",
    "                A[i,k] = A[i,k] - mult*A[j,k]\n",
    "                L[k,k] = 1\n",
    "                U[k,k] = A[k,k]\n",
    "            b[i] = b[i] - mult*b[j]\n",
    "            L[i,j] = mult\n",
    "            U[j,i] = A[j,i]\n",
    "    return [L,U]\n",
    "\n",
    "def back_subs(L,U,b):\n",
    "    n = b.size\n",
    "    b_temp = b\n",
    "    x = np.ones(n)\n",
    "    c = np.ones(n)\n",
    "    \n",
    "    for l in range(0,n):\n",
    "        for m in range(l+1,n):\n",
    "            b_temp[l] = b_temp[l] - L[l,m]*c[m]\n",
    "        c[l] = b[l]/L[l,l]\n",
    "        \n",
    "    for l in range(n-1,-1,-1):\n",
    "        for m in range(l+1,n):\n",
    "            b_temp[l] = b_temp[l] - U[l,m]*x[m]\n",
    "        x[l] = b[l]/A[l,l]\n",
    "    return [c,x]\n"
   ]
  },
  {
   "cell_type": "code",
   "execution_count": 92,
   "metadata": {},
   "outputs": [
    {
     "name": "stdout",
     "output_type": "stream",
     "text": [
      "[[3 1 2]\n",
      " [6 3 4]\n",
      " [3 1 5]]\n",
      "[[0]\n",
      " [1]\n",
      " [3]]\n"
     ]
    }
   ],
   "source": [
    "A = np.array([[3, 1, 2],[6, 3, 4], [3, 1 , 5]])\n",
    "print(A)\n",
    "b = np.array([[0,1,3]]).T\n",
    "print(b)"
   ]
  },
  {
   "cell_type": "code",
   "execution_count": 93,
   "metadata": {},
   "outputs": [
    {
     "name": "stdout",
     "output_type": "stream",
     "text": [
      "L = \n",
      "[[ 1.  0.  0.]\n",
      " [ 2.  1.  0.]\n",
      " [ 1.  0.  1.]]\n",
      "U = \n",
      "[[ 3.  1.  2.]\n",
      " [ 0.  1.  0.]\n",
      " [ 0.  0.  3.]]\n"
     ]
    }
   ],
   "source": [
    "[L,U] = LU(A,b)\n",
    "print(\"L = \")\n",
    "print(L)\n",
    "print(\"U = \")\n",
    "print(U)"
   ]
  },
  {
   "cell_type": "code",
   "execution_count": 94,
   "metadata": {},
   "outputs": [
    {
     "data": {
      "text/plain": [
       "array([[ 3.,  1.,  2.],\n",
       "       [ 6.,  3.,  4.],\n",
       "       [ 3.,  1.,  5.]])"
      ]
     },
     "execution_count": 94,
     "metadata": {},
     "output_type": "execute_result"
    }
   ],
   "source": [
    "L.dot(U)"
   ]
  },
  {
   "cell_type": "code",
   "execution_count": 95,
   "metadata": {},
   "outputs": [
    {
     "name": "stdout",
     "output_type": "stream",
     "text": [
      "x = \n",
      "[-1.  1.  1.]\n",
      "c = \n",
      "[ 0.  1.  3.]\n"
     ]
    }
   ],
   "source": [
    "[c,x] = back_subs(L,U,b)\n",
    "print(\"x = \")\n",
    "print(x)\n",
    "print(\"c = \")\n",
    "print(c)"
   ]
  },
  {
   "cell_type": "code",
   "execution_count": null,
   "metadata": {},
   "outputs": [],
   "source": []
  },
  {
   "cell_type": "code",
   "execution_count": null,
   "metadata": {},
   "outputs": [],
   "source": []
  },
  {
   "cell_type": "code",
   "execution_count": null,
   "metadata": {},
   "outputs": [],
   "source": []
  },
  {
   "cell_type": "code",
   "execution_count": null,
   "metadata": {
    "collapsed": true
   },
   "outputs": [],
   "source": []
  }
 ],
 "metadata": {
  "kernelspec": {
   "display_name": "Python 3",
   "language": "python",
   "name": "python3"
  },
  "language_info": {
   "codemirror_mode": {
    "name": "ipython",
    "version": 3
   },
   "file_extension": ".py",
   "mimetype": "text/x-python",
   "name": "python",
   "nbconvert_exporter": "python",
   "pygments_lexer": "ipython3",
   "version": "3.6.1"
  }
 },
 "nbformat": 4,
 "nbformat_minor": 2
}
