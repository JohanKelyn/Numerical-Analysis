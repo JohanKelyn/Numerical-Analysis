{
 "cells": [
  {
   "cell_type": "markdown",
   "metadata": {},
   "source": [
    "# Interpolation: Newton's Divided Difference\n",
    "\n",
    "* We are going to use Newton's divided difference to find an interpolating polynomial\n",
    "* Input: Data points (x,y)\n",
    "* Output: Coefficients for the polynomial, and the polynomial p(x)"
   ]
  },
  {
   "cell_type": "code",
   "execution_count": 84,
   "metadata": {
    "collapsed": true
   },
   "outputs": [],
   "source": [
    "import numpy as np\n",
    "from sympy import *\n",
    "import matplotlib.pyplot as plt\n",
    "%matplotlib inline"
   ]
  },
  {
   "cell_type": "code",
   "execution_count": 78,
   "metadata": {
    "collapsed": true
   },
   "outputs": [],
   "source": [
    "def newtdd(x0,y0,n):\n",
    "    coeff = np.zeros(n)\n",
    "    v = np.zeros((n,n))\n",
    "    \n",
    "    # filling the y column of the newton triangle\n",
    "    for i in range(0,n):\n",
    "        v[i,0] = y0[i]\n",
    "    \n",
    "    for i in range(1,n):\n",
    "        for j in range(0,n-i):\n",
    "            v[j,i] = (v[j+1,i-1] - v[j,i-1])/(x0[j+i]-x0[j])\n",
    "    # Getting the values of the coefficients\n",
    "    for i in range(0,n):\n",
    "        coeff[i] = v[0,i]\n",
    "        \n",
    "    # Creating the Polynomial\n",
    "    x = Symbol('x')\n",
    "    pol = coeff[0]\n",
    "    q = [1]\n",
    "    for i in range(1,len(x0)):\n",
    "        q.append(q[i-1]*(x-x0[i-1]))\n",
    "    for i in range(1,len(x0)):\n",
    "        pol = pol + coeff[i]*q[i]\n",
    "    \n",
    "    return [coeff,pol]"
   ]
  },
  {
   "cell_type": "markdown",
   "metadata": {},
   "source": [
    "# x0 = [-1,0,2,3]\n",
    "y0 = [-5,-1,1,11]\n",
    "coeff_pol = newtdd(x0,y0,len(x0))\n",
    "print(coeff_pol[1])\n"
   ]
  },
  {
   "cell_type": "markdown",
   "metadata": {},
   "source": [
    "# Plotting the polynomial"
   ]
  },
  {
   "cell_type": "code",
   "execution_count": 89,
   "metadata": {},
   "outputs": [
    {
     "data": {
      "text/plain": [
       "<matplotlib.text.Text at 0x18974603dd8>"
      ]
     },
     "execution_count": 89,
     "metadata": {},
     "output_type": "execute_result"
    },
    {
     "data": {
      "image/png": "[encoded data removed]",
      "text/plain": [
       "<matplotlib.figure.Figure at 0x189745d74a8>"
      ]
     },
     "metadata": {},
     "output_type": "display_data"
    }
   ],
   "source": [
    "x_values = np.linspace(-2,4,101)\n",
    "f = lambdify(x, coeff_pol[1])\n",
    "plt.plot(x_values,f(x_values),c='b')\n",
    "plt.scatter(x0,y0,c='r')\n",
    "plt.xlabel(\"x-values\")\n",
    "plt.ylabel(\"y-values\")\n",
    "plt.title(\"Interpolating Polynomial\")"
   ]
  },
  {
   "cell_type": "code",
   "execution_count": null,
   "metadata": {
    "collapsed": true
   },
   "outputs": [],
   "source": []
  },
  {
   "cell_type": "code",
   "execution_count": null,
   "metadata": {
    "collapsed": true
   },
   "outputs": [],
   "source": []
  },
  {
   "cell_type": "code",
   "execution_count": null,
   "metadata": {
    "collapsed": true
   },
   "outputs": [],
   "source": []
  }
 ],
 "metadata": {
  "kernelspec": {
   "display_name": "Python 3",
   "language": "python",
   "name": "python3"
  },
  "language_info": {
   "codemirror_mode": {
    "name": "ipython",
    "version": 3
   },
   "file_extension": ".py",
   "mimetype": "text/x-python",
   "name": "python",
   "nbconvert_exporter": "python",
   "pygments_lexer": "ipython3",
   "version": "3.6.1"
  }
 },
 "nbformat": 4,
 "nbformat_minor": 2
}
