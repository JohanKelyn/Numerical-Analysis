{
 "cells": [
  {
   "cell_type": "code",
   "execution_count": 153,
   "metadata": {},
   "outputs": [],
   "source": [
    "%run hilbert_matrix.ipynb\n",
    "import numpy as np"
   ]
  },
  {
   "cell_type": "code",
   "execution_count": 154,
   "metadata": {
    "collapsed": true
   },
   "outputs": [],
   "source": [
    "def conj_grad_meth(A,b,x0):\n",
    "    n = len(b)\n",
    "    r = list()\n",
    "    d = list()\n",
    "    z = 0 #alpha value\n",
    "    w = 0 #beta value\n",
    "    x = list()\n",
    "    x.append(x0)\n",
    "    r.append(b - A.dot(x[0]))\n",
    "    d.append(b - A.dot(x[0]))\n",
    "    \n",
    "    \n",
    "    for i in range(len(b)):\n",
    "        if r[i].all() == 0:\n",
    "            print(\"done\")\n",
    "            print(i)\n",
    "            break\n",
    "        else:\n",
    "            z = (r[i].dot(r[i]))/d[i].dot(A.dot(d[i]))\n",
    "            x.append( x[i] + z*d[i])\n",
    "            r.append( r[i] - z*A.dot(d[i]))\n",
    "            w = (r[i+1].dot(r[i+1]))/r[i].dot(r[i])\n",
    "            d.append(r[i+1] + w*d[i])\n",
    "    return x[-1]    \n",
    "        "
   ]
  },
  {
   "cell_type": "code",
   "execution_count": 155,
   "metadata": {},
   "outputs": [
    {
     "name": "stdout",
     "output_type": "stream",
     "text": [
      "[[2 2]\n",
      " [2 5]]\n",
      "[6 3]\n"
     ]
    }
   ],
   "source": [
    "A = np.array([[2,2],[2,5]])\n",
    "b = np.array([6,3])\n",
    "print(A)\n",
    "print(b)"
   ]
  },
  {
   "cell_type": "code",
   "execution_count": 156,
   "metadata": {},
   "outputs": [
    {
     "data": {
      "text/plain": [
       "array([ 4., -1.])"
      ]
     },
     "execution_count": 156,
     "metadata": {},
     "output_type": "execute_result"
    }
   ],
   "source": [
    "x0 = np.array([0,0])\n",
    "x = conj_grad_meth(A,b,x0)\n",
    "x"
   ]
  },
  {
   "cell_type": "code",
   "execution_count": 158,
   "metadata": {},
   "outputs": [
    {
     "name": "stdout",
     "output_type": "stream",
     "text": [
      "[  -4.   60. -180.  140.]\n"
     ]
    }
   ],
   "source": [
    "H = hilbert(4)\n",
    "b1 = np.ones(4)\n",
    "x0 = np.zeros(4)\n",
    "\n",
    "x = conj_grad_meth(H,b1,x0) \n",
    "print(x)"
   ]
  },
  {
   "cell_type": "code",
   "execution_count": null,
   "metadata": {
    "collapsed": true
   },
   "outputs": [],
   "source": []
  }
 ],
 "metadata": {
  "kernelspec": {
   "display_name": "Python 3",
   "language": "python",
   "name": "python3"
  },
  "language_info": {
   "codemirror_mode": {
    "name": "ipython",
    "version": 3
   },
   "file_extension": ".py",
   "mimetype": "text/x-python",
   "name": "python",
   "nbconvert_exporter": "python",
   "pygments_lexer": "ipython3",
   "version": "3.6.1"
  }
 },
 "nbformat": 4,
 "nbformat_minor": 2
}
