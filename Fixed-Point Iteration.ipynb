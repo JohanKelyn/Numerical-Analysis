{
 "cells": [
  {
   "cell_type": "markdown",
   "metadata": {},
   "source": [
    "# Fixed-Point Iteration"
   ]
  },
  {
   "cell_type": "markdown",
   "metadata": {},
   "source": [
    "We are going to use the FPI to find the roots of: f(x) = x^3-2x-2, f(x) = e^x + x - 7, and f(x) = e^x + sin(x) - 4\n",
    "In order to find the roots of the function using Fixed-Point Iteration, we need to modify our equation \n",
    "f(x) = 0 into g(x) = x. We can notice that there are several ways to do this as follows:\n",
    "* x = (2x+2)^(1/3)\n",
    "* x = ln(7-x)\n",
    "* x = ln(4-sin(x))\n",
    "* x = (cos(x))^2"
   ]
  },
  {
   "cell_type": "code",
   "execution_count": 112,
   "metadata": {
    "collapsed": true
   },
   "outputs": [],
   "source": [
    "import numpy as np\n",
    "import pandas as pd\n",
    "import math\n",
    "import matplotlib.pyplot as plt"
   ]
  },
  {
   "cell_type": "code",
   "execution_count": 200,
   "metadata": {},
   "outputs": [],
   "source": [
    "# func is the function we are using: Remember we need x = f(x)\n",
    "# k is the tolerance value\n",
    "def fpi(x0,g,tol):\n",
    "    x = list()\n",
    "    x_old = x0\n",
    "    x.append(x0)\n",
    "    error = 1 \n",
    "    while error > tol:\n",
    "        x_new = g(x_old)\n",
    "        #print(x_new)\n",
    "        error = np.abs(x_new - x_old)\n",
    "        #print(error)\n",
    "        x.append(x_new)\n",
    "        x_old = x_new\n",
    "        if error > 100:\n",
    "            break\n",
    "    return pd.Series(x)"
   ]
  },
  {
   "cell_type": "code",
   "execution_count": 186,
   "metadata": {
    "collapsed": true
   },
   "outputs": [],
   "source": [
    "g1 = lambda x: (2*x+2)**(1/3)\n",
    "g2 = lambda x: np.log(7-x)\n",
    "g3 = lambda x: np.log(4-np.sin(x))\n",
    "g4 = lambda x: (np.cos(x))**2"
   ]
  },
  {
   "cell_type": "code",
   "execution_count": 201,
   "metadata": {},
   "outputs": [
    {
     "name": "stdout",
     "output_type": "stream",
     "text": [
      "0     0.500000\n",
      "1     1.442250\n",
      "2     1.696706\n",
      "3     1.753697\n",
      "4     1.765965\n",
      "5     1.768583\n",
      "6     1.769141\n",
      "7     1.769260\n",
      "8     1.769286\n",
      "9     1.769291\n",
      "10    1.769292\n",
      "11    1.769292\n",
      "12    1.769292\n",
      "13    1.769292\n",
      "14    1.769292\n",
      "dtype: float64\n"
     ]
    }
   ],
   "source": [
    "sol1 = fpi(0.5,g1,10**(-8))\n",
    "print(sol1)"
   ]
  },
  {
   "cell_type": "code",
   "execution_count": 180,
   "metadata": {},
   "outputs": [
    {
     "name": "stdout",
     "output_type": "stream",
     "text": [
      "0     0.500000\n",
      "1     1.871802\n",
      "2     1.634754\n",
      "3     1.679942\n",
      "4     1.671484\n",
      "5     1.673073\n",
      "6     1.672775\n",
      "7     1.672831\n",
      "8     1.672820\n",
      "9     1.672822\n",
      "10    1.672822\n",
      "11    1.672822\n",
      "12    1.672822\n",
      "13    1.672822\n",
      "dtype: float64\n"
     ]
    }
   ],
   "source": [
    "sol2 = fpi(0.5,g2,10**(-8))\n",
    "print(sol2)"
   ]
  },
  {
   "cell_type": "code",
   "execution_count": 185,
   "metadata": {},
   "outputs": [
    {
     "name": "stdout",
     "output_type": "stream",
     "text": [
      "0     0.500000\n",
      "1     1.258624\n",
      "2     1.114594\n",
      "3     1.132133\n",
      "4     1.129684\n",
      "5     1.130021\n",
      "6     1.129975\n",
      "7     1.129981\n",
      "8     1.129980\n",
      "9     1.129981\n",
      "10    1.129980\n",
      "11    1.129980\n",
      "dtype: float64\n"
     ]
    }
   ],
   "source": [
    "sol3 = fpi(0.5,g3,10**(-8))\n",
    "print(sol3)"
   ]
  },
  {
   "cell_type": "code",
   "execution_count": 193,
   "metadata": {},
   "outputs": [
    {
     "name": "stdout",
     "output_type": "stream",
     "text": [
      "0      0.500000\n",
      "1      0.770151\n",
      "2      0.515245\n",
      "3      0.757200\n",
      "4      0.528184\n",
      "5      0.746019\n",
      "6      0.539338\n",
      "7      0.736247\n",
      "8      0.549072\n",
      "9      0.727625\n",
      "10     0.557645\n",
      "11     0.719959\n",
      "12     0.565253\n",
      "13     0.713101\n",
      "14     0.572045\n",
      "15     0.706937\n",
      "16     0.578139\n",
      "17     0.701374\n",
      "18     0.583629\n",
      "19     0.696337\n",
      "20     0.588590\n",
      "21     0.691765\n",
      "22     0.593087\n",
      "23     0.687605\n",
      "24     0.597171\n",
      "25     0.683812\n",
      "26     0.600888\n",
      "27     0.680351\n",
      "28     0.604276\n",
      "29     0.677187\n",
      "         ...   \n",
      "268    0.641713\n",
      "269    0.641716\n",
      "270    0.641713\n",
      "271    0.641716\n",
      "272    0.641713\n",
      "273    0.641716\n",
      "274    0.641713\n",
      "275    0.641716\n",
      "276    0.641713\n",
      "277    0.641715\n",
      "278    0.641713\n",
      "279    0.641715\n",
      "280    0.641713\n",
      "281    0.641715\n",
      "282    0.641713\n",
      "283    0.641715\n",
      "284    0.641714\n",
      "285    0.641715\n",
      "286    0.641714\n",
      "287    0.641715\n",
      "288    0.641714\n",
      "289    0.641715\n",
      "290    0.641714\n",
      "291    0.641715\n",
      "292    0.641714\n",
      "293    0.641715\n",
      "294    0.641714\n",
      "295    0.641715\n",
      "296    0.641714\n",
      "297    0.641715\n",
      "Length: 298, dtype: float64\n"
     ]
    }
   ],
   "source": [
    "sol4 = fpi(0.5,g4,10**(-6))\n",
    "print(sol4)"
   ]
  },
  {
   "cell_type": "code",
   "execution_count": null,
   "metadata": {
    "collapsed": true
   },
   "outputs": [],
   "source": []
  }
 ],
 "metadata": {
  "kernelspec": {
   "display_name": "Python 3",
   "language": "python",
   "name": "python3"
  },
  "language_info": {
   "codemirror_mode": {
    "name": "ipython",
    "version": 3
   },
   "file_extension": ".py",
   "mimetype": "text/x-python",
   "name": "python",
   "nbconvert_exporter": "python",
   "pygments_lexer": "ipython3",
   "version": "3.6.1"
  }
 },
 "nbformat": 4,
 "nbformat_minor": 2
}
