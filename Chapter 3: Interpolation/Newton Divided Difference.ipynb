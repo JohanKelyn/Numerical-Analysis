{
 "cells": [
  {
   "cell_type": "markdown",
   "metadata": {},
   "source": [
    "# Newton's Divided Difference\n",
    "\n",
    "This method allow us to find a polynomial function that passes through all our data points. \n",
    "\n",
    "<strong>Definion:</strong> The function $y = P(x)$ interpolates the data points $(x_{1}, y_{1}),...,(x_{n}, y_{n})$ if $P(x_{i}) = y_{i}$ for each $1 \\leq i \\leq n$\n",
    "\n",
    "<strong>Theorem: Main Theorem for Polynomial Interpolation</strong> Let $(x_{1}, y_{1}),...,(x_{n}, y_{n})$ be $n$ pointes in the plane qith distinct $x_{j}$. Then there exists one and only one polynomial P of degree $n - 1$ or less that satisfies $P(x_{i}) = j_{i}$ for $i = 1,...,n$\n",
    "\n",
    "<strong>Definion:</strong> Denote by $f[x_{i} ... x_{n}]$ the coefficients of the $x^{n-1}$ term in the (unique) polynomial that interpolates $(x_{1}, f(x_{1})),...,(x_{n}, f(x_{n}))$"
   ]
  },
  {
   "cell_type": "code",
   "execution_count": 1,
   "metadata": {},
   "outputs": [],
   "source": [
    "import numpy as np\n",
    "from sympy import *\n",
    "import matplotlib.pyplot as plt\n",
    "%matplotlib inline"
   ]
  },
  {
   "cell_type": "code",
   "execution_count": 7,
   "metadata": {},
   "outputs": [],
   "source": [
    "def newtdd(x0,y0,n):\n",
    "    \"\"\"\n",
    "    input: x0 array of x-values\n",
    "           y0 array with y-values\n",
    "           n number of data points\n",
    "           \n",
    "    Output: array with the coefficient values and the polynomial\n",
    "    \"\"\"\n",
    "    coeff = np.zeros(n)\n",
    "    v = np.zeros((n,n))\n",
    "    \n",
    "    # filling the y column of the newton triangle\n",
    "    for i in range(0,n):\n",
    "        v[i,0] = y0[i]\n",
    "    \n",
    "    for i in range(1,n):\n",
    "        for j in range(0,n-i):\n",
    "            v[j,i] = (v[j+1,i-1] - v[j,i-1])/(x0[j+i]-x0[j])\n",
    "    # Getting the values of the coefficients\n",
    "    for i in range(0,n):\n",
    "        coeff[i] = v[0,i]\n",
    "    \n",
    "    # Creating the Polynomial\n",
    "    x = Symbol('x')\n",
    "    pol = coeff[0]\n",
    "    q = [1]\n",
    "    for i in range(1,len(x0)):\n",
    "        q.append(q[i-1]*(x-x0[i-1]))\n",
    "    for i in range(1,len(x0)):\n",
    "        pol = pol + coeff[i]*q[i]\n",
    "    \n",
    "    return [coeff,pol]"
   ]
  },
  {
   "cell_type": "markdown",
   "metadata": {},
   "source": [
    "<strong>Example 1:</strong> Use divided difference to find the interpolating polynomial passing through the points $(0,1), (2,2), (3,4)$."
   ]
  },
  {
   "cell_type": "code",
   "execution_count": 26,
   "metadata": {},
   "outputs": [
    {
     "name": "stdout",
     "output_type": "stream",
     "text": [
      "f(x) = 0.5*x*(x - 2) + 0.5*x + 1.0\n"
     ]
    },
    {
     "data": {
      "text/plain": [
       "Text(0.5, 1.0, 'Interpolating Polynomial')"
      ]
     },
     "execution_count": 26,
     "metadata": {},
     "output_type": "execute_result"
    },
    {
     "data": {
      "image/png": "[encoded data removed]",
      "text/plain": [
       "<Figure size 432x288 with 1 Axes>"
      ]
     },
     "metadata": {
      "needs_background": "light"
     },
     "output_type": "display_data"
    }
   ],
   "source": [
    "x0 = np.array([0,2,3])\n",
    "y0 = np.array([1,2,4])\n",
    "\n",
    "sol = newtdd(x0,y0,len(x0))\n",
    "print('f(x) = {}'.format(sol[1]))\n",
    "\n",
    "x_values = np.linspace(-1,4,101)\n",
    "f = lambdify('x', sol[1])\n",
    "plt.plot(x_values,f(x_values),c='b')\n",
    "plt.scatter(x0,y0,c='r',s=50)\n",
    "plt.xlabel(\"x-values\")\n",
    "plt.ylabel(\"y-values\")\n",
    "plt.ylim(-1,10)\n",
    "plt.axvline(0,-3,3,c='k')\n",
    "plt.axhline(0,-3,3,c='k')\n",
    "plt.title(\"Interpolating Polynomial\")"
   ]
  },
  {
   "cell_type": "markdown",
   "metadata": {},
   "source": [
    "<strong>Example 2:</strong> Use Newton's divided difference to find the interpolating polynomial passing through the points $(0,2), (1,1), (2,0), (3,-1)$."
   ]
  },
  {
   "cell_type": "code",
   "execution_count": 25,
   "metadata": {},
   "outputs": [
    {
     "name": "stdout",
     "output_type": "stream",
     "text": [
      "f(x) = -1.0*x + 2.0\n"
     ]
    },
    {
     "data": {
      "text/plain": [
       "Text(0.5, 1.0, 'Interpolating Polynomial')"
      ]
     },
     "execution_count": 25,
     "metadata": {},
     "output_type": "execute_result"
    },
    {
     "data": {
      "image/png": "[encoded data removed]",
      "text/plain": [
       "<Figure size 432x288 with 1 Axes>"
      ]
     },
     "metadata": {
      "needs_background": "light"
     },
     "output_type": "display_data"
    }
   ],
   "source": [
    "x0 = np.array([0,1,2,3])\n",
    "y0 = np.array([2,1,0,-1])\n",
    "\n",
    "sol = newtdd(x0,y0,len(x0))\n",
    "print('f(x) = {}'.format(sol[1]))\n",
    "\n",
    "x_values = np.linspace(-1,4,101)\n",
    "f = lambdify('x', sol[1])\n",
    "plt.plot(x_values,f(x_values),c='b')\n",
    "plt.scatter(x0,y0,c='r',s=50)\n",
    "plt.xlabel(\"x-values\")\n",
    "plt.ylabel(\"y-values\")\n",
    "plt.ylim(-4,4)\n",
    "plt.axvline(0,-3,3,c='k')\n",
    "plt.axhline(0,-3,3,c='k')\n",
    "plt.title(\"Interpolating Polynomial\")"
   ]
  },
  {
   "cell_type": "code",
   "execution_count": null,
   "metadata": {},
   "outputs": [],
   "source": []
  }
 ],
 "metadata": {
  "kernelspec": {
   "display_name": "Python 3",
   "language": "python",
   "name": "python3"
  },
  "language_info": {
   "codemirror_mode": {
    "name": "ipython",
    "version": 3
   },
   "file_extension": ".py",
   "mimetype": "text/x-python",
   "name": "python",
   "nbconvert_exporter": "python",
   "pygments_lexer": "ipython3",
   "version": "3.7.2"
  }
 },
 "nbformat": 4,
 "nbformat_minor": 2
}
