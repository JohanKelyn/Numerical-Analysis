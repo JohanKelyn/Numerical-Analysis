{
 "cells": [
  {
   "cell_type": "markdown",
   "metadata": {},
   "source": [
    "<h1 style=\"text-align: center; color: blue\">CUBIC SPLINES</h1>\n",
    "\n",
    "Splines represent an alternative approach to data interpolation. The idea of splines is to use several formulas, each a low-degree polynomial, to pass through the data points. The simplest example of a spline is a linear spline, in which one connects the dots with straight-line segments likethe one presented below"
   ]
  },
  {
   "cell_type": "markdown",
   "metadata": {},
   "source": [
    "<img src=\"http://phaazon.net/pub/linear_spline.png" width=\"400\">"
   ]
  },
  {
   "cell_type": "markdown",
   "metadata": {},
   "source": [
    "The linear spline successfully interpolates an arbitrary set of n data points. However, linear splines lack smoothness. Cubic splines are meant to address this shortcoming of linear splines. A cubic spline replaces linear functions between the data points by degree 3 (cubic) polynomials.\n"
   ]
  },
  {
   "cell_type": "markdown",
   "metadata": {},
   "source": [
    "<h3>Properties of Cubic Splines</h3>\n",
    "\n",
    "A cubic spline $S(x)$ through the data points $((x_{1}, y_{1}), ... , (x_{n}, y_{n}))$ is a set of cubic polynomials:\n",
    "\n",
    "$S_{1}(x) = y_{1} + b_{1}(x - x_{1}) + c_{1}(x - x_{1})^{2} + d_{1}(x - x_{1})^{3}$ on $[x_{1}, x_{2}]$ <br>\n",
    "$S_{2}(x) = y_{2} + b_{2}(x - x_{2}) + c_{2}(x - x_{2})^{2} + d_{2}(x - x_{2})^{3}$ on $[x_{2}, x_{3}]$ <br>\n",
    ".<br>\n",
    ".<br>\n",
    ".<br>\n",
    "$S_{n-1}(x) = y_{n-1} + b_{n-1}(x - x_{n-1}) + c_{1}(x - x_{n-1})^{2} + d_{n-1}(x - x_{n-1})^{3}$ on $[x_{n-1}, x_{n}]$\n",
    "\n",
    "<strong>Property 1:</strong> $S_{i}(x_{i}) = y_{i}$ and $S_{i}(x_{i+1}) = y_{i+1}$<br>\n",
    "<strong>Property 2:</strong> $S'_{i-1}(x_{i}) = S'_{i}(x_{i})$ for $i=2,...,n-1$<br>\n",
    "<strong>Property 3:</strong> $S''_{i-1}(x_{i}) = S''_{i}(x_{i})$ for $i=2,...,n-1$<br>\n",
    "\n",
    "Property 1 guarantees that the spline $S(x)$ interpolated the data points. Property 2 forced the slopes of neighboring parts of the spline to agree where they meet, and Property 3 does the same for the curvature, represented by the second derivative "
   ]
  },
  {
   "cell_type": "markdown",
   "metadata": {},
   "source": [
    "<h3>Natural Splines</h3>"
   ]
  },
  {
   "cell_type": "markdown",
   "metadata": {},
   "source": [
    "Natural Splines have the following property: $S''_{1}(x_{1})= 0$ and $S''_{n-1}(x_{n}) = 0$"
   ]
  },
  {
   "cell_type": "code",
   "execution_count": 10,
   "metadata": {},
   "outputs": [],
   "source": [
    "import numpy as np\n",
    "\n",
    "def spline_coeff(x, y, kind=\"natural\", v1=0, vn=0):\n",
    "    n = len(x)\n",
    "    A = np.zeros((n,n))\n",
    "    r = np.zeros((n,1))\n",
    "    \n",
    "    a = y[1:].copy()\n",
    "    b = np.zeros(n-1)\n",
    "    c = np.zeros(n-1)\n",
    "    d = np.zeros(n-1)\n",
    "    dx = np.zeros(n-1)\n",
    "    dy = np.zeros(n-1)\n",
    "    \n",
    "    for i in range(n-1):\n",
    "        dx[i] = x[i+1] - x[i]\n",
    "        dy[i] = y[i+1] - y[i]\n",
    "    \n",
    "    for i in range(1, n-1):\n",
    "        A[i, i] = 2*(dx[i-1] + dx[i])\n",
    "        A[i, i-1] = dx[i-1]\n",
    "        A[i, i+1] = dx[i]\n",
    "        r[i] = 3*(dy[i]/dx[i] - dy[i-1]/dx[i-1])\n",
    "        \n",
    "    if kind == \"natural\":\n",
    "        A[0,0] = 1\n",
    "        A[n-1,n-1] = 1\n",
    "    \n",
    "    elif kind == \"curvature\":\n",
    "        A[0,0] = 2\n",
    "        A[n-1,n-1] = 2\n",
    "        r[0] = v1\n",
    "        r[n-1] = vn\n",
    "    \n",
    "    elif kind == \"parabol\":\n",
    "        A[0,0:2] = [1, -1]\n",
    "        A[n-1, n-2:n-1] = [1, -1]\n",
    "    \n",
    "    elif kind == \"clamped\":\n",
    "        A[0,0:2] = [2*dx[0], dx[0]]\n",
    "        r[0] = 3*(dy[0]/dy[0]-v1)\n",
    "        A[n-1,n-2:n-1] = [dx[n-2], 2*dx[n-2]]\n",
    "        r[n-1] = 3*(vn-dy[n-2]/dx[n-2]) \n",
    "    \n",
    "    else:\n",
    "        print(\"wrong selection\")\n",
    "    \n",
    "    coeff = np.zeros((n, 3))    \n",
    "    cs = np.linalg.solve(A, r)[:,0]\n",
    "    coeff[:,1] = cs\n",
    "    \n",
    "    for i in range(n-1):\n",
    "        coeff[i,2] = (coeff[i+1,1] - coeff[i,1])/(3*dx[i])\n",
    "        coeff[i,0] = dy[i] / dx[i] - dx[i] * (2*coeff[i,1] + coeff[i+1,1])/3 \n",
    "    \n",
    "    coeff = coeff[:n-1, :3]\n",
    "    \n",
    "    return coeff\n"
   ]
  },
  {
   "cell_type": "code",
   "execution_count": 11,
   "metadata": {},
   "outputs": [],
   "source": [
    "def get_spline_equation(x, y, coeff):\n",
    "    import sympy as sp\n",
    "    t = sp.Symbol('t')\n",
    "    n = len(x)\n",
    "    S = []\n",
    "    for i in range(n-1):\n",
    "        s = y[i] + coeff[i,0]*(t-x[i]) + coeff[i,1]*(t-x[i])**2 + coeff[i,2]*(t-x[i])**3\n",
    "        S.append(s)\n",
    "    \n",
    "    return S\n"
   ]
  },
  {
   "cell_type": "code",
   "execution_count": 12,
   "metadata": {},
   "outputs": [],
   "source": [
    "def get_spline_graph(x, y, k):\n",
    "    import sympy as sp\n",
    "    import matplotlib.pyplot as plt\n",
    "    \n",
    "    t = sp.Symbol('t')\n",
    "    coeff = spline_coeff(x, y)\n",
    "    eqs = get_spline_equation(x, y, coeff)\n",
    "    \n",
    "    for i in range(len(eqs)):\n",
    "        xs = np.linspace(x[i], x[i+1], k)\n",
    "        plt.plot(xs, sp.lambdify(t,eqs[i])(xs))\n",
    "        plt.title('Natural Cubic Spline')\n",
    "        plt.ylabel('y-values')\n",
    "        plt.xlabel('x-values')\n",
    "        \n",
    "    plt.plot(x,y,'o')"
   ]
  },
  {
   "cell_type": "markdown",
   "metadata": {},
   "source": [
    "<strong>Example 1:</strong> Find the natural cubic spline through (0,3), (1,-2), and (2,1)"
   ]
  },
  {
   "cell_type": "code",
   "execution_count": 13,
   "metadata": {},
   "outputs": [
    {
     "name": "stdout",
     "output_type": "stream",
     "text": [
      "***************************\n",
      "Coefficients:\n",
      "[[-7.  0.  2.]\n",
      " [-1.  6. -2.]]\n",
      "\n",
      "***************************\n",
      "Equations:\n",
      "[2.0*t**3 - 7.0*t + 3, -1.0*t - 2.0*(t - 1)**3 + 6.0*(t - 1)**2 - 1.0]\n",
      "\n",
      "***************************\n"
     ]
    },
    {
     "data": {
      "image/png": "iVBORw0KGgoAAAANSUhEUgAAAYQAAAEWCAYAAABmE+CbAAAABHNCSVQICAgIfAhkiAAAAAlwSFlzAAALEgAACxIB0t1+/AAAADl0RVh0U29mdHdhcmUAbWF0cGxvdGxpYiB2ZXJzaW9uIDMuMC4yLCBodHRwOi8vbWF0cGxvdGxpYi5vcmcvOIA7rQAAIABJREFUeJzt3XecFPX9x/HX5wocvQhIb9Kkl0MFUWNDECsW7BoLMZaQqIlGomKixpjoL5oYFbvGQhErGuwSC0pR6SAcXXo5erv7/P6Ywax4cHvc7c7e3fv5eOyDvZnZmTdze/vZme/M92vujoiISFrUAUREJDWoIIiICKCCICIiIRUEEREBVBBERCSkgiAiIoAKgpRjZvaMmd2VoHVfZmaf7mf+O2Z2aSK2vZ9tLjSzE8Lnt5rZE8ncvqQ+FQRJiPDDZ6WZVYmZdqWZfRzn64eZ2b8TFjC+DA3M7EkzW25mm8xstpndGft/OlDu3t/dnz2ATKeb2TdmttHM1pjZB2bW/AC2f4+7X1nU10nZpoIgiZQBDIliw2aWUczX1wa+ACoBvdy9GnAiUBM4pPgJDyhTK+A54EagBtAC+BeQH0UeKXtUECSR/grcZGY1C5ppZg+a2ZLw2+5kMzsqnN4PuBUYZGabzezbcPoPpzzCn384ijCz5mbmZnaFmS0GPgynjzKzFWaWa2bjzaxDnNlvADYBF7n7QgB3X+LuQ9x9asz2fig8ZvaxmcV+6zYz+0e47dlmdvy+ljWzq8xsVngkMtPMuheQqSuwwN0/8MAmd3/F3RfH7I/RZjYiXM8UM+uyj31f0L671MwWh0ceQ2OWTTOzW8xsvpmtNbORYcGUMkYFQRJpEvAxcNM+5k8k+JCrDbwIjDKzLHf/D3APMMLdq7p7gR9q+3AMcChwUvjzO0BroB4wBXghzvWcAIxx9+J8+z4cyAHqAHcAYwr6IDWzc4BhwCVAdeA0YG0B65sCtDOz/zOzY82sagHLnA6M4n/79DUzy4wzbx+gLXA8cLuZHRpO/xVwBsG+bQisBx6Oc51SiqggSKLdDlxvZnX3nuHu/3b3te6+293vByoSfCAVxzB33+Lu28JtPBV+k95B8KHbxcxqxLGeg4DlxcyyCvi7u+9y9xHAHGBAActdCdzn7hPDb/7z3H3R3gu5ew7wM6ARMBJYEzaMxxaGye4+2t13AQ8AWcARcea90923ufu3wLfAnkL8C2Couy+N2Y9nF/e0nKQeFQRJKHefDrwF3LL3PDO7MTxNkmtmGwjOi9cp5iaXxKw/3czuDU91bAQWhrPi2cZaoEExsyzzH/ceuYjgG/bemgDz41mhu09w93PdvS5wFHA0MDRmkSUxy+YDS/exzYKsiHm+FdhTaJoBr5rZhvD3NAvIAw6Oc71SSqggSDLcAVxF8M0WgLC94GbgXKCWu9cEcgELFymoG94tQOWYn+sXsEzs6y4gOIVyAkGxab5n83Fkfh8408z29TeyJfx3f3kamVnstpoC3xewriUcQEO1u08ExgAdYyY32fMkzN54H9ssiiVAf3evGfPIcvdlxVyvpBgVBEk4d58HjCA4F71HNWA3sBrIMLPbCc6f77ESaL7XB/I3wHlmlmlm2cDZhWy6GrCD4Nt+ZYJ2iXg9EOZ51syaAZhZIzN7wMw6u/tqYBlwUXgkcjk//VCvB/wqzHsOQdvG2wVs6wmCxvceFmi1Z5uxzKxP2PhcL/y5HUF7w4SYxXqY2cDwdM6vw///hL3XVUSPAnfH7Ie6ZnZ6MdcpKUgFQZLlj0Ds9fvjCBp85xKcStlOzOkOgoZRgLVmNiV8fhvBh+564E6CRtP9eS5c9zJgJkX4YHT3dUBvYBfwpZltAj4gOIqZFy52FfBbgoLTAfh8r9V8SdCgvQa4Gzjb3X/SWOzuo8L5LxJc2fQaQaPw3jYQFIBpZrYZ+A/wKnBfzDKvA4MI9tHFwMCwPaE4HgTeAN4N98MEggZzKWNMA+SIlA1mNgxo5e4XRZ1FSicdIYiICKCCICIiIZ0yEhERQEcIIiISKlV3GtapU8ebN28edQwRkVJl8uTJa8KbGferVBWE5s2bM2nSpKhjiIiUKmb2k65QCqJTRiIiAqggiIhISAVBREQAFQQREQmpIIiICBBhQTCzLDP7ysy+NbMZZnZnIrYzNmcsfUf3pfOznek7ui9jc8YmYjMiIqVelJed7gCOc/fN4RB/n5rZO+5e3K56fzA2ZyzDPh/G9rztACzfspxhnw8DYEDLggauEhEpvyI7QgiHCtwc/pgZPkq0H40Hpzz4QzHYY3vedh6c8mBJbkZEpEyItA0hHFjkG4KxZ99z9y8LWGawmU0ys0mrV68u0vpXbFlRpOkiIuVZpAXB3fPcvSvBMH+HmVnHApYZ7u7Z7p5dt26hd17/SP0qBY2wuO/pIiLlWUpcZeTuG4CPgX4lud4h3YeQlZ71o2mZaRUZ0n1ISW5GRKRMiPIqo7pmVjN8XolgIPTZJbmNAS0HMKz3MBpUaYBhpOXVosrG8+jX/OSS3IyISJkQ5VVGDQgGME8nKEwj3f2tkt7IgJYDfrii6O1py7nmhSm8Mnkp5/ZsUtKbEhEp1SIrCO4+FeiWzG3271if7k1r8rd35zCgcwOqVCxVnb2KiCRUSrQhJIuZMXTAoazatIPH/5sTdRwRkZRSrgoCQI9mtTm5U32Gj89h1cbthb9ARKScKHcFAeDmfu3YlZfPA+/NjTqKiEjKKJcFodlBVbikV3NGTlrC7BUbo44jIpISymVBALj+uFZUrZjBPW+X6JWuIiKlVrktCDUrV+BXx7dm/NzVjJ9btC4xRETKonJbEAAu7tWMJrUrcc/bs8jLL9F+9URESp1yXRAqZqRzc792zF6xiVcmL406johIpMp1QQAY0KkB3cKb1bbu3B11HBGRyJT7gmBm/GHPzWrjF0QdR0QkMuW+IMD/blZ79JP5ullNRMotFYTQzf3asTtfN6uJSPmlghDSzWoiUt6pIMS4/rhWVMvK1M1qIlIuqSDEqFm5Atcf14rxc1fziW5WE5FyRgVhL5f0ak6zgypzz1jdrCYi5YsKwl4qZKRxS792zFm5iZGTlkQdR0QkaVQQCtCvY32ym9Xi/nfnsmWHblYTkfJBBaEAe0ZWW7N5B499Mj/qOCIiSaGCsA/dmtbi1C4NGf7fHJbnbos6johIwqkg7MfvTmpLvsNfx82JOoqISMKpIOxHk9qV+fmRzRkzZRnTl+VGHUdEJKFUEApx7bGtqF2lAneNnYm7LkMVkbJLBaEQ1bMy+c0JrZmQs473Z62KOo6ISMKoIMTh/MOackjdKvz57VnsysuPOo6ISEKoIMQhIz2NoQMOJWfNFl6YsCjqOCIiCaGCEKdj29bjyFYH8fcPviN3666o44iIlDgVhDiZGUNPbk/utl3848Pvoo4jIlLiVBCKoH3D6pzbownPfrGQhWu2RB1HRKREqSAU0Y1925CZnsa972jMBBEpWyIrCGbWxMw+MrNZZjbDzIZElaUo6lXP4pqfHcJ/Zqzgy5y1UccRESkxUR4h7AZudPdDgSOAa82sfYR54nZFn5Y0qJHFXWNnka8xE0SkjIisILj7cnefEj7fBMwCGkWVpygqVUjnd/3aMm1ZLq9+vSzqOCIiJSIl2hDMrDnQDfiygHmDzWySmU1avTp1hrU8vUsjujSuwX3jZrN1p8ZMEJHSL/KCYGZVgVeAX7v7xr3nu/twd8929+y6desmP+A+pKUZfzilPSs37mD4+Jyo44iIFFukBcHMMgmKwQvuPibKLAeiZ/PaDOjUgMc+yWFF7vao44iIFEuUVxkZ8CQwy90fiCpHcd3Svx15+c5943QZqoiUblEeIRwJXAwcZ2bfhI+TI8xzQJrUrszlfVowZsoypi7dEHUcEZEDFuVVRp+6u7l7Z3fvGj7ejipPcVx77CHUqVqBu96apTETRKTUirxRuSyolpXJDSe25auF63hn+oqo44iIHBAVhBIyqGcT2tWvxj1vz2L7rryo44iIFJkKQglJTzNuO6U9S9dv46nPFkQdR0SkyFQQStCRrepwwqEH8/CH81i1SZehikjpooJQwoYOOJSdefncP25u1FFERIpEBaGEtahThUt7NWfk5CVMX5YbdRwRkbipICTA9ce3plblCvzxrZm6DFVESg0VhASoUSmTG05sw1cLdBmqiJQeKggJcl7PJrQ9WJehikjpoYKQIBnpadx+anAZ6pOf6jJUEUl9KggJdGSrOvRtfzAPfzSPVRt1GaqIpDYVhAQbOuBQduc5942bE3UUEZH9UkFIsGYHVeHyPi0YPXkp3y5Rb6gikrpUEJLguuNaUadqRYa9OUOXoYpIylJBSIKqFTP4Xb+2fL14A699syzqOCIiBVJBSJKzuzemc+Ma3PvObLbs2B11HBGRn1BBSJK0NOOOU9uzcuMOHvl4ftRxRER+QgUhiXo0q80ZXRsy/L85LFm3Neo4IiI/ooKQZDf3b0e6GXePnRV1FBGRH1FBSLIGNSpx3XGt+M+MFXw+b03UcUREfqCCEIEr+rSgae3KDHtzBrvz8qOOIyICqCBEIisznaEDDmXuys08P2FR1HFERAAVhMj0bX8wR7WuwwPvzWXN5h1RxxERUUGIiplx+ynt2bYzj/vfVT9HIhI9FYQItT64Gpf2bs7LE5cwdan6ORKRaKkgRGzICa05qEoF7nhjBvn56udIRKKjghCx6lmZ3NyvHV8v3sCrX6ufIxGJjgpCCjire2O6Na3Jn9+Zzcbtu6KOIyLllApCCkhLM+48rQNrt+zgofe/izqOiJRTKggponPjmpzXswlPf76QuSs3RR1HRMqhSAuCmT1lZqvMbHqUOVLFb09qR9WKGdzxugbSEZHki/oI4RmgX8QZUkbtKhW4qW8bvshZy9hpy6OOIyIpYGzOWPqO7kvnZzvTd3RfxuaMTdi2Ii0I7j4eWBdlhlRzweHNaN+gOne9NUsD6YiUc2NzxjLs82Es37Icx1m+ZTnDPh+WsKIQ9RGC7CU9zfjTGR1YsXE7//hwXtRxRCRCD055kO152380bXvedh6c8mBCtpfyBcHMBpvZJDObtHr16qjjJEWPZrU5u0djnvw0h3mrNkcdR0QismLLiiJNL66ULwjuPtzds909u27dulHHSZpb+rcjKzOdYW+ogVmkXNq5hfr76B2/fpX6CdlkoQXBzI40syrh84vM7AEza5aQNPKDOlUrclPftnw6bw1vT0vMtwERSVHu8OYQhqxZQ1Za5o9mZaVnMaT7kIRsNp4jhEeArWbWBfgdsAh4riQ2bmYvAV8Abc1sqZldURLrLSsuOqIZHRpW509vzWSzGphFyo+JT8C0UQw47DcMO/JPNKjSAMNoUKUBw3oPY0DLAQnZrBV2OsLMprh7dzO7HVjm7k/umZaQRPuRnZ3tkyZNSvZmIzV50XrOeuRzBh/dkltPPjTqOCKSaEsmwtP94ZDj4PyXIa34Z/bNbLK7Zxe2XDxb2mRmvwcuBsaaWTqQWchrpIT0aFaLQdlNeOrTBcxZoTuYRcq0zath5CVQoxEMfKxEikFRxLO1QcAO4HJ3XwE0Av6a0FTyIzf3b0fVrAxue226GphFyqq83fDK5bBtHZz7PFSqlfQIhRaEsAi8AlQMJ60BXk1kKPmx2lUqcHO/dny1cB1jpqiLbJEy6aO7YMF4GPAANOgcSYR4rjK6ChgNPBZOagS8lshQ8lODspvQrWlN7nl7Frlb1UW2SJkyeyx8+n/Q/VLodmFkMeI5ZXQtcCSwEcDdvwPqJTKU/FRamnHXGR1Zv3Un942bHXUcESkpa+fDq1dDw27Q/75Io8RTEHa4+849P5hZBqAT2RHo0LAGl/VuwYtfLeabJRqDWaTU27kFRlwEaRlw7nOQmRVpnHgKwidmditQycxOBEYBbyY2luzLDX3bUK9aRW4dM43defu4jVFEUl948xmrZsFZT0DNplEniqsg3AKsBqYBvwDeBv6QyFCyb1UrZnD7KR2YuXwjz32xKOo4InKgvnocpo2C44ZCq+OjTgNARmELuHs+8Hj4kBRwcqf6HNOmLve/O4f+nerToEalqCOJSFEs/hLG/R7a9Ic+N0ad5gfxXGW0wMxy9n4kI5wUzMz40+kd2Z3v3PnGzKjjiEhRbF4Foy6FGk3gzEeTfvPZ/hR6hADE3u6cBZwD1E5MHIlX04Mq86vjW/PXcXN4f+ZKTmh/cNSRRKQwebtg1GWwbQNc+T5Uqhl1oh+J58a0tTGPZe7+d+C4JGSTQlx1VEta16vKHW/M0OhqIqXBe3fAos/gtIegfseo0/xEPKeMusc8ss3saqBaErJJISpkpHHPwE4s27CNv78/N+o4IrI/00bDhIfhsMHQ+dyo0xQonlNG98c83w0sBFLzf1MO9Wxem/MPa8JTny3k9K6N6NioRtSRRGRvK2fCG9dDk8Oh791Rp9mneK4yOjYZQeTA3dLvUN6buYrfj5nGq9f0JiM9dRqpRMq97bnBzWcVq8E5z0JGhagT7dM+C4KZ3bC/F7r7AyUfRw5EjcqZ3HFqe65/6Wue/WIRV/RpEXUkEQHIzw+6pdiwCC59C6o3iDrRfu3vq2S1Qh6SQk7p3IBj2wb3JizbsC3qOCIC8N/7Yc7bwWmiZr2iTlOoQkdMSyXlccS0oli6fisnPjCeI1rW5qnLemJmUUcSKb++ew9eOCdoQD7zMYjw7zHeEdMKbUMwsyzgCqADwX0IALj75cVKKCWuca3K3HRSW/701kzenLqc07o0jDqSSPm0LgdeuQIO7gin/D3SYlAU8bQ+Pg/UB04CPgEaAxrLMUVd1rs5XRrX4M43ZrB+y87CXyAiJWvnFhhxMWAw6HmoUDnqRHGLpyC0cvfbgC3u/iwwAOiU2FhyoNLTjD8P7Ezutl3c/fasqOOIlC/u8MavYOUMOOtJqF26LvCIpyDsGZ5rg5l1BGoAzROWSIqtfcPq/OKYloyevJT/frc66jgi5ccXD8P00XD8bdD6hKjTFFk8BWG4mdUCbgPeAGYCf0loKim2649rTcu6Vfj9mGls3aluLUQSLucTeO92OPRU6LPfq/ZTVjwF4Wl3X+/un7h7S3ev5+6PFf4yiVJWZjr3DuzM0vXb+Ou4OVHHESnbNiyG0T+HOq3hjEdKTSPy3uIpCAvMbLiZHW+6jrFUOaxFbS4+ohnPfL6QyYvWRx1HpGzauRVevhDydsOgF4I7kkupeApCW+B94FpgoZn908z6JDaWlJTf9WtLg+pZ3PzKVHbszos6jkjZsmcYzBXT4KzHoU6rqBMVSzzdX29z95HuPhDoClQnuPxUSoFqWZncM7AT81Zt5qEPvos6jkjZMuFfMG0kHHsrtDkp6jTFFlcvaGZ2jJn9C5hCcHOaejstRX7Wth5ndW/Mo5/kMG1pbtRxRMqGnI/h3dug3Slw1E1RpykRcQ2hCfwa+C/Q0d3PdfdXEp5MStTtp7TnoCoV+O3ob9m5Oz/qOCKl27oFwchndVqn3DCYxRHP/6KLu5/p7i+5+5aEJ5KEqFE5k7vP7MTsFZt4+KN5UccRKb12bA4akT0fznuxVDci7y2eNoSNe56b2ZTExpFEOrH9wZzRtSEPfzSPGd/r1JFIkbnD69fA6llw9lNw0CFRJypRRT3OKdHLTs2sn5nNMbN5ZnZLSa5bCnbHqR2oWbkCN47UqSORIvvv32Dm63DCndCq9N2JXJh42hCuM7Oa4Y9jS2rDZpYOPAz0B9oD55tZ+5JavxSsVpUK3HNmR2av2MQ/depIJH6z34YP74JO50Lv66NOkxDxHCHUByaZ2Ujg0xK8Oe0wYJ6757j7TuBl4PQSWrfsR98O9TmzWyMe/mierjoSiceqWTBmMDTsBqc9VGrvRC5MPG0IfwBaA08ClwHfmdk9Zlbck2eNgCUxPy8Np/2ImQ02s0lmNmn1anXUVlKGndqBOlUrcOOob3TDmsj+bF0HL50fdGM96AXIrBR1ooSJqw3Bg2HVVoSP3UAtYLSZ3VeMbRdUYn8yfJu7D3f3bHfPrlu3bjE2J7FqVM7k3rM6M3flZh54b27UcURSU96u4PLSjctg0L+hxk++s5Yp8bQh/MrMJgP3AZ8Bndz9l0AP4KxibHsp0CTm58bA98VYnxTRsW3rcV7PJjw+PodJC9dFHUck9YwbCgs+gVMfhCaHRZ0m4eI5QqgDDHT3k9x9lLvvAnD3fOCUYmx7ItDazFqYWQXgPILutSWJ/nBKexrWrMSNo75lyw51ky3yg0lPw1ePQa/roOsFUadJinjaEG5390X7mHfAQ3K5+27gOmAcMAsY6e4zDnR9cmCqVszgb+d0YfG6rdyjEdZEAgv+C2/fFFxaeuIfo06TNJHeb+3ub7t7G3c/xN3vjjJLeXZEy4O4sk8LXvhyMR/NWRV1HJForcuBkRdD7ZbBzWdp6VEnSpqy0QGHFNuNfdvS9uBq/G70VNZt2Rl1HJFobM+FF88Lnp//MmTViDZPkqkgCBCMsPbAoC5s2LqTW8dMI7iwTKQcydsNo34O6+bDuc+VuW4p4qGCID/o0LAGN5zYlv/MWMHoyUujjiOSXONuhfkfwIAHoMXRUaeJhAqC/Mjgo1tyWIvaDHtjBovWqnNbKSe+ejy4ouiIa6HHpVGniYwKgvxIeprxf4O6kpZm/HrEN+zOUwd4UsbN+wDeuRna9IO+f4o6TaRUEOQnGtWsxN1nduLrxRt46EN1gCdl2KpZwZ3I9Q6Fs54oV1cUFUQFQQp0WpeGDOzeiH9++B0TdRezlEWbV8EL5wZ9E10wokwNdHOgVBBkn/54ekca16rMr1/+htxtu6KOI1Jydm0LOqzbsjq4vLRG46gTpQQVBNmnqhUzeOj8bqzcuJ1bX9WlqFJG5OfDq7+AZZPhrMehUfeoE6UMFQTZr65NanJD3zaMnbqcEROXFP4CkVT3wbBg1LO+d8Ghp0adJqWoIEihrj76EPq0qsOwN2fw3cpNUccROXATn4TPHoSeV0Kva6NOk3JUEKRQaWnGA4O6UKVCBte9+DXbd2lAHSmF5r4bdFjX+iTo95cyO+pZcaggSFzqVcvigUFdmbNyE3e+OTPqOCJF8/3XweWl9TsFHdalZ0SdKCWpIEjcjmlTl1/+7BBe+moxr3+zLOo4IvFZvzC4vLTyQXDBKKhYNepEKUsFQYrkhhPbkN2sFreOmUbO6s1RxxHZv63r4N9nQ95OuGg0VDs46kQpTQVBiiQzPY2Hzu9GhYw0rnlhitoTJHXt2gYvnQcbFsP5L0HdtlEnSnkqCFJkDWtW4v8GdWX2ik3c/vr0qOOI/FR+HrxyJSz5CgYOh2a9o05UKqggyAH5Wdt6XHdsK0ZOWsrISbo/QVKIO4y9AWa/Bf3/Ah3OiDpRqaGCIAfsNye2ofchB3Hba9OZ8X1u1HFEAh/fC5OfgT6/gcN/EXWaUkUFQQ5Yeprx0PndqFk5k1/+ewq5W9XfkURs4hPwyb3Q9UI4/o6o05Q6KghSLHWqVuRfF/Zgee42bhj5Dfn56u9IIjJ9DIy9KRjX4NSHdOPZAVBBkGLr0awWfxjQng9mr+IfGj9BojD/QxgzGJoeAWc/rRvPDpAKgpSIS3o1Y2C3Rvz9g7l8MGtl1HGkPFk6CV6+COq0CbqyrlA56kSllgqClAgz456BnWjfoDq/fvkb5uumNUmGlTPhhbOhaj24eAxUqhl1olJNBUFKTFZmOo9d3IPMjDQGPzeJTdvVyCwJtC4Hnj8TMrLgktegWv2oE5V6KghSohrXqsw/L+jGwrVb+c0INTJLguQug+dOh7wdcPFrUKt51InKBBUEKXG9D6nD7ae05/1Zq7j/vTlRx5GyZvPqoBhsXQ8XjYF67aJOVGaoKV4S4pJezZi9YiMPfzSfNgdX4/SujaKOJGXB1nVBMchdGrQZaPjLEqUjBEkIM+PO0zpyWIva/Hb0VL5evD7qSFLabc+Ffw+EtfOCzurUP1GJU0GQhKmQkcajF/WgfvUsrnpuMss2bIs6kpRWOzYF3VivmA7nPgeHHBt1ojIpkoJgZueY2Qwzyzez7CgySHLUrlKBJy/NZseuPK54ZiKbd+yOOpKUNjs2BwPcLJscjHbWtl/UicqsqI4QpgMDgfERbV+SqPXB1fjXRd35btVmrntxCrvz8qOOJKXFzi3BmAZLJsBZT0D706JOVKZFUhDcfZa76/KTcuSo1nX50+kd+XjOau54YwbuuhxVCrFzC7w4CBZ9BmcOh44Do05U5qX8VUZmNhgYDNC0adOI00hxXHB4Uxav28qjn8ynSe3KXH3MIVFHklS1Y3NQDBZ/HhSDzudEnahcSFhBMLP3gYJuHRzq7q/Hux53Hw4MB8jOztbXylLudye1ZdmGbdz7zmwa1MjS5ajyUzs2BW0GSybAwMeh09lRJyo3ElYQ3P2ERK1bSq+0NONv53Rm1cbt3DTqW+pUrciRrepEHUtSxfbc4GqiZZODNoOOZ0WdqFzRZaeSdBUz0hl+STYt61TlF89PZvoyjbYmBDedPXsafD8FznlGxSACUV12eqaZLQV6AWPNbFwUOSQ6NSpl8uzlh1GjUiaXPf0VC9ZsiTqSRGnTSnjmFFg1C857UVcTRSSqq4xedffG7l7R3Q9295OiyCHRql8ji2cvP4x8h4uf/JIVudujjiRR2LAEnu4P6xfABSOgjT4OoqJTRhKpVvWq8szPe7J+y04ufvJL1m3ZGXUkSaY138FT/WDLmqDXUt2BHCkVBIlc58Y1eeLSnixet5VLn/qKjRpHoXz4/uugGOTtgMvegqaHR52o3FNBkJTQ65CDeOSi7sxavpHLn57I1p3q4qJMy/k4aDPIrAw//w806Bx1IkEFQVLIce0O5qHzuzFl8XqueGYS23bmRR1JEmH6K8GlpTWawBXjoE6rqBNJSAVBUsrJnRrwwLldmbBgLVc9N4ntu1QUypQvHobRl0PjnnD5O1C9YdSJJIYKgqScM7o14q9nd+Gz+WtUFMqK/Hz4z60w7lY49LRgcJtKtaJOJXtRQZCUdHaPxtx3Vmc+nbeGK56dqNNHpdnOrTDqEpjwMBx+dXDTWWalqFPkz81qAAAOuklEQVRJAVQQJGWdk92E+8/pwhfz13Lp019pLIXSaNNKeGYAzHoLTvoz9P8LpKVHnUr2QQVBUtrA7o158LxuTF60noue+JLcrboktdRYMQ0ePw5Wzw7uPu51TdSJpBAqCJLyTu3SkEcu7M7M7zcyaPgXrNqoO5pT3qw34cmTwPPh5+9Au5OjTiRxUEGQUqFvh/o8dVlw89rZj37BorXq+ygl5efDx3+BERdBvXYw+CNo2DXqVBInFQQpNfq0rsMLVx7Oxu27OOuRz9VLaqrZvhFGXgwf3wOdz4PL3oZqBQ2JIqlKBUFKlW5NazH66l5UzEhn0GNfMH7u6qgjCcDqOUF7wZx3oN+9cOajkJkVdSopIhUEKXVa1avGK7/sTZPalbn8mYmMmLg46kjl27TRMPxY2L4BLnkdjvglmEWdSg6ACoKUSvVrZDHq6l70blWHm1+Zxr3vzCY/XyOsJtWu7TD2RnjlCqjfCX4xHlocFXUqKQYVBCm1qmVl8tSl2Vx0RFMe/WQ+g5+frHsVkmXNd/DkCTDxCeh1XdBbqbqhKPVUEKRUy0hP40+nd+SPp3fgozmrGPivz1io0dcSxx2mPA+PHQO5y+D8EXDS3ZCeGXUyKQEqCFLqmRmX9GrOc5cfxqpNOzjtn5/y4eyVUccqe7aug5GXwBvXQaPu8MvPoG2/qFNJCVJBkDLjyFZ1ePO6PmFj8yT+Nm4Ou/Pyo45VNswdB/86IriK6IRhQeOxThGVOSoIUqY0qV2ZV37Zm3OzG/PPj+Zx4RMaq7lYtq2H166BF8+FygfBVR9Cn9+oP6IySgVBypyszHTuO7sL95/ThalLc+n/4Hjem6lTSEU26014+HD49mU46kYY/LFGNivjVBCkzDqrR2Pe+lUfGtasxFXPTeL3Y6bqKqR45C6Fly8Mup+oUjc4Kjj+dsioGHUySTAVBCnTDqlblVevOZKrjzmElycuod/fx/P5/DVRx0pNu3fCZw/CPw+DeR8EbQWDP1ZfROWICoKUeRUy0rilfztG/aIXGWnGBY9/ye/HTCN3m7rSBoJLSeeOg0d6w3u3Q4uj4doJQVuBLictV1QQpNzIbl6bd4YczeCjWzJi4mKOv/8TXv9mGe7l+A7n5VPh+TODRmPPhwtGwQUvQ63mUSeTCFhp+mPIzs72SZMmRR1DyoDpy3K59dVpTF2ay+EtanP7qe3p0LBG1LGSZ10OfPRnmDYKKtWEo38HPa+EjApRJ5MEMLPJ7p5d6HIqCFJe5eU7IyYu4a/jZrNh2y7O6dGY35zYhgY1yvB4v+ty4L/3wzcvQXoFOOJqOPLXQVGQMksFQSROuVt38Y8Pv+O5LxZhBhcd0YyrjzmEutXK0FU1K6bBZw/B9NGQlgnZPw/aCDReQbmggiBSREvWbeXv73/Hq18vpUJGGucf1pQrj2pJo5ql9IghPw++excmPAILPoEKVaHHZdD7ehWCckYFQeQA5azezL8+ns+rXy/DgJM7NeDS3s3p3rQmVhr6+c9dBt+8CFOeg9zFUL1R0D6QfblODZVTKV0QzOyvwKnATmA+8HN331DY61QQJJmWbdjGU58uYMTEJWzesZtDG1TnvJ5NOK1LQ2pVCRpfx+aM5cEpD7JiywrqV6nPkO5DGNByQPLDbtsAs8cGjcQ5HwMeXD7a80poe7IuHy3nUr0g9AU+dPfdZvYXAHe/ubDXqSBIFDbv2M2rXy/j5a8WM+P7jWSmG0e1rkuTJrMYu/wf7Mj7X19JWelZDOs9LDlFYcOS4JTQnLch5xPI3wU1m0HnQdD1AqjdIvEZpFRI6YLwowBmZwJnu/uFhS2rgiBRm/n9Rl77Zhljpy5nw0F3kFbhpwe2Dao04N2z3y3ZDbvDhkWwZCIs/hwWjIe184J5tZpDu1Ogw5nQqIeGr5SfKE0F4U1ghLv/ex/zBwODAZo2bdpj0aJFyYwnUiB3p/NzXYCf/v2Yw9TqvaBuOzioFdRsGpzHr1x7/72EusP2XNi8EnKXwPqFsGYerJoZXCW0bV2wXIVq0PQIaPkzaN0X6rRWEZD9ircgZCQwwPtAQZcyDHX318NlhgK7gRf2tR53Hw4Mh+AIIQFRRYrMzGhQpT7Ltyz/ybz6lhF8g586Yq8XpUHF6lCxWtBRnKUFRSBvB+zcAts3Bqd9YmVWgbpt4NBToEEXaNwT6nWA9IT96Uo5lrB3lbufsL/5ZnYpcApwvEd9mCJyAIZ0H8Kwz4exfa82hCG9h0HLAcEH/Lr5wbn+TStgy6rgCGDHZti9PegqwgzSK0KFykGxqFIHqjUIBp+p2Sx4nqYeZiQ5IvmaYWb9gJuBY9x9axQZRIprT8PxPq8yyqoODbsFD5FSIKqrjOYBFYG14aQJ7n51Ya9To7KISNFF3oawP+7eKortiojIvunkpIiIACoIIiISUkEQERFABUFEREIqCCIiAqggiIhIKPK+jIrCzFYDB9qZUR1gTQnGKSnKVTTKVTTKVTSpmguKl62Zu9ctbKFSVRCKw8wmxXNjRrIpV9EoV9EoV9Gkai5ITjadMhIREUAFQUREQuWpIAyPOsA+KFfRKFfRKFfRpGouSEK2ctOGICIi+1eejhBERGQ/VBBERAQoIwXBzPqZ2Rwzm2dmtxQwv6KZjQjnf2lmzWPm/T6cPsfMTkpyrhvMbKaZTTWzD8ysWcy8PDP7Jny8keRcl5nZ6pjtXxkz71Iz+y58XJrkXP8Xk2mumW2ImZeQ/WVmT5nZKjObvo/5ZmYPhZmnmln3mHmJ3FeF5bowzDPVzD43sy4x8xaa2bRwX5XoACNx5PqZmeXG/K5uj5m3399/gnP9NibT9PD9VDucl8j91cTMPjKzWWY2w8yGFLBM8t5j7l6qH0A6MB9oCVQAvgXa77XMNcCj4fPzgBHh8/bh8hWBFuF60pOY61igcvj8l3tyhT9vjnB/XQb8s4DX1gZywn9rhc9rJSvXXstfDzyVhP11NNAdmL6P+ScD7wAGHAF8meh9FWeu3nu2B/Tfkyv8eSFQJ6L99TPgreL+/ks6117Lngp8mKT91QDoHj6vBswt4O8xae+xsnCEcBgwz91z3H0n8DJw+l7LnA48Gz4fDRxvZhZOf9ndd7j7AmBeuL6k5HL3j/x/Q4hOABqX0LaLlWs/TgLec/d17r4eeA/oF1Gu84GXSmjb++Tu44F1+1nkdOA5D0wAappZAxK7rwrN5e6fh9uF5L234tlf+1Kc92VJ50rKewvA3Ze7+5Tw+SZgFtBor8WS9h4rCwWhEbAk5uel/HSH/rCMu+8GcoGD4nxtInPFuoLgW8AeWWY2ycwmmNkZJZSpKLnOCg9PR5tZkyK+NpG5CE+ttQA+jJmcqP1VmH3lTuS+Kqq931sOvGtmk81scAR5epnZt2b2jpl1CKelxP4ys8oEH6qvxExOyv6y4FR2N+DLvWYl7T0WyRCaJcwKmLb3tbT7Wiae1x6ouNdtZhcB2cAxMZObuvv3ZtYS+NDMprn7/CTlehN4yd13mNnVBEdXx8X52kTm2uM8YLS758VMS9T+KkwU7624mdmxBAWhT8zkI8N9VQ94z8xmh9+gk2EKQb86m83sZOA1oDUpsr8IThd95u6xRxMJ319mVpWgCP3a3TfuPbuAlyTkPVYWjhCWAk1ifm4MfL+vZcwsA6hBcPgYz2sTmQszOwEYCpzm7jv2THf378N/c4CPCb45JCWXu6+NyfI40CPe1yYyV4zz2OuQPoH7qzD7yp3IfRUXM+sMPAGc7u5r90yP2VergFcpudOkhXL3je6+OXz+NpBpZnVIgf0V2t97KyH7y8wyCYrBC+4+poBFkvceS0RDSTIfBEc5OQSnEPY0RnXYa5lr+XGj8sjweQd+3KicQ8k1KseTqxtBQ1rrvabXAiqGz+sA31FCDWxx5moQ8/xMYIL/rxFrQZivVvi8drJyhcu1JWjks2Tsr3Cdzdl3I+kAftzg91Wi91WcuZoStIn13mt6FaBazPPPgX5JzFV/z++O4IN1cbjv4vr9JypXOH/PF8Uqydpf4f/9OeDv+1kmae+xEtvZUT4IWuHnEny4Dg2n/ZHgWzdAFjAq/AP5CmgZ89qh4evmAP2TnOt9YCXwTfh4I5zeG5gW/lFMA65Icq4/AzPC7X8EtIt57eXhfpwH/DyZucKfhwH37vW6hO0vgm+Ly4FdBN/IrgCuBq4O5xvwcJh5GpCdpH1VWK4ngPUx761J4fSW4X76NvwdD01yruti3lsTiClYBf3+k5UrXOYygotMYl+X6P3Vh+A0z9SY39XJUb3H1HWFiIgAZaMNQURESoAKgoiIACoIIiISUkEQERFABUFEREIqCCIlxMyGmdlNUecQOVAqCCIiAqggSDllZj3DzvuyzKxK2Bd9x5j5NcJ+8NPCnyub2RIzyzSzq8xsYthB2ythh2h7r/9jM8sOn9cxs4Xh83Qz+2v4+qlm9otwegMzGx/TH/9RSdkRIjFUEKRccveJwBvAXcB9wL/dfXrM/FyCu1P3dDh4KjDO3XcBY9y9p7t3Ieiu+IoibPoKINfdewI9gavMrAVwQbj+rkAXgjtWRZKqLPR2KnKg/ghMBLYDvypg/ghgEEH3HecB/wqndzSzu4CaQFVgXBG22RfobGZnhz/XIOjtcyLwVNjR2WvuroIgSacjBCnPahN8oFcjGE/h7j3DKIbz3wD6h0Mp9uB/4y88A1zn7p2AOwn6ytrbbv739xU734Dr3b1r+Gjh7u960J3y0cAy4Hkzu6Tk/psi8VFBkPJsOHAb8ALwF3cfuueDGsCDbpq/Ah4kGPZxz/gL1YDl4bf5C/ex7oX8r9vws2OmjwN+Gb4WM2sTtmE0A1a5++PAkwTDPYoklU4ZSbkUfgPf7e4vmlk68LmZHefuH+616AiCnnJ/FjPtNoJRrRYR9D5ZrYBN/A0YaWYX8+OR3Z4g6IZ5SjiM62rgjHD9vzWzXcBmQEcIknTq7VRERACdMhIRkZAKgoiIACoIIiISUkEQERFABUFEREIqCCIiAqggiIhI6P8Bww8j6dxSEyoAAAAASUVORK5CYII=\n",
      "text/plain": [
       "<Figure size 432x288 with 1 Axes>"
      ]
     },
     "metadata": {
      "needs_background": "light"
     },
     "output_type": "display_data"
    }
   ],
   "source": [
    "x = [0, 1, 2]\n",
    "y = [3, -2, 1]\n",
    "\n",
    "coeff = spline_coeff(x, y)\n",
    "eqs = get_spline_equation(x, y, coeff)\n",
    "print('***************************')\n",
    "print('Coefficients:')\n",
    "print(coeff)\n",
    "print('\\n***************************')\n",
    "print('Equations:')\n",
    "print(eqs)\n",
    "print('\\n***************************')\n",
    "\n",
    "get_spline_graph(x, y, 100)"
   ]
  },
  {
   "cell_type": "markdown",
   "metadata": {},
   "source": [
    "<strong>Example 2:</strong> Find the equations and plot the natural cubic spline that interpolates the data:<br>\n",
    "<strong>(a)</strong> (0,3), (1,5), (2,4), (3,1)<br>\n",
    "<strong>(b)</strong> (-1,3), (0,5), (3,1), (4,1), (5,1)\n",
    "\n"
   ]
  },
  {
   "cell_type": "markdown",
   "metadata": {},
   "source": [
    "Solution for part (a):"
   ]
  },
  {
   "cell_type": "code",
   "execution_count": 14,
   "metadata": {},
   "outputs": [
    {
     "name": "stdout",
     "output_type": "stream",
     "text": [
      "***************************\n",
      "Coefficients:\n",
      "[[ 2.66666667  0.         -0.66666667]\n",
      " [ 0.66666667 -2.          0.33333333]\n",
      " [-2.33333333 -1.          0.33333333]]\n",
      "\n",
      "***************************\n",
      "Equations:\n",
      "[-0.666666666666667*t**3 + 2.66666666666667*t + 3, 0.666666666666667*t + 0.333333333333333*(t - 1.0)**3 - 2.0*(t - 1.0)**2 + 4.33333333333333, -2.33333333333333*t + 0.333333333333333*(t - 2.0)**3 - 1.0*(t - 2.0)**2 + 8.66666666666667]\n",
      "\n",
      "***************************\n"
     ]
    },
    {
     "data": {
      "image/png": "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\n",
      "text/plain": [
       "<Figure size 432x288 with 1 Axes>"
      ]
     },
     "metadata": {
      "needs_background": "light"
     },
     "output_type": "display_data"
    }
   ],
   "source": [
    "x1 = np.linspace(0,3,4)\n",
    "y1 = np.array([3,5,4,1])\n",
    "\n",
    "coeff1 = spline_coeff(x1, y1)\n",
    "eqs1 = get_spline_equation(x1, y1, coeff1)\n",
    "print('***************************')\n",
    "print('Coefficients:')\n",
    "print(coeff1)\n",
    "print('\\n***************************')\n",
    "print('Equations:')\n",
    "print(eqs1)\n",
    "print('\\n***************************')\n",
    "\n",
    "get_spline_graph(x1, y1, 100)"
   ]
  },
  {
   "cell_type": "markdown",
   "metadata": {},
   "source": [
    "Solution for part (b):"
   ]
  },
  {
   "cell_type": "code",
   "execution_count": 15,
   "metadata": {},
   "outputs": [
    {
     "name": "stdout",
     "output_type": "stream",
     "text": [
      "***************************\n",
      "Coefficients:\n",
      "[[ 2.56289308  0.         -0.56289308]\n",
      " [ 0.87421384 -1.68867925  0.31761006]\n",
      " [-0.68238994  1.16981132 -0.48742138]\n",
      " [ 0.19496855 -0.29245283  0.09748428]]\n",
      "\n",
      "***************************\n",
      "Equations:\n",
      "[2.56289308176101*t - 0.562893081761006*(t + 1)**3 + 5.56289308176101, 0.317610062893082*t**3 - 1.68867924528302*t**2 + 0.874213836477987*t + 5, -0.682389937106918*t - 0.487421383647799*(t - 3)**3 + 1.16981132075472*(t - 3)**2 + 3.04716981132075, 0.194968553459119*t + 0.0974842767295597*(t - 4)**3 - 0.292452830188679*(t - 4)**2 + 0.220125786163522]\n",
      "\n",
      "***************************\n"
     ]
    },
    {
     "data": {
      "image/png": "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\n",
      "text/plain": [
       "<Figure size 432x288 with 1 Axes>"
      ]
     },
     "metadata": {
      "needs_background": "light"
     },
     "output_type": "display_data"
    }
   ],
   "source": [
    "x2 = np.array([-1,0,3,4,5])\n",
    "y2 = np.array([3,5,1,1,1])\n",
    "\n",
    "coeff2 = spline_coeff(x2, y2)\n",
    "eqs2 = get_spline_equation(x2, y2, coeff2)\n",
    "print('***************************')\n",
    "print('Coefficients:')\n",
    "print(coeff2)\n",
    "print('\\n***************************')\n",
    "print('Equations:')\n",
    "print(eqs2)\n",
    "print('\\n***************************')\n",
    "\n",
    "get_spline_graph(x2, y2, 100)"
   ]
  },
  {
   "cell_type": "code",
   "execution_count": null,
   "metadata": {},
   "outputs": [],
   "source": []
  }
 ],
 "metadata": {
  "kernelspec": {
   "display_name": "Python 3",
   "language": "python",
   "name": "python3"
  },
  "language_info": {
   "codemirror_mode": {
    "name": "ipython",
    "version": 3
   },
   "file_extension": ".py",
   "mimetype": "text/x-python",
   "name": "python",
   "nbconvert_exporter": "python",
   "pygments_lexer": "ipython3",
   "version": "3.7.2"
  }
 },
 "nbformat": 4,
 "nbformat_minor": 2
}
