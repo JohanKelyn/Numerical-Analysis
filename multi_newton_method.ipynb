{
 "cells": [
  {
   "cell_type": "code",
   "execution_count": 150,
   "metadata": {},
   "outputs": [],
   "source": [
    "import numpy as np\n",
    "from scipy import linalg\n",
    "from sympy import *\n",
    "from sympy.utilities.lambdify import lambdify"
   ]
  },
  {
   "cell_type": "code",
   "execution_count": 151,
   "metadata": {
    "collapsed": true
   },
   "outputs": [],
   "source": [
    "def func(f1,f2,x0):\n",
    "    f1_num = lambdify((u,v),f1)\n",
    "    f2_num = lambdify((u,v),f2)\n",
    "    return np.array([f1_num(x0[0],x0[1]),f2_num(x0[0],x0[1])])\n",
    "    "
   ]
  },
  {
   "cell_type": "code",
   "execution_count": 152,
   "metadata": {
    "collapsed": true
   },
   "outputs": [],
   "source": [
    "def dfunc(f1,f2,x0):\n",
    "    df1du = diff(f1,u)\n",
    "    df1dv = diff(f1,v)\n",
    "    df2du = diff(f2,u)\n",
    "    df2dv = diff(f2,v)\n",
    "\n",
    "    A_num = lambdify((u,v), Matrix([[df1du, df1dv],[df2du, df2dv]]))\n",
    "    return A_num(x0[0],x0[1])"
   ]
  },
  {
   "cell_type": "code",
   "execution_count": 153,
   "metadata": {},
   "outputs": [],
   "source": [
    "def mult_newton_method(f1,f2,x0):\n",
    "    tol = 1\n",
    "    i = 0\n",
    "    x = list()\n",
    "    x.append(x0)\n",
    "    A = dfunc(f1,f2,x[i])\n",
    "    while tol > 10**-6:    \n",
    "        f = np.array(func(f1,f2,x[i]))\n",
    "        A = dfunc(f1,f2,x[i])\n",
    "        s = linalg.solve(A,-1*f)\n",
    "        x.append(s+x[i])\n",
    "        tol = linalg.norm(x[i+1] - x[i])\n",
    "        i += 1\n",
    "    return np.array(x)\n",
    "        "
   ]
  },
  {
   "cell_type": "code",
   "execution_count": 154,
   "metadata": {},
   "outputs": [
    {
     "data": {
      "text/plain": [
       "array([[ 1.        ,  2.        ],\n",
       "       [ 1.        ,  1.        ],\n",
       "       [ 0.875     ,  0.625     ],\n",
       "       [ 0.82903635,  0.56434911],\n",
       "       [ 0.82604011,  0.56361977],\n",
       "       [ 0.82603136,  0.56362416],\n",
       "       [ 0.82603136,  0.56362416]])"
      ]
     },
     "execution_count": 154,
     "metadata": {},
     "output_type": "execute_result"
    }
   ],
   "source": [
    "u, v = symbols('u v')\n",
    "f1 = v - u**3\n",
    "f2 = u**2 + v**2 - 1\n",
    "x0 = np.array([1,2])\n",
    "x = mult_newton_method(f1,f2,x0)\n",
    "x"
   ]
  },
  {
   "cell_type": "code",
   "execution_count": 155,
   "metadata": {},
   "outputs": [
    {
     "data": {
      "text/plain": [
       "array([[ 2.        ,  2.        ],\n",
       "       [ 1.37258065,  1.34032258],\n",
       "       [ 1.07838681,  1.05380123],\n",
       "       [ 1.00534969,  1.00269262],\n",
       "       [ 1.00003368,  1.00002244],\n",
       "       [ 1.        ,  1.        ],\n",
       "       [ 1.        ,  1.        ]])"
      ]
     },
     "execution_count": 155,
     "metadata": {},
     "output_type": "execute_result"
    }
   ],
   "source": [
    "f1 = 6*u**3 + u*v - 3*v**3 - 4\n",
    "f2 = u**2 - 18*u*v**2 + 16*v**3 + 1 \n",
    "x0 = np.array([2,2])\n",
    "x = mult_newton_method(f1,f2,x0)\n",
    "x"
   ]
  },
  {
   "cell_type": "code",
   "execution_count": null,
   "metadata": {
    "collapsed": true
   },
   "outputs": [],
   "source": []
  }
 ],
 "metadata": {
  "kernelspec": {
   "display_name": "Python 3",
   "language": "python",
   "name": "python3"
  },
  "language_info": {
   "codemirror_mode": {
    "name": "ipython",
    "version": 3
   },
   "file_extension": ".py",
   "mimetype": "text/x-python",
   "name": "python",
   "nbconvert_exporter": "python",
   "pygments_lexer": "ipython3",
   "version": "3.6.1"
  }
 },
 "nbformat": 4,
 "nbformat_minor": 2
}
